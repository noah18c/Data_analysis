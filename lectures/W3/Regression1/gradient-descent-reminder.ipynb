{
 "cells": [
  {
   "cell_type": "markdown",
   "id": "b317ccf6",
   "metadata": {},
   "source": [
    "## Data Analysis\n",
    "\n",
    "## Gradient Descent motivation: Minimizing an Arbitrary 1D Function"
   ]
  },
  {
   "cell_type": "code",
   "execution_count": 4,
   "id": "2abdc410",
   "metadata": {},
   "outputs": [],
   "source": [
    "import pandas as pd\n",
    "import seaborn as sns\n",
    "import plotly.express as px\n",
    "import matplotlib.pyplot as plt\n",
    "import numpy as np"
   ]
  },
  {
   "cell_type": "markdown",
   "id": "277ccb4a",
   "metadata": {},
   "source": [
    "Suppose we want to find the minimum of the arbitrary function given below:"
   ]
  },
  {
   "cell_type": "code",
   "execution_count": 5,
   "id": "6ad83aa2",
   "metadata": {},
   "outputs": [
    {
     "data": {
      "application/vnd.plotly.v1+json": {
       "config": {
        "plotlyServerURL": "https://plot.ly"
       },
       "data": [
        {
         "hovertemplate": "x=%{x}<br>y=%{y}<extra></extra>",
         "legendgroup": "",
         "line": {
          "color": "#636efa",
          "dash": "solid"
         },
         "marker": {
          "symbol": "circle"
         },
         "mode": "lines",
         "name": "",
         "orientation": "v",
         "showlegend": false,
         "type": "scatter",
         "x": [
          1,
          1.028894472361809,
          1.0577889447236182,
          1.0866834170854272,
          1.1155778894472361,
          1.1444723618090453,
          1.1733668341708543,
          1.2022613065326633,
          1.2311557788944723,
          1.2600502512562815,
          1.2889447236180904,
          1.3178391959798996,
          1.3467336683417086,
          1.3756281407035176,
          1.4045226130653266,
          1.4334170854271358,
          1.4623115577889447,
          1.4912060301507537,
          1.520100502512563,
          1.5489949748743719,
          1.5778894472361809,
          1.6067839195979898,
          1.635678391959799,
          1.664572864321608,
          1.6934673366834172,
          1.7223618090452262,
          1.7512562814070352,
          1.7801507537688441,
          1.8090452261306533,
          1.8379396984924623,
          1.8668341708542715,
          1.8957286432160805,
          1.9246231155778895,
          1.9535175879396984,
          1.9824120603015074,
          2.0113065326633164,
          2.040201005025126,
          2.069095477386935,
          2.0979899497487438,
          2.1268844221105527,
          2.1557788944723617,
          2.184673366834171,
          2.2135678391959797,
          2.242462311557789,
          2.271356783919598,
          2.300251256281407,
          2.329145728643216,
          2.358040201005025,
          2.3869346733668344,
          2.415829145728643,
          2.4447236180904524,
          2.4736180904522613,
          2.5025125628140703,
          2.5314070351758797,
          2.5603015075376883,
          2.5891959798994977,
          2.6180904522613067,
          2.6469849246231156,
          2.6758793969849246,
          2.7047738693467336,
          2.733668341708543,
          2.7625628140703515,
          2.791457286432161,
          2.82035175879397,
          2.849246231155779,
          2.878140703517588,
          2.907035175879397,
          2.9359296482412063,
          2.964824120603015,
          2.9937185929648242,
          3.022613065326633,
          3.051507537688442,
          3.080402010050251,
          3.10929648241206,
          3.1381909547738696,
          3.1670854271356785,
          3.1959798994974875,
          3.2248743718592965,
          3.2537688442211055,
          3.2826633165829144,
          3.3115577889447234,
          3.340452261306533,
          3.369346733668342,
          3.398241206030151,
          3.4271356783919598,
          3.4560301507537687,
          3.4849246231155777,
          3.513819095477387,
          3.542713567839196,
          3.571608040201005,
          3.600502512562814,
          3.629396984924623,
          3.658291457286432,
          3.6871859296482414,
          3.7160804020100504,
          3.7449748743718594,
          3.7738693467336684,
          3.8027638190954773,
          3.8316582914572863,
          3.8605527638190953,
          3.8894472361809047,
          3.9183417085427137,
          3.9472361809045227,
          3.9761306532663316,
          4.005025125628141,
          4.03391959798995,
          4.0628140703517595,
          4.091708542713568,
          4.1206030150753765,
          4.149497487437186,
          4.178391959798995,
          4.207286432160804,
          4.236180904522613,
          4.265075376884422,
          4.293969849246231,
          4.322864321608041,
          4.351758793969849,
          4.380653266331658,
          4.409547738693467,
          4.438442211055277,
          4.467336683417086,
          4.4962311557788945,
          4.525125628140703,
          4.5540201005025125,
          4.582914572864322,
          4.611809045226131,
          4.64070351758794,
          4.669597989949748,
          4.698492462311558,
          4.727386934673367,
          4.756281407035176,
          4.785175879396984,
          4.814070351758794,
          4.842964824120603,
          4.871859296482413,
          4.900753768844221,
          4.92964824120603,
          4.958542713567839,
          4.9874371859296485,
          5.016331658291457,
          5.045226130653266,
          5.074120603015076,
          5.103015075376884,
          5.131909547738694,
          5.160804020100502,
          5.189698492462312,
          5.21859296482412,
          5.24748743718593,
          5.276381909547739,
          5.305276381909548,
          5.334170854271357,
          5.363065326633166,
          5.391959798994975,
          5.4208542713567835,
          5.449748743718593,
          5.478643216080402,
          5.507537688442211,
          5.53643216080402,
          5.565326633165829,
          5.594221105527638,
          5.623115577889447,
          5.652010050251256,
          5.680904522613066,
          5.709798994974874,
          5.738693467336684,
          5.767587939698492,
          5.796482412060302,
          5.825376884422111,
          5.8542713567839195,
          5.883165829145729,
          5.9120603015075375,
          5.940954773869347,
          5.969849246231155,
          5.998743718592965,
          6.027638190954774,
          6.056532663316583,
          6.085427135678392,
          6.114321608040201,
          6.14321608040201,
          6.172110552763819,
          6.201005025125628,
          6.2298994974874375,
          6.258793969849246,
          6.2876884422110555,
          6.316582914572864,
          6.3454773869346734,
          6.374371859296483,
          6.403266331658291,
          6.432160804020101,
          6.461055276381909,
          6.489949748743719,
          6.518844221105527,
          6.547738693467337,
          6.576633165829146,
          6.605527638190955,
          6.634422110552764,
          6.663316582914573,
          6.692211055276382,
          6.721105527638191,
          6.75
         ],
         "xaxis": "x",
         "y": [
          3,
          2.8271403033891844,
          2.6609684684471473,
          2.5013277879643625,
          2.348063227632582,
          2.201021426044849,
          2.0600506946954895,
          1.9250010179801194,
          1.795724053195633,
          1.6720731305402154,
          1.553903253113333,
          1.4410710969157379,
          1.3334350108494675,
          1.2308550167178567,
          1.1331928092255055,
          1.0403117559783055,
          0.9520768974834481,
          0.8683549471493904,
          0.7890142912858835,
          0.7139249891039583,
          0.6429587727159458,
          0.5759890471354538,
          0.5128908902773646,
          0.45354105295785985,
          0.39781795889439875,
          0.34560170470573154,
          0.2967740599118883,
          0.2512184669341934,
          0.20882004109524815,
          0.1694655706189394,
          0.1330435166304426,
          0.09944401315621007,
          0.06855886712399695,
          0.04028155836282963,
          0.014507239603017297,
          -0.00886726352383107,
          -0.029943452484837964,
          -0.048821155845820384,
          -0.06559852927133533,
          -0.08037205552463149,
          -0.0932365444676833,
          -0.10428513306118248,
          -0.11360928536452661,
          -0.12129879253583908,
          -0.127441772831952,
          -0.13212467160839764,
          -0.1354322613194654,
          -0.13744764151809932,
          -0.1382522388560119,
          -0.13792580708358743,
          -0.13654642704997286,
          -0.13419050670298133,
          -0.1309327810891716,
          -0.1268463123538197,
          -0.12200248974088482,
          -0.1164710295930604,
          -0.11031997535176288,
          -0.10361569755713163,
          -0.09642289384797209,
          -0.08880458896185814,
          -0.0808221347350468,
          -0.0725352101025237,
          -0.06400182109798606,
          -0.05527830085384835,
          -0.046419309601230904,
          -0.03747783466996566,
          -0.028505190488624522,
          -0.01955101858448529,
          -0.010663287583520286,
          -0.0018882932104133943,
          0.006729341711400138,
          0.015146667259796232,
          0.023322406413939234,
          0.03121695505426487,
          0.038792381962491615,
          0.04601242882164911,
          0.05284251021600994,
          0.05924971363119198,
          0.06520279945402194,
          0.07067220097268319,
          0.07563002437662476,
          0.0800500487565273,
          0.08390772610443946,
          0.0871801813136301,
          0.08984621217869063,
          0.09188628939550654,
          0.09328255656118926,
          0.0940188301741955,
          0.09408059963424194,
          0.09345502724233938,
          0.09213094820077003,
          0.09009887061313293,
          0.08735097548426438,
          0.08388111672030618,
          0.07968482112872835,
          0.07475928841821541,
          0.06910339119879154,
          0.06271767498175222,
          0.05560435817965299,
          0.047767332106332105,
          0.03921216097697879,
          0.029946081907974077,
          0.019978004917095404,
          0.009318512923277922,
          -0.00202013825312406,
          -0.014024019890621275,
          -0.026677530366259816,
          -0.03996339515595082,
          -0.05386266683433405,
          -0.06835472507460735,
          -0.08341727664876544,
          -0.0990263554275657,
          -0.11515632238042599,
          -0.13177986557552684,
          -0.14886800017964105,
          -0.16639006845849735,
          -0.18431373977624615,
          -0.2026050105959257,
          -0.22122820447929142,
          -0.24014597208674787,
          -0.25931929117745084,
          -0.2787074666092394,
          -0.2982681303387835,
          -0.3179572414212771,
          -0.33772908601077917,
          -0.35753627735997495,
          -0.37732975582036943,
          -0.3970587888420482,
          -0.4166709709738825,
          -0.43611222386351756,
          -0.4553267962571681,
          -0.47425726399990253,
          -0.492844530035461,
          -0.5110278244061874,
          -0.5287447042533359,
          -0.5459310538167529,
          -0.5625210844349908,
          -0.5784473345453762,
          -0.5936406696839527,
          -0.6080302824853675,
          -0.6215436926831444,
          -0.6341067471093993,
          -0.6456436196950108,
          -0.6560768114695634,
          -0.6653271505614157,
          -0.6733137921974617,
          -0.6799542187035627,
          -0.6851642395040585,
          -0.6888579911222678,
          -0.6909479371798852,
          -0.6913448683975844,
          -0.6899579025946195,
          -0.686694484689076,
          -0.6814603866977222,
          -0.6741597077359416,
          -0.6646948740179368,
          -0.6529666388565147,
          -0.6388740826633352,
          -0.6223146129486622,
          -0.6031839643215904,
          -0.581376198489761,
          -0.556783704259658,
          -0.5292971975365163,
          -0.4988057213241973,
          -0.4651966457252229,
          -0.428355667940923,
          -0.3881668122714245,
          -0.34451243011535554,
          -0.2972731999702091,
          -0.2463281274321389,
          -0.19155454519611795,
          -0.13282811305564338,
          -0.0700228179029864,
          -0.0030109737293514626,
          0.06833677837564664,
          0.14415147022350538,
          0.22456580652710728,
          0.30971416490051523,
          0.39973259585915455,
          0.49475882281965367,
          0.5949322420999351,
          0.7003939229194657,
          0.8112866073985288,
          0.9277547105591566,
          1.0499443203244028,
          1.178003197518592,
          1.312080775867321,
          1.452328161997866,
          1.5988981354381622,
          1.751945148618006,
          1.9116253268680112,
          2.0780964684203127,
          2.251518044408317,
          2.432051198866816,
          2.6198587487316445,
          2.8151051838401147,
          3.0179566669307176,
          3.228581033643286,
          3.447147792518854,
          3.673828125
         ],
         "yaxis": "y"
        }
       ],
       "layout": {
        "font": {
         "size": 16
        },
        "legend": {
         "tracegroupgap": 0
        },
        "margin": {
         "t": 60
        },
        "template": {
         "data": {
          "bar": [
           {
            "error_x": {
             "color": "#2a3f5f"
            },
            "error_y": {
             "color": "#2a3f5f"
            },
            "marker": {
             "line": {
              "color": "#E5ECF6",
              "width": 0.5
             },
             "pattern": {
              "fillmode": "overlay",
              "size": 10,
              "solidity": 0.2
             }
            },
            "type": "bar"
           }
          ],
          "barpolar": [
           {
            "marker": {
             "line": {
              "color": "#E5ECF6",
              "width": 0.5
             },
             "pattern": {
              "fillmode": "overlay",
              "size": 10,
              "solidity": 0.2
             }
            },
            "type": "barpolar"
           }
          ],
          "carpet": [
           {
            "aaxis": {
             "endlinecolor": "#2a3f5f",
             "gridcolor": "white",
             "linecolor": "white",
             "minorgridcolor": "white",
             "startlinecolor": "#2a3f5f"
            },
            "baxis": {
             "endlinecolor": "#2a3f5f",
             "gridcolor": "white",
             "linecolor": "white",
             "minorgridcolor": "white",
             "startlinecolor": "#2a3f5f"
            },
            "type": "carpet"
           }
          ],
          "choropleth": [
           {
            "colorbar": {
             "outlinewidth": 0,
             "ticks": ""
            },
            "type": "choropleth"
           }
          ],
          "contour": [
           {
            "colorbar": {
             "outlinewidth": 0,
             "ticks": ""
            },
            "colorscale": [
             [
              0,
              "#0d0887"
             ],
             [
              0.1111111111111111,
              "#46039f"
             ],
             [
              0.2222222222222222,
              "#7201a8"
             ],
             [
              0.3333333333333333,
              "#9c179e"
             ],
             [
              0.4444444444444444,
              "#bd3786"
             ],
             [
              0.5555555555555556,
              "#d8576b"
             ],
             [
              0.6666666666666666,
              "#ed7953"
             ],
             [
              0.7777777777777778,
              "#fb9f3a"
             ],
             [
              0.8888888888888888,
              "#fdca26"
             ],
             [
              1,
              "#f0f921"
             ]
            ],
            "type": "contour"
           }
          ],
          "contourcarpet": [
           {
            "colorbar": {
             "outlinewidth": 0,
             "ticks": ""
            },
            "type": "contourcarpet"
           }
          ],
          "heatmap": [
           {
            "colorbar": {
             "outlinewidth": 0,
             "ticks": ""
            },
            "colorscale": [
             [
              0,
              "#0d0887"
             ],
             [
              0.1111111111111111,
              "#46039f"
             ],
             [
              0.2222222222222222,
              "#7201a8"
             ],
             [
              0.3333333333333333,
              "#9c179e"
             ],
             [
              0.4444444444444444,
              "#bd3786"
             ],
             [
              0.5555555555555556,
              "#d8576b"
             ],
             [
              0.6666666666666666,
              "#ed7953"
             ],
             [
              0.7777777777777778,
              "#fb9f3a"
             ],
             [
              0.8888888888888888,
              "#fdca26"
             ],
             [
              1,
              "#f0f921"
             ]
            ],
            "type": "heatmap"
           }
          ],
          "heatmapgl": [
           {
            "colorbar": {
             "outlinewidth": 0,
             "ticks": ""
            },
            "colorscale": [
             [
              0,
              "#0d0887"
             ],
             [
              0.1111111111111111,
              "#46039f"
             ],
             [
              0.2222222222222222,
              "#7201a8"
             ],
             [
              0.3333333333333333,
              "#9c179e"
             ],
             [
              0.4444444444444444,
              "#bd3786"
             ],
             [
              0.5555555555555556,
              "#d8576b"
             ],
             [
              0.6666666666666666,
              "#ed7953"
             ],
             [
              0.7777777777777778,
              "#fb9f3a"
             ],
             [
              0.8888888888888888,
              "#fdca26"
             ],
             [
              1,
              "#f0f921"
             ]
            ],
            "type": "heatmapgl"
           }
          ],
          "histogram": [
           {
            "marker": {
             "pattern": {
              "fillmode": "overlay",
              "size": 10,
              "solidity": 0.2
             }
            },
            "type": "histogram"
           }
          ],
          "histogram2d": [
           {
            "colorbar": {
             "outlinewidth": 0,
             "ticks": ""
            },
            "colorscale": [
             [
              0,
              "#0d0887"
             ],
             [
              0.1111111111111111,
              "#46039f"
             ],
             [
              0.2222222222222222,
              "#7201a8"
             ],
             [
              0.3333333333333333,
              "#9c179e"
             ],
             [
              0.4444444444444444,
              "#bd3786"
             ],
             [
              0.5555555555555556,
              "#d8576b"
             ],
             [
              0.6666666666666666,
              "#ed7953"
             ],
             [
              0.7777777777777778,
              "#fb9f3a"
             ],
             [
              0.8888888888888888,
              "#fdca26"
             ],
             [
              1,
              "#f0f921"
             ]
            ],
            "type": "histogram2d"
           }
          ],
          "histogram2dcontour": [
           {
            "colorbar": {
             "outlinewidth": 0,
             "ticks": ""
            },
            "colorscale": [
             [
              0,
              "#0d0887"
             ],
             [
              0.1111111111111111,
              "#46039f"
             ],
             [
              0.2222222222222222,
              "#7201a8"
             ],
             [
              0.3333333333333333,
              "#9c179e"
             ],
             [
              0.4444444444444444,
              "#bd3786"
             ],
             [
              0.5555555555555556,
              "#d8576b"
             ],
             [
              0.6666666666666666,
              "#ed7953"
             ],
             [
              0.7777777777777778,
              "#fb9f3a"
             ],
             [
              0.8888888888888888,
              "#fdca26"
             ],
             [
              1,
              "#f0f921"
             ]
            ],
            "type": "histogram2dcontour"
           }
          ],
          "mesh3d": [
           {
            "colorbar": {
             "outlinewidth": 0,
             "ticks": ""
            },
            "type": "mesh3d"
           }
          ],
          "parcoords": [
           {
            "line": {
             "colorbar": {
              "outlinewidth": 0,
              "ticks": ""
             }
            },
            "type": "parcoords"
           }
          ],
          "pie": [
           {
            "automargin": true,
            "type": "pie"
           }
          ],
          "scatter": [
           {
            "fillpattern": {
             "fillmode": "overlay",
             "size": 10,
             "solidity": 0.2
            },
            "type": "scatter"
           }
          ],
          "scatter3d": [
           {
            "line": {
             "colorbar": {
              "outlinewidth": 0,
              "ticks": ""
             }
            },
            "marker": {
             "colorbar": {
              "outlinewidth": 0,
              "ticks": ""
             }
            },
            "type": "scatter3d"
           }
          ],
          "scattercarpet": [
           {
            "marker": {
             "colorbar": {
              "outlinewidth": 0,
              "ticks": ""
             }
            },
            "type": "scattercarpet"
           }
          ],
          "scattergeo": [
           {
            "marker": {
             "colorbar": {
              "outlinewidth": 0,
              "ticks": ""
             }
            },
            "type": "scattergeo"
           }
          ],
          "scattergl": [
           {
            "marker": {
             "colorbar": {
              "outlinewidth": 0,
              "ticks": ""
             }
            },
            "type": "scattergl"
           }
          ],
          "scattermapbox": [
           {
            "marker": {
             "colorbar": {
              "outlinewidth": 0,
              "ticks": ""
             }
            },
            "type": "scattermapbox"
           }
          ],
          "scatterpolar": [
           {
            "marker": {
             "colorbar": {
              "outlinewidth": 0,
              "ticks": ""
             }
            },
            "type": "scatterpolar"
           }
          ],
          "scatterpolargl": [
           {
            "marker": {
             "colorbar": {
              "outlinewidth": 0,
              "ticks": ""
             }
            },
            "type": "scatterpolargl"
           }
          ],
          "scatterternary": [
           {
            "marker": {
             "colorbar": {
              "outlinewidth": 0,
              "ticks": ""
             }
            },
            "type": "scatterternary"
           }
          ],
          "surface": [
           {
            "colorbar": {
             "outlinewidth": 0,
             "ticks": ""
            },
            "colorscale": [
             [
              0,
              "#0d0887"
             ],
             [
              0.1111111111111111,
              "#46039f"
             ],
             [
              0.2222222222222222,
              "#7201a8"
             ],
             [
              0.3333333333333333,
              "#9c179e"
             ],
             [
              0.4444444444444444,
              "#bd3786"
             ],
             [
              0.5555555555555556,
              "#d8576b"
             ],
             [
              0.6666666666666666,
              "#ed7953"
             ],
             [
              0.7777777777777778,
              "#fb9f3a"
             ],
             [
              0.8888888888888888,
              "#fdca26"
             ],
             [
              1,
              "#f0f921"
             ]
            ],
            "type": "surface"
           }
          ],
          "table": [
           {
            "cells": {
             "fill": {
              "color": "#EBF0F8"
             },
             "line": {
              "color": "white"
             }
            },
            "header": {
             "fill": {
              "color": "#C8D4E3"
             },
             "line": {
              "color": "white"
             }
            },
            "type": "table"
           }
          ]
         },
         "layout": {
          "annotationdefaults": {
           "arrowcolor": "#2a3f5f",
           "arrowhead": 0,
           "arrowwidth": 1
          },
          "autotypenumbers": "strict",
          "coloraxis": {
           "colorbar": {
            "outlinewidth": 0,
            "ticks": ""
           }
          },
          "colorscale": {
           "diverging": [
            [
             0,
             "#8e0152"
            ],
            [
             0.1,
             "#c51b7d"
            ],
            [
             0.2,
             "#de77ae"
            ],
            [
             0.3,
             "#f1b6da"
            ],
            [
             0.4,
             "#fde0ef"
            ],
            [
             0.5,
             "#f7f7f7"
            ],
            [
             0.6,
             "#e6f5d0"
            ],
            [
             0.7,
             "#b8e186"
            ],
            [
             0.8,
             "#7fbc41"
            ],
            [
             0.9,
             "#4d9221"
            ],
            [
             1,
             "#276419"
            ]
           ],
           "sequential": [
            [
             0,
             "#0d0887"
            ],
            [
             0.1111111111111111,
             "#46039f"
            ],
            [
             0.2222222222222222,
             "#7201a8"
            ],
            [
             0.3333333333333333,
             "#9c179e"
            ],
            [
             0.4444444444444444,
             "#bd3786"
            ],
            [
             0.5555555555555556,
             "#d8576b"
            ],
            [
             0.6666666666666666,
             "#ed7953"
            ],
            [
             0.7777777777777778,
             "#fb9f3a"
            ],
            [
             0.8888888888888888,
             "#fdca26"
            ],
            [
             1,
             "#f0f921"
            ]
           ],
           "sequentialminus": [
            [
             0,
             "#0d0887"
            ],
            [
             0.1111111111111111,
             "#46039f"
            ],
            [
             0.2222222222222222,
             "#7201a8"
            ],
            [
             0.3333333333333333,
             "#9c179e"
            ],
            [
             0.4444444444444444,
             "#bd3786"
            ],
            [
             0.5555555555555556,
             "#d8576b"
            ],
            [
             0.6666666666666666,
             "#ed7953"
            ],
            [
             0.7777777777777778,
             "#fb9f3a"
            ],
            [
             0.8888888888888888,
             "#fdca26"
            ],
            [
             1,
             "#f0f921"
            ]
           ]
          },
          "colorway": [
           "#636efa",
           "#EF553B",
           "#00cc96",
           "#ab63fa",
           "#FFA15A",
           "#19d3f3",
           "#FF6692",
           "#B6E880",
           "#FF97FF",
           "#FECB52"
          ],
          "font": {
           "color": "#2a3f5f"
          },
          "geo": {
           "bgcolor": "white",
           "lakecolor": "white",
           "landcolor": "#E5ECF6",
           "showlakes": true,
           "showland": true,
           "subunitcolor": "white"
          },
          "hoverlabel": {
           "align": "left"
          },
          "hovermode": "closest",
          "mapbox": {
           "style": "light"
          },
          "paper_bgcolor": "white",
          "plot_bgcolor": "#E5ECF6",
          "polar": {
           "angularaxis": {
            "gridcolor": "white",
            "linecolor": "white",
            "ticks": ""
           },
           "bgcolor": "#E5ECF6",
           "radialaxis": {
            "gridcolor": "white",
            "linecolor": "white",
            "ticks": ""
           }
          },
          "scene": {
           "xaxis": {
            "backgroundcolor": "#E5ECF6",
            "gridcolor": "white",
            "gridwidth": 2,
            "linecolor": "white",
            "showbackground": true,
            "ticks": "",
            "zerolinecolor": "white"
           },
           "yaxis": {
            "backgroundcolor": "#E5ECF6",
            "gridcolor": "white",
            "gridwidth": 2,
            "linecolor": "white",
            "showbackground": true,
            "ticks": "",
            "zerolinecolor": "white"
           },
           "zaxis": {
            "backgroundcolor": "#E5ECF6",
            "gridcolor": "white",
            "gridwidth": 2,
            "linecolor": "white",
            "showbackground": true,
            "ticks": "",
            "zerolinecolor": "white"
           }
          },
          "shapedefaults": {
           "line": {
            "color": "#2a3f5f"
           }
          },
          "ternary": {
           "aaxis": {
            "gridcolor": "white",
            "linecolor": "white",
            "ticks": ""
           },
           "baxis": {
            "gridcolor": "white",
            "linecolor": "white",
            "ticks": ""
           },
           "bgcolor": "#E5ECF6",
           "caxis": {
            "gridcolor": "white",
            "linecolor": "white",
            "ticks": ""
           }
          },
          "title": {
           "x": 0.05
          },
          "xaxis": {
           "automargin": true,
           "gridcolor": "white",
           "linecolor": "white",
           "ticks": "",
           "title": {
            "standoff": 15
           },
           "zerolinecolor": "white",
           "zerolinewidth": 2
          },
          "yaxis": {
           "automargin": true,
           "gridcolor": "white",
           "linecolor": "white",
           "ticks": "",
           "title": {
            "standoff": 15
           },
           "zerolinecolor": "white",
           "zerolinewidth": 2
          }
         }
        },
        "xaxis": {
         "anchor": "y",
         "domain": [
          0,
          1
         ],
         "title": {
          "text": "x"
         }
        },
        "yaxis": {
         "anchor": "x",
         "domain": [
          0,
          1
         ],
         "title": {
          "text": "y"
         }
        }
       }
      }
     },
     "metadata": {},
     "output_type": "display_data"
    }
   ],
   "source": [
    "def arbitrary(x):\n",
    "    return (x**4 - 15*x**3 + 80*x**2 - 180*x + 144)/10\n",
    "\n",
    "x = np.linspace(1, 6.75, 200)\n",
    "fig = px.line(y = arbitrary(x), x = x)\n",
    "\n",
    "\n",
    "fig.update_layout(font_size = 16)"
   ]
  },
  {
   "cell_type": "markdown",
   "id": "e6e6f78f",
   "metadata": {},
   "source": [
    "One way to minimize this mathematical function is to use the `scipy.optimize.minimize` function. It takes a function and a starting guess and tries to find the minimum."
   ]
  },
  {
   "cell_type": "code",
   "execution_count": 8,
   "id": "d6ca63af",
   "metadata": {},
   "outputs": [
    {
     "data": {
      "text/plain": [
       "  message: Optimization terminated successfully.\n",
       "  success: True\n",
       "   status: 0\n",
       "      fun: -0.13827491292966557\n",
       "        x: [ 2.393e+00]\n",
       "      nit: 3\n",
       "      jac: [ 6.486e-06]\n",
       " hess_inv: [[ 7.385e-01]]\n",
       "     nfev: 20\n",
       "     njev: 10"
      ]
     },
     "execution_count": 8,
     "metadata": {},
     "output_type": "execute_result"
    }
   ],
   "source": [
    "from scipy.optimize import minimize\n",
    "\n",
    "minimize(arbitrary, x0 = 3.5)"
   ]
  },
  {
   "cell_type": "markdown",
   "id": "386a0b86",
   "metadata": {},
   "source": [
    "Our choice of start point can affect the outcome. For example if we start to the left, we get stuck in the local minimum on the left side."
   ]
  },
  {
   "cell_type": "code",
   "execution_count": 5,
   "id": "b12ae4f2",
   "metadata": {},
   "outputs": [
    {
     "data": {
      "text/plain": [
       "  message: Optimization terminated successfully.\n",
       "  success: True\n",
       "   status: 0\n",
       "      fun: -0.13827491294422317\n",
       "        x: [ 2.393e+00]\n",
       "      nit: 7\n",
       "      jac: [-3.800e-07]\n",
       " hess_inv: [[ 7.475e-01]]\n",
       "     nfev: 16\n",
       "     njev: 8"
      ]
     },
     "execution_count": 5,
     "metadata": {},
     "output_type": "execute_result"
    }
   ],
   "source": [
    "minimize(arbitrary, x0 = 1)"
   ]
  },
  {
   "cell_type": "markdown",
   "id": "91a29068",
   "metadata": {},
   "source": [
    "`scipy.optimize.minimize` is great. It may also seem a bit magical. How could you write a function that can find the minimum of any mathematical function? There are a number of ways to do this, which helps arriving at the important idea of **gradient descent**, which is the principle that `scipy.optimize.minimize` uses.\n",
    "\n",
    "It turns out that under the hood, the `fit` method for `LinearRegression` models uses gradient descent. Gradient descent is also how much of machine learning works, including even advanced neural network models. \n",
    "\n",
    "In this course (and for many of the problems you will be working on in your future jobs), the gradient descent process will usually be invisible to you, hidden beneath an abstraction layer. However, to be good data scientists, it's important that we know the basic principles beyond the optimization functions that harness to find optimal parmaeters."
   ]
  },
  {
   "cell_type": "markdown",
   "id": "1dc3b619",
   "metadata": {},
   "source": [
    "### The Naive Approach: Guess and Check"
   ]
  },
  {
   "cell_type": "markdown",
   "id": "05894ec2",
   "metadata": {},
   "source": [
    "Above, we saw that the minimum is somewhere around 5.3ish. Let's see if we can figure out how to find the exact minimum algorithmically from scratch."
   ]
  },
  {
   "cell_type": "markdown",
   "id": "e4c524eb",
   "metadata": {},
   "source": [
    "One way very slow and terrible way would be manual guess-and-check."
   ]
  },
  {
   "cell_type": "code",
   "execution_count": 9,
   "id": "c1c46c2d",
   "metadata": {},
   "outputs": [
    {
     "data": {
      "text/plain": [
       "0.0"
      ]
     },
     "execution_count": 9,
     "metadata": {},
     "output_type": "execute_result"
    }
   ],
   "source": [
    "arbitrary(6)"
   ]
  },
  {
   "cell_type": "markdown",
   "id": "a84cc111",
   "metadata": {},
   "source": [
    "A somewhat better approach is to use brute force to try out a bunch of x values and return the one that yields the lowest loss."
   ]
  },
  {
   "cell_type": "code",
   "execution_count": 10,
   "id": "af7886fa",
   "metadata": {},
   "outputs": [],
   "source": [
    "def simple_minimize(f, xs):\n",
    "    y = [f(x) for x in xs]  \n",
    "    return xs[np.argmin(y)]"
   ]
  },
  {
   "cell_type": "code",
   "execution_count": 11,
   "id": "cae0f4e8",
   "metadata": {},
   "outputs": [
    {
     "data": {
      "text/plain": [
       "5.421052631578947"
      ]
     },
     "execution_count": 11,
     "metadata": {},
     "output_type": "execute_result"
    }
   ],
   "source": [
    "simple_minimize(arbitrary, np.linspace(1, 7, 20))"
   ]
  },
  {
   "cell_type": "markdown",
   "id": "8fdb0977",
   "metadata": {},
   "source": [
    "This process is essentially the same as before where we made a graphical plot, it's just that we're only looking at 20 selected points."
   ]
  },
  {
   "cell_type": "code",
   "execution_count": 12,
   "id": "814638b0",
   "metadata": {},
   "outputs": [
    {
     "data": {
      "application/vnd.plotly.v1+json": {
       "config": {
        "plotlyServerURL": "https://plot.ly"
       },
       "data": [
        {
         "hovertemplate": "x=%{x}<br>y=%{y}<extra></extra>",
         "legendgroup": "",
         "line": {
          "color": "#636efa",
          "dash": "solid"
         },
         "marker": {
          "symbol": "circle"
         },
         "mode": "lines",
         "name": "",
         "orientation": "v",
         "showlegend": false,
         "type": "scatter",
         "x": [
          1,
          1.0301507537688441,
          1.0603015075376885,
          1.0904522613065326,
          1.120603015075377,
          1.150753768844221,
          1.1809045226130652,
          1.2110552763819096,
          1.2412060301507537,
          1.271356783919598,
          1.3015075376884422,
          1.3316582914572863,
          1.3618090452261307,
          1.3919597989949748,
          1.4221105527638191,
          1.4522613065326633,
          1.4824120603015074,
          1.5125628140703518,
          1.542713567839196,
          1.5728643216080402,
          1.6030150753768844,
          1.6331658291457285,
          1.6633165829145728,
          1.6934673366834172,
          1.7236180904522613,
          1.7537688442211055,
          1.7839195979899496,
          1.814070351758794,
          1.8442211055276383,
          1.8743718592964824,
          1.9045226130653266,
          1.9346733668341707,
          1.964824120603015,
          1.9949748743718594,
          2.0251256281407035,
          2.0552763819095476,
          2.085427135678392,
          2.115577889447236,
          2.1457286432160805,
          2.1758793969849246,
          2.2060301507537687,
          2.2361809045226133,
          2.266331658291457,
          2.2964824120603016,
          2.3266331658291457,
          2.35678391959799,
          2.3869346733668344,
          2.417085427135678,
          2.4472361809045227,
          2.477386934673367,
          2.507537688442211,
          2.5376884422110555,
          2.567839195979899,
          2.5979899497487438,
          2.628140703517588,
          2.658291457286432,
          2.6884422110552766,
          2.7185929648241203,
          2.748743718592965,
          2.778894472361809,
          2.809045226130653,
          2.8391959798994977,
          2.8693467336683414,
          2.899497487437186,
          2.92964824120603,
          2.959798994974874,
          2.9899497487437188,
          3.020100502512563,
          3.050251256281407,
          3.080402010050251,
          3.1105527638190953,
          3.1407035175879394,
          3.170854271356784,
          3.201005025125628,
          3.2311557788944723,
          3.2613065326633164,
          3.2914572864321605,
          3.321608040201005,
          3.351758793969849,
          3.3819095477386933,
          3.4120603015075375,
          3.4422110552763816,
          3.472361809045226,
          3.5025125628140703,
          3.5326633165829144,
          3.5628140703517586,
          3.5929648241206027,
          3.6231155778894473,
          3.6532663316582914,
          3.6834170854271355,
          3.7135678391959797,
          3.743718592964824,
          3.7738693467336684,
          3.8040201005025125,
          3.8341708542713566,
          3.8643216080402008,
          3.8944723618090453,
          3.9246231155778895,
          3.9547738693467336,
          3.9849246231155777,
          4.015075376884422,
          4.045226130653266,
          4.075376884422111,
          4.105527638190955,
          4.135678391959798,
          4.165829145728643,
          4.1959798994974875,
          4.226130653266331,
          4.256281407035176,
          4.28643216080402,
          4.316582914572864,
          4.346733668341709,
          4.376884422110553,
          4.407035175879397,
          4.4371859296482405,
          4.467336683417085,
          4.49748743718593,
          4.527638190954773,
          4.557788944723618,
          4.5879396984924625,
          4.618090452261306,
          4.648241206030151,
          4.678391959798995,
          4.708542713567839,
          4.738693467336683,
          4.768844221105527,
          4.798994974874372,
          4.829145728643216,
          4.85929648241206,
          4.889447236180905,
          4.919597989949748,
          4.949748743718593,
          4.9798994974874375,
          5.010050251256281,
          5.040201005025126,
          5.0703517587939695,
          5.100502512562814,
          5.130653266331658,
          5.160804020100502,
          5.190954773869347,
          5.221105527638191,
          5.251256281407035,
          5.281407035175879,
          5.311557788944723,
          5.341708542713568,
          5.371859296482412,
          5.402010050251256,
          5.4321608040201,
          5.4623115577889445,
          5.492462311557789,
          5.522613065326633,
          5.552763819095477,
          5.582914572864321,
          5.613065326633166,
          5.64321608040201,
          5.673366834170854,
          5.703517587939698,
          5.733668341708542,
          5.763819095477387,
          5.793969849246231,
          5.824120603015075,
          5.8542713567839195,
          5.884422110552763,
          5.914572864321608,
          5.944723618090452,
          5.974874371859296,
          6.005025125628141,
          6.035175879396984,
          6.065326633165829,
          6.0954773869346734,
          6.125628140703517,
          6.155778894472362,
          6.185929648241205,
          6.21608040201005,
          6.2462311557788945,
          6.276381909547738,
          6.306532663316583,
          6.3366834170854265,
          6.366834170854271,
          6.396984924623116,
          6.427135678391959,
          6.457286432160804,
          6.487437185929648,
          6.517587939698492,
          6.547738693467337,
          6.57788944723618,
          6.608040201005025,
          6.638190954773869,
          6.668341708542713,
          6.698492462311558,
          6.7286432160804015,
          6.758793969849246,
          6.788944723618091,
          6.819095477386934,
          6.849246231155779,
          6.879396984924623,
          6.909547738693467,
          6.939698492462312,
          6.969849246231155,
          7
         ],
         "xaxis": "x",
         "y": [
          3,
          2.8197775132646994,
          2.6468296407545298,
          2.480978457571409,
          2.3220480221881674,
          2.169864376448527,
          2.0242555455671196,
          1.8850515381294826,
          1.7520843460920474,
          1.6251879447821538,
          1.5041982928980473,
          1.3889533325088705,
          1.2792929890546703,
          1.175059171346399,
          1.076095771565909,
          0.9822486652659563,
          0.8933657113701969,
          0.809296752173205,
          0.7298936133404282,
          0.6550101039082478,
          0.5845020162839318,
          0.5182271262456482,
          0.45604519294247436,
          0.39781795889439875,
          0.34340914999228855,
          0.2926844754979413,
          0.24551162804404497,
          0.20176028363418083,
          0.1613021016428462,
          0.1240107248154402,
          0.08976177926825812,
          0.05843287448851129,
          0.029903603334304307,
          0.0040555420346265695,
          -0.019227749810596606,
          -0.04006072923056081,
          -0.0585558698835257,
          -0.07482366205689459,
          -0.08897261266714337,
          -0.10110924525984047,
          -0.11133810000965809,
          -0.119761733720361,
          -0.12648071982483203,
          -0.1315936483850237,
          -0.13519712609199247,
          -0.13738577626590426,
          -0.1382522388560119,
          -0.13788717044065493,
          -0.13637924422729383,
          -0.13381515005247593,
          -0.13027959438184666,
          -0.1258553003101497,
          -0.12062300756120407,
          -0.11466147248795551,
          -0.10804746807244214,
          -0.10085578392577758,
          -0.09315922628821909,
          -0.08502861802905386,
          -0.0765327986467014,
          -0.06773862426869641,
          -0.05871096765167181,
          -0.04951271818131318,
          -0.04020478187242702,
          -0.030846081368940757,
          -0.021493555943828825,
          -0.012202161499220664,
          -0.0030248705662870635,
          0.005987327694657552,
          0.014785427494228998,
          0.023322406413939234,
          0.03155322540619636,
          0.039434828794344415,
          0.046926144272549666,
          0.053988082905993905,
          0.06058353913065275,
          0.06667739075349459,
          0.0722364989522987,
          0.0772297082758655,
          0.08162784664377228,
          0.0854037253466231,
          0.0885321390457932,
          0.09098986577366759,
          0.09275566693348196,
          0.0938102872993909,
          0.09413645501645647,
          0.09371888160064827,
          0.09254426193878089,
          0.09060127428864462,
          0.08788058027890884,
          0.08437482490911634,
          0.08007863654980837,
          0.07498862694224044,
          0.06910339119879154,
          0.062423507802634504,
          0.05495153860777009,
          0.04669202883931121,
          0.037651507093005424,
          0.027838485335746555,
          0.01726345890522225,
          0.005938906509970821,
          -0.006120709770470967,
          -0.018898944485715673,
          -0.03237736881442288,
          -0.04653557056435602,
          -0.061351154172564294,
          -0.07679974070485969,
          -0.0928549678563968,
          -0.10948848995135449,
          -0.12666997794297002,
          -0.14436711941368685,
          -0.16254561857489308,
          -0.1811691962672853,
          -0.2001995899604026,
          -0.21959655375303555,
          -0.23931785837306735,
          -0.25931929117742814,
          -0.2795546561521974,
          -0.2999757739125698,
          -0.32053248170270765,
          -0.34117263339597914,
          -0.3618420994948906,
          -0.38248476713084756,
          -0.40304254006464363,
          -0.4234553386859261,
          -0.4436611000135485,
          -0.46359577769538873,
          -0.483193342008542,
          -0.5023857798591053,
          -0.5211030947822792,
          -0.5392733069424139,
          -0.5568224531329065,
          -0.5736745867762579,
          -0.589751777924107,
          -0.6049741132570944,
          -0.6192596960850778,
          -0.632524646347008,
          -0.6446831006107573,
          -0.6556472120734724,
          -0.6653271505614157,
          -0.6736311025297482,
          -0.6804652710629284,
          -0.6857338758744731,
          -0.689339153306878,
          -0.6911813563318902,
          -0.6911587545502471,
          -0.6891676341918014,
          -0.6851022981155552,
          -0.6788550658095346,
          -0.6703162733909721,
          -0.6593742736060904,
          -0.6459154358302271,
          -0.6298241460678924,
          -0.6109828069525293,
          -0.5892718377469237,
          -0.5645696743426925,
          -0.5367527692607041,
          -0.5056955916510105,
          -0.47127062729252883,
          -0.4333483785933822,
          -0.39179736459091147,
          -0.3464841209514134,
          -0.2972731999702091,
          -0.24402717057191695,
          -0.18660661831017933,
          -0.12487014536754941,
          -0.05867437055599112,
          0.01212607068350735,
          0.08767852628116088,
          0.1681323275376599,
          0.2536387891250115,
          0.34435120908576666,
          0.4404248688334974,
          0.5420170331528652,
          0.6492869501990981,
          0.7623958514986725,
          0.8815069519487224,
          1.0067854498173574,
          1.13839852674364,
          1.2765153477374043,
          1.421307061179641,
          1.572946798821863,
          1.7316096757870127,
          1.897472790568304,
          2.070715225030267,
          2.251518044408317,
          2.4400642973086635,
          2.636539015708513,
          2.841129214955754,
          3.0540238937694992,
          3.27541403423952,
          3.5054926018266315,
          3.7444545453624185,
          3.9924967970495344,
          4.249818272461312,
          4.516619870542331,
          4.793104473607627,
          5.079476947343528,
          5.37594414080711,
          5.682714886426311,
          6
         ],
         "yaxis": "y"
        },
        {
         "mode": "markers",
         "type": "scatter",
         "x": [
          1,
          2.5,
          4,
          5.5,
          7
         ],
         "y": [
          3,
          -0.13125,
          0,
          -0.65625,
          6
         ]
        }
       ],
       "layout": {
        "legend": {
         "tracegroupgap": 0
        },
        "margin": {
         "t": 60
        },
        "showlegend": false,
        "template": {
         "data": {
          "bar": [
           {
            "error_x": {
             "color": "#2a3f5f"
            },
            "error_y": {
             "color": "#2a3f5f"
            },
            "marker": {
             "line": {
              "color": "#E5ECF6",
              "width": 0.5
             },
             "pattern": {
              "fillmode": "overlay",
              "size": 10,
              "solidity": 0.2
             }
            },
            "type": "bar"
           }
          ],
          "barpolar": [
           {
            "marker": {
             "line": {
              "color": "#E5ECF6",
              "width": 0.5
             },
             "pattern": {
              "fillmode": "overlay",
              "size": 10,
              "solidity": 0.2
             }
            },
            "type": "barpolar"
           }
          ],
          "carpet": [
           {
            "aaxis": {
             "endlinecolor": "#2a3f5f",
             "gridcolor": "white",
             "linecolor": "white",
             "minorgridcolor": "white",
             "startlinecolor": "#2a3f5f"
            },
            "baxis": {
             "endlinecolor": "#2a3f5f",
             "gridcolor": "white",
             "linecolor": "white",
             "minorgridcolor": "white",
             "startlinecolor": "#2a3f5f"
            },
            "type": "carpet"
           }
          ],
          "choropleth": [
           {
            "colorbar": {
             "outlinewidth": 0,
             "ticks": ""
            },
            "type": "choropleth"
           }
          ],
          "contour": [
           {
            "colorbar": {
             "outlinewidth": 0,
             "ticks": ""
            },
            "colorscale": [
             [
              0,
              "#0d0887"
             ],
             [
              0.1111111111111111,
              "#46039f"
             ],
             [
              0.2222222222222222,
              "#7201a8"
             ],
             [
              0.3333333333333333,
              "#9c179e"
             ],
             [
              0.4444444444444444,
              "#bd3786"
             ],
             [
              0.5555555555555556,
              "#d8576b"
             ],
             [
              0.6666666666666666,
              "#ed7953"
             ],
             [
              0.7777777777777778,
              "#fb9f3a"
             ],
             [
              0.8888888888888888,
              "#fdca26"
             ],
             [
              1,
              "#f0f921"
             ]
            ],
            "type": "contour"
           }
          ],
          "contourcarpet": [
           {
            "colorbar": {
             "outlinewidth": 0,
             "ticks": ""
            },
            "type": "contourcarpet"
           }
          ],
          "heatmap": [
           {
            "colorbar": {
             "outlinewidth": 0,
             "ticks": ""
            },
            "colorscale": [
             [
              0,
              "#0d0887"
             ],
             [
              0.1111111111111111,
              "#46039f"
             ],
             [
              0.2222222222222222,
              "#7201a8"
             ],
             [
              0.3333333333333333,
              "#9c179e"
             ],
             [
              0.4444444444444444,
              "#bd3786"
             ],
             [
              0.5555555555555556,
              "#d8576b"
             ],
             [
              0.6666666666666666,
              "#ed7953"
             ],
             [
              0.7777777777777778,
              "#fb9f3a"
             ],
             [
              0.8888888888888888,
              "#fdca26"
             ],
             [
              1,
              "#f0f921"
             ]
            ],
            "type": "heatmap"
           }
          ],
          "heatmapgl": [
           {
            "colorbar": {
             "outlinewidth": 0,
             "ticks": ""
            },
            "colorscale": [
             [
              0,
              "#0d0887"
             ],
             [
              0.1111111111111111,
              "#46039f"
             ],
             [
              0.2222222222222222,
              "#7201a8"
             ],
             [
              0.3333333333333333,
              "#9c179e"
             ],
             [
              0.4444444444444444,
              "#bd3786"
             ],
             [
              0.5555555555555556,
              "#d8576b"
             ],
             [
              0.6666666666666666,
              "#ed7953"
             ],
             [
              0.7777777777777778,
              "#fb9f3a"
             ],
             [
              0.8888888888888888,
              "#fdca26"
             ],
             [
              1,
              "#f0f921"
             ]
            ],
            "type": "heatmapgl"
           }
          ],
          "histogram": [
           {
            "marker": {
             "pattern": {
              "fillmode": "overlay",
              "size": 10,
              "solidity": 0.2
             }
            },
            "type": "histogram"
           }
          ],
          "histogram2d": [
           {
            "colorbar": {
             "outlinewidth": 0,
             "ticks": ""
            },
            "colorscale": [
             [
              0,
              "#0d0887"
             ],
             [
              0.1111111111111111,
              "#46039f"
             ],
             [
              0.2222222222222222,
              "#7201a8"
             ],
             [
              0.3333333333333333,
              "#9c179e"
             ],
             [
              0.4444444444444444,
              "#bd3786"
             ],
             [
              0.5555555555555556,
              "#d8576b"
             ],
             [
              0.6666666666666666,
              "#ed7953"
             ],
             [
              0.7777777777777778,
              "#fb9f3a"
             ],
             [
              0.8888888888888888,
              "#fdca26"
             ],
             [
              1,
              "#f0f921"
             ]
            ],
            "type": "histogram2d"
           }
          ],
          "histogram2dcontour": [
           {
            "colorbar": {
             "outlinewidth": 0,
             "ticks": ""
            },
            "colorscale": [
             [
              0,
              "#0d0887"
             ],
             [
              0.1111111111111111,
              "#46039f"
             ],
             [
              0.2222222222222222,
              "#7201a8"
             ],
             [
              0.3333333333333333,
              "#9c179e"
             ],
             [
              0.4444444444444444,
              "#bd3786"
             ],
             [
              0.5555555555555556,
              "#d8576b"
             ],
             [
              0.6666666666666666,
              "#ed7953"
             ],
             [
              0.7777777777777778,
              "#fb9f3a"
             ],
             [
              0.8888888888888888,
              "#fdca26"
             ],
             [
              1,
              "#f0f921"
             ]
            ],
            "type": "histogram2dcontour"
           }
          ],
          "mesh3d": [
           {
            "colorbar": {
             "outlinewidth": 0,
             "ticks": ""
            },
            "type": "mesh3d"
           }
          ],
          "parcoords": [
           {
            "line": {
             "colorbar": {
              "outlinewidth": 0,
              "ticks": ""
             }
            },
            "type": "parcoords"
           }
          ],
          "pie": [
           {
            "automargin": true,
            "type": "pie"
           }
          ],
          "scatter": [
           {
            "fillpattern": {
             "fillmode": "overlay",
             "size": 10,
             "solidity": 0.2
            },
            "type": "scatter"
           }
          ],
          "scatter3d": [
           {
            "line": {
             "colorbar": {
              "outlinewidth": 0,
              "ticks": ""
             }
            },
            "marker": {
             "colorbar": {
              "outlinewidth": 0,
              "ticks": ""
             }
            },
            "type": "scatter3d"
           }
          ],
          "scattercarpet": [
           {
            "marker": {
             "colorbar": {
              "outlinewidth": 0,
              "ticks": ""
             }
            },
            "type": "scattercarpet"
           }
          ],
          "scattergeo": [
           {
            "marker": {
             "colorbar": {
              "outlinewidth": 0,
              "ticks": ""
             }
            },
            "type": "scattergeo"
           }
          ],
          "scattergl": [
           {
            "marker": {
             "colorbar": {
              "outlinewidth": 0,
              "ticks": ""
             }
            },
            "type": "scattergl"
           }
          ],
          "scattermapbox": [
           {
            "marker": {
             "colorbar": {
              "outlinewidth": 0,
              "ticks": ""
             }
            },
            "type": "scattermapbox"
           }
          ],
          "scatterpolar": [
           {
            "marker": {
             "colorbar": {
              "outlinewidth": 0,
              "ticks": ""
             }
            },
            "type": "scatterpolar"
           }
          ],
          "scatterpolargl": [
           {
            "marker": {
             "colorbar": {
              "outlinewidth": 0,
              "ticks": ""
             }
            },
            "type": "scatterpolargl"
           }
          ],
          "scatterternary": [
           {
            "marker": {
             "colorbar": {
              "outlinewidth": 0,
              "ticks": ""
             }
            },
            "type": "scatterternary"
           }
          ],
          "surface": [
           {
            "colorbar": {
             "outlinewidth": 0,
             "ticks": ""
            },
            "colorscale": [
             [
              0,
              "#0d0887"
             ],
             [
              0.1111111111111111,
              "#46039f"
             ],
             [
              0.2222222222222222,
              "#7201a8"
             ],
             [
              0.3333333333333333,
              "#9c179e"
             ],
             [
              0.4444444444444444,
              "#bd3786"
             ],
             [
              0.5555555555555556,
              "#d8576b"
             ],
             [
              0.6666666666666666,
              "#ed7953"
             ],
             [
              0.7777777777777778,
              "#fb9f3a"
             ],
             [
              0.8888888888888888,
              "#fdca26"
             ],
             [
              1,
              "#f0f921"
             ]
            ],
            "type": "surface"
           }
          ],
          "table": [
           {
            "cells": {
             "fill": {
              "color": "#EBF0F8"
             },
             "line": {
              "color": "white"
             }
            },
            "header": {
             "fill": {
              "color": "#C8D4E3"
             },
             "line": {
              "color": "white"
             }
            },
            "type": "table"
           }
          ]
         },
         "layout": {
          "annotationdefaults": {
           "arrowcolor": "#2a3f5f",
           "arrowhead": 0,
           "arrowwidth": 1
          },
          "autotypenumbers": "strict",
          "coloraxis": {
           "colorbar": {
            "outlinewidth": 0,
            "ticks": ""
           }
          },
          "colorscale": {
           "diverging": [
            [
             0,
             "#8e0152"
            ],
            [
             0.1,
             "#c51b7d"
            ],
            [
             0.2,
             "#de77ae"
            ],
            [
             0.3,
             "#f1b6da"
            ],
            [
             0.4,
             "#fde0ef"
            ],
            [
             0.5,
             "#f7f7f7"
            ],
            [
             0.6,
             "#e6f5d0"
            ],
            [
             0.7,
             "#b8e186"
            ],
            [
             0.8,
             "#7fbc41"
            ],
            [
             0.9,
             "#4d9221"
            ],
            [
             1,
             "#276419"
            ]
           ],
           "sequential": [
            [
             0,
             "#0d0887"
            ],
            [
             0.1111111111111111,
             "#46039f"
            ],
            [
             0.2222222222222222,
             "#7201a8"
            ],
            [
             0.3333333333333333,
             "#9c179e"
            ],
            [
             0.4444444444444444,
             "#bd3786"
            ],
            [
             0.5555555555555556,
             "#d8576b"
            ],
            [
             0.6666666666666666,
             "#ed7953"
            ],
            [
             0.7777777777777778,
             "#fb9f3a"
            ],
            [
             0.8888888888888888,
             "#fdca26"
            ],
            [
             1,
             "#f0f921"
            ]
           ],
           "sequentialminus": [
            [
             0,
             "#0d0887"
            ],
            [
             0.1111111111111111,
             "#46039f"
            ],
            [
             0.2222222222222222,
             "#7201a8"
            ],
            [
             0.3333333333333333,
             "#9c179e"
            ],
            [
             0.4444444444444444,
             "#bd3786"
            ],
            [
             0.5555555555555556,
             "#d8576b"
            ],
            [
             0.6666666666666666,
             "#ed7953"
            ],
            [
             0.7777777777777778,
             "#fb9f3a"
            ],
            [
             0.8888888888888888,
             "#fdca26"
            ],
            [
             1,
             "#f0f921"
            ]
           ]
          },
          "colorway": [
           "#636efa",
           "#EF553B",
           "#00cc96",
           "#ab63fa",
           "#FFA15A",
           "#19d3f3",
           "#FF6692",
           "#B6E880",
           "#FF97FF",
           "#FECB52"
          ],
          "font": {
           "color": "#2a3f5f"
          },
          "geo": {
           "bgcolor": "white",
           "lakecolor": "white",
           "landcolor": "#E5ECF6",
           "showlakes": true,
           "showland": true,
           "subunitcolor": "white"
          },
          "hoverlabel": {
           "align": "left"
          },
          "hovermode": "closest",
          "mapbox": {
           "style": "light"
          },
          "paper_bgcolor": "white",
          "plot_bgcolor": "#E5ECF6",
          "polar": {
           "angularaxis": {
            "gridcolor": "white",
            "linecolor": "white",
            "ticks": ""
           },
           "bgcolor": "#E5ECF6",
           "radialaxis": {
            "gridcolor": "white",
            "linecolor": "white",
            "ticks": ""
           }
          },
          "scene": {
           "xaxis": {
            "backgroundcolor": "#E5ECF6",
            "gridcolor": "white",
            "gridwidth": 2,
            "linecolor": "white",
            "showbackground": true,
            "ticks": "",
            "zerolinecolor": "white"
           },
           "yaxis": {
            "backgroundcolor": "#E5ECF6",
            "gridcolor": "white",
            "gridwidth": 2,
            "linecolor": "white",
            "showbackground": true,
            "ticks": "",
            "zerolinecolor": "white"
           },
           "zaxis": {
            "backgroundcolor": "#E5ECF6",
            "gridcolor": "white",
            "gridwidth": 2,
            "linecolor": "white",
            "showbackground": true,
            "ticks": "",
            "zerolinecolor": "white"
           }
          },
          "shapedefaults": {
           "line": {
            "color": "#2a3f5f"
           }
          },
          "ternary": {
           "aaxis": {
            "gridcolor": "white",
            "linecolor": "white",
            "ticks": ""
           },
           "baxis": {
            "gridcolor": "white",
            "linecolor": "white",
            "ticks": ""
           },
           "bgcolor": "#E5ECF6",
           "caxis": {
            "gridcolor": "white",
            "linecolor": "white",
            "ticks": ""
           }
          },
          "title": {
           "x": 0.05
          },
          "xaxis": {
           "automargin": true,
           "gridcolor": "white",
           "linecolor": "white",
           "ticks": "",
           "title": {
            "standoff": 15
           },
           "zerolinecolor": "white",
           "zerolinewidth": 2
          },
          "yaxis": {
           "automargin": true,
           "gridcolor": "white",
           "linecolor": "white",
           "ticks": "",
           "title": {
            "standoff": 15
           },
           "zerolinecolor": "white",
           "zerolinewidth": 2
          }
         }
        },
        "xaxis": {
         "anchor": "y",
         "domain": [
          0,
          1
         ],
         "title": {
          "text": "x"
         }
        },
        "yaxis": {
         "anchor": "x",
         "domain": [
          0,
          1
         ],
         "title": {
          "text": "y"
         }
        }
       }
      }
     },
     "metadata": {},
     "output_type": "display_data"
    }
   ],
   "source": [
    "xs = np.linspace(1, 7, 200)\n",
    "sparse_xs = np.linspace(1, 7, 5)\n",
    "\n",
    "ys = arbitrary(xs)\n",
    "sparse_ys = arbitrary(sparse_xs)\n",
    "\n",
    "fig = px.line(x = xs, y = arbitrary(xs))\n",
    "fig.add_scatter(x = sparse_xs, y = arbitrary(sparse_xs), mode = \"markers\")\n",
    "fig.update_layout(showlegend= False)\n",
    "fig.show()"
   ]
  },
  {
   "cell_type": "markdown",
   "id": "33826d7a",
   "metadata": {},
   "source": [
    "This basic approach suffers from three major flaws:\n",
    "1. If the minimum is outside our range of guesses, the answer will be completely wrong.\n",
    "2. Even if our range of guesses is correct, if the guesses are too coarse, our answer will be inaccurate.\n",
    "3. It is absurdly computationally inefficient, considering potentially vast numbers of guesses that are useless."
   ]
  },
  {
   "cell_type": "markdown",
   "id": "e594c600",
   "metadata": {},
   "source": [
    "### Better Approach: Gradient Descent"
   ]
  },
  {
   "cell_type": "markdown",
   "id": "36123f90",
   "metadata": {},
   "source": [
    "Instead of choosing all of our guesses ahead of time, we can instead start from a single guess and try to iteratively improve on our choice. \n",
    "\n",
    "They key insight is this: If the derivative of the function is negative, that means the function is decreasing, so we should go to the right (i.e. pick a bigger x). If the derivative of the function is positive, that means the function is increasing, so we should go to the left (i.e. pick a smaller x).\n",
    "\n",
    "Thus, the derivative tells us which way to go."
   ]
  },
  {
   "cell_type": "code",
   "execution_count": 13,
   "id": "abc5b93f",
   "metadata": {},
   "outputs": [],
   "source": [
    "#desmos demo: https://www.desmos.com/calculator/twpnylu4lr"
   ]
  },
  {
   "cell_type": "code",
   "execution_count": 14,
   "id": "0abbeafd",
   "metadata": {},
   "outputs": [
    {
     "data": {
      "application/vnd.plotly.v1+json": {
       "config": {
        "plotlyServerURL": "https://plot.ly"
       },
       "data": [
        {
         "mode": "lines",
         "name": "f",
         "type": "scatter",
         "x": [
          1,
          1.0301507537688441,
          1.0603015075376885,
          1.0904522613065326,
          1.120603015075377,
          1.150753768844221,
          1.1809045226130652,
          1.2110552763819096,
          1.2412060301507537,
          1.271356783919598,
          1.3015075376884422,
          1.3316582914572863,
          1.3618090452261307,
          1.3919597989949748,
          1.4221105527638191,
          1.4522613065326633,
          1.4824120603015074,
          1.5125628140703518,
          1.542713567839196,
          1.5728643216080402,
          1.6030150753768844,
          1.6331658291457285,
          1.6633165829145728,
          1.6934673366834172,
          1.7236180904522613,
          1.7537688442211055,
          1.7839195979899496,
          1.814070351758794,
          1.8442211055276383,
          1.8743718592964824,
          1.9045226130653266,
          1.9346733668341707,
          1.964824120603015,
          1.9949748743718594,
          2.0251256281407035,
          2.0552763819095476,
          2.085427135678392,
          2.115577889447236,
          2.1457286432160805,
          2.1758793969849246,
          2.2060301507537687,
          2.2361809045226133,
          2.266331658291457,
          2.2964824120603016,
          2.3266331658291457,
          2.35678391959799,
          2.3869346733668344,
          2.417085427135678,
          2.4472361809045227,
          2.477386934673367,
          2.507537688442211,
          2.5376884422110555,
          2.567839195979899,
          2.5979899497487438,
          2.628140703517588,
          2.658291457286432,
          2.6884422110552766,
          2.7185929648241203,
          2.748743718592965,
          2.778894472361809,
          2.809045226130653,
          2.8391959798994977,
          2.8693467336683414,
          2.899497487437186,
          2.92964824120603,
          2.959798994974874,
          2.9899497487437188,
          3.020100502512563,
          3.050251256281407,
          3.080402010050251,
          3.1105527638190953,
          3.1407035175879394,
          3.170854271356784,
          3.201005025125628,
          3.2311557788944723,
          3.2613065326633164,
          3.2914572864321605,
          3.321608040201005,
          3.351758793969849,
          3.3819095477386933,
          3.4120603015075375,
          3.4422110552763816,
          3.472361809045226,
          3.5025125628140703,
          3.5326633165829144,
          3.5628140703517586,
          3.5929648241206027,
          3.6231155778894473,
          3.6532663316582914,
          3.6834170854271355,
          3.7135678391959797,
          3.743718592964824,
          3.7738693467336684,
          3.8040201005025125,
          3.8341708542713566,
          3.8643216080402008,
          3.8944723618090453,
          3.9246231155778895,
          3.9547738693467336,
          3.9849246231155777,
          4.015075376884422,
          4.045226130653266,
          4.075376884422111,
          4.105527638190955,
          4.135678391959798,
          4.165829145728643,
          4.1959798994974875,
          4.226130653266331,
          4.256281407035176,
          4.28643216080402,
          4.316582914572864,
          4.346733668341709,
          4.376884422110553,
          4.407035175879397,
          4.4371859296482405,
          4.467336683417085,
          4.49748743718593,
          4.527638190954773,
          4.557788944723618,
          4.5879396984924625,
          4.618090452261306,
          4.648241206030151,
          4.678391959798995,
          4.708542713567839,
          4.738693467336683,
          4.768844221105527,
          4.798994974874372,
          4.829145728643216,
          4.85929648241206,
          4.889447236180905,
          4.919597989949748,
          4.949748743718593,
          4.9798994974874375,
          5.010050251256281,
          5.040201005025126,
          5.0703517587939695,
          5.100502512562814,
          5.130653266331658,
          5.160804020100502,
          5.190954773869347,
          5.221105527638191,
          5.251256281407035,
          5.281407035175879,
          5.311557788944723,
          5.341708542713568,
          5.371859296482412,
          5.402010050251256,
          5.4321608040201,
          5.4623115577889445,
          5.492462311557789,
          5.522613065326633,
          5.552763819095477,
          5.582914572864321,
          5.613065326633166,
          5.64321608040201,
          5.673366834170854,
          5.703517587939698,
          5.733668341708542,
          5.763819095477387,
          5.793969849246231,
          5.824120603015075,
          5.8542713567839195,
          5.884422110552763,
          5.914572864321608,
          5.944723618090452,
          5.974874371859296,
          6.005025125628141,
          6.035175879396984,
          6.065326633165829,
          6.0954773869346734,
          6.125628140703517,
          6.155778894472362,
          6.185929648241205,
          6.21608040201005,
          6.2462311557788945,
          6.276381909547738,
          6.306532663316583,
          6.3366834170854265,
          6.366834170854271,
          6.396984924623116,
          6.427135678391959,
          6.457286432160804,
          6.487437185929648,
          6.517587939698492,
          6.547738693467337,
          6.57788944723618,
          6.608040201005025,
          6.638190954773869,
          6.668341708542713,
          6.698492462311558,
          6.7286432160804015,
          6.758793969849246,
          6.788944723618091,
          6.819095477386934,
          6.849246231155779,
          6.879396984924623,
          6.909547738693467,
          6.939698492462312,
          6.969849246231155,
          7
         ],
         "y": [
          3,
          2.8197775132646994,
          2.6468296407545298,
          2.480978457571409,
          2.3220480221881674,
          2.169864376448527,
          2.0242555455671196,
          1.8850515381294826,
          1.7520843460920474,
          1.6251879447821538,
          1.5041982928980473,
          1.3889533325088705,
          1.2792929890546703,
          1.175059171346399,
          1.076095771565909,
          0.9822486652659563,
          0.8933657113701969,
          0.809296752173205,
          0.7298936133404282,
          0.6550101039082478,
          0.5845020162839318,
          0.5182271262456482,
          0.45604519294247436,
          0.39781795889439875,
          0.34340914999228855,
          0.2926844754979413,
          0.24551162804404497,
          0.20176028363418083,
          0.1613021016428462,
          0.1240107248154402,
          0.08976177926825812,
          0.05843287448851129,
          0.029903603334304307,
          0.0040555420346265695,
          -0.019227749810596606,
          -0.04006072923056081,
          -0.0585558698835257,
          -0.07482366205689459,
          -0.08897261266714337,
          -0.10110924525984047,
          -0.11133810000965809,
          -0.119761733720361,
          -0.12648071982483203,
          -0.1315936483850237,
          -0.13519712609199247,
          -0.13738577626590426,
          -0.1382522388560119,
          -0.13788717044065493,
          -0.13637924422729383,
          -0.13381515005247593,
          -0.13027959438184666,
          -0.1258553003101497,
          -0.12062300756120407,
          -0.11466147248795551,
          -0.10804746807244214,
          -0.10085578392577758,
          -0.09315922628821909,
          -0.08502861802905386,
          -0.0765327986467014,
          -0.06773862426869641,
          -0.05871096765167181,
          -0.04951271818131318,
          -0.04020478187242702,
          -0.030846081368940757,
          -0.021493555943828825,
          -0.012202161499220664,
          -0.0030248705662870635,
          0.005987327694657552,
          0.014785427494228998,
          0.023322406413939234,
          0.03155322540619636,
          0.039434828794344415,
          0.046926144272549666,
          0.053988082905993905,
          0.06058353913065275,
          0.06667739075349459,
          0.0722364989522987,
          0.0772297082758655,
          0.08162784664377228,
          0.0854037253466231,
          0.0885321390457932,
          0.09098986577366759,
          0.09275566693348196,
          0.0938102872993909,
          0.09413645501645647,
          0.09371888160064827,
          0.09254426193878089,
          0.09060127428864462,
          0.08788058027890884,
          0.08437482490911634,
          0.08007863654980837,
          0.07498862694224044,
          0.06910339119879154,
          0.062423507802634504,
          0.05495153860777009,
          0.04669202883931121,
          0.037651507093005424,
          0.027838485335746555,
          0.01726345890522225,
          0.005938906509970821,
          -0.006120709770470967,
          -0.018898944485715673,
          -0.03237736881442288,
          -0.04653557056435602,
          -0.061351154172564294,
          -0.07679974070485969,
          -0.0928549678563968,
          -0.10948848995135449,
          -0.12666997794297002,
          -0.14436711941368685,
          -0.16254561857489308,
          -0.1811691962672853,
          -0.2001995899604026,
          -0.21959655375303555,
          -0.23931785837306735,
          -0.25931929117742814,
          -0.2795546561521974,
          -0.2999757739125698,
          -0.32053248170270765,
          -0.34117263339597914,
          -0.3618420994948906,
          -0.38248476713084756,
          -0.40304254006464363,
          -0.4234553386859261,
          -0.4436611000135485,
          -0.46359577769538873,
          -0.483193342008542,
          -0.5023857798591053,
          -0.5211030947822792,
          -0.5392733069424139,
          -0.5568224531329065,
          -0.5736745867762579,
          -0.589751777924107,
          -0.6049741132570944,
          -0.6192596960850778,
          -0.632524646347008,
          -0.6446831006107573,
          -0.6556472120734724,
          -0.6653271505614157,
          -0.6736311025297482,
          -0.6804652710629284,
          -0.6857338758744731,
          -0.689339153306878,
          -0.6911813563318902,
          -0.6911587545502471,
          -0.6891676341918014,
          -0.6851022981155552,
          -0.6788550658095346,
          -0.6703162733909721,
          -0.6593742736060904,
          -0.6459154358302271,
          -0.6298241460678924,
          -0.6109828069525293,
          -0.5892718377469237,
          -0.5645696743426925,
          -0.5367527692607041,
          -0.5056955916510105,
          -0.47127062729252883,
          -0.4333483785933822,
          -0.39179736459091147,
          -0.3464841209514134,
          -0.2972731999702091,
          -0.24402717057191695,
          -0.18660661831017933,
          -0.12487014536754941,
          -0.05867437055599112,
          0.01212607068350735,
          0.08767852628116088,
          0.1681323275376599,
          0.2536387891250115,
          0.34435120908576666,
          0.4404248688334974,
          0.5420170331528652,
          0.6492869501990981,
          0.7623958514986725,
          0.8815069519487224,
          1.0067854498173574,
          1.13839852674364,
          1.2765153477374043,
          1.421307061179641,
          1.572946798821863,
          1.7316096757870127,
          1.897472790568304,
          2.070715225030267,
          2.251518044408317,
          2.4400642973086635,
          2.636539015708513,
          2.841129214955754,
          3.0540238937694992,
          3.27541403423952,
          3.5054926018266315,
          3.7444545453624185,
          3.9924967970495344,
          4.249818272461312,
          4.516619870542331,
          4.793104473607627,
          5.079476947343528,
          5.37594414080711,
          5.682714886426311,
          6
         ]
        },
        {
         "line": {
          "dash": "dash"
         },
         "mode": "lines",
         "name": "df",
         "type": "scatter",
         "x": [
          1,
          1.0301507537688441,
          1.0603015075376885,
          1.0904522613065326,
          1.120603015075377,
          1.150753768844221,
          1.1809045226130652,
          1.2110552763819096,
          1.2412060301507537,
          1.271356783919598,
          1.3015075376884422,
          1.3316582914572863,
          1.3618090452261307,
          1.3919597989949748,
          1.4221105527638191,
          1.4522613065326633,
          1.4824120603015074,
          1.5125628140703518,
          1.542713567839196,
          1.5728643216080402,
          1.6030150753768844,
          1.6331658291457285,
          1.6633165829145728,
          1.6934673366834172,
          1.7236180904522613,
          1.7537688442211055,
          1.7839195979899496,
          1.814070351758794,
          1.8442211055276383,
          1.8743718592964824,
          1.9045226130653266,
          1.9346733668341707,
          1.964824120603015,
          1.9949748743718594,
          2.0251256281407035,
          2.0552763819095476,
          2.085427135678392,
          2.115577889447236,
          2.1457286432160805,
          2.1758793969849246,
          2.2060301507537687,
          2.2361809045226133,
          2.266331658291457,
          2.2964824120603016,
          2.3266331658291457,
          2.35678391959799,
          2.3869346733668344,
          2.417085427135678,
          2.4472361809045227,
          2.477386934673367,
          2.507537688442211,
          2.5376884422110555,
          2.567839195979899,
          2.5979899497487438,
          2.628140703517588,
          2.658291457286432,
          2.6884422110552766,
          2.7185929648241203,
          2.748743718592965,
          2.778894472361809,
          2.809045226130653,
          2.8391959798994977,
          2.8693467336683414,
          2.899497487437186,
          2.92964824120603,
          2.959798994974874,
          2.9899497487437188,
          3.020100502512563,
          3.050251256281407,
          3.080402010050251,
          3.1105527638190953,
          3.1407035175879394,
          3.170854271356784,
          3.201005025125628,
          3.2311557788944723,
          3.2613065326633164,
          3.2914572864321605,
          3.321608040201005,
          3.351758793969849,
          3.3819095477386933,
          3.4120603015075375,
          3.4422110552763816,
          3.472361809045226,
          3.5025125628140703,
          3.5326633165829144,
          3.5628140703517586,
          3.5929648241206027,
          3.6231155778894473,
          3.6532663316582914,
          3.6834170854271355,
          3.7135678391959797,
          3.743718592964824,
          3.7738693467336684,
          3.8040201005025125,
          3.8341708542713566,
          3.8643216080402008,
          3.8944723618090453,
          3.9246231155778895,
          3.9547738693467336,
          3.9849246231155777,
          4.015075376884422,
          4.045226130653266,
          4.075376884422111,
          4.105527638190955,
          4.135678391959798,
          4.165829145728643,
          4.1959798994974875,
          4.226130653266331,
          4.256281407035176,
          4.28643216080402,
          4.316582914572864,
          4.346733668341709,
          4.376884422110553,
          4.407035175879397,
          4.4371859296482405,
          4.467336683417085,
          4.49748743718593,
          4.527638190954773,
          4.557788944723618,
          4.5879396984924625,
          4.618090452261306,
          4.648241206030151,
          4.678391959798995,
          4.708542713567839,
          4.738693467336683,
          4.768844221105527,
          4.798994974874372,
          4.829145728643216,
          4.85929648241206,
          4.889447236180905,
          4.919597989949748,
          4.949748743718593,
          4.9798994974874375,
          5.010050251256281,
          5.040201005025126,
          5.0703517587939695,
          5.100502512562814,
          5.130653266331658,
          5.160804020100502,
          5.190954773869347,
          5.221105527638191,
          5.251256281407035,
          5.281407035175879,
          5.311557788944723,
          5.341708542713568,
          5.371859296482412,
          5.402010050251256,
          5.4321608040201,
          5.4623115577889445,
          5.492462311557789,
          5.522613065326633,
          5.552763819095477,
          5.582914572864321,
          5.613065326633166,
          5.64321608040201,
          5.673366834170854,
          5.703517587939698,
          5.733668341708542,
          5.763819095477387,
          5.793969849246231,
          5.824120603015075,
          5.8542713567839195,
          5.884422110552763,
          5.914572864321608,
          5.944723618090452,
          5.974874371859296,
          6.005025125628141,
          6.035175879396984,
          6.065326633165829,
          6.0954773869346734,
          6.125628140703517,
          6.155778894472362,
          6.185929648241205,
          6.21608040201005,
          6.2462311557788945,
          6.276381909547738,
          6.306532663316583,
          6.3366834170854265,
          6.366834170854271,
          6.396984924623116,
          6.427135678391959,
          6.457286432160804,
          6.487437185929648,
          6.517587939698492,
          6.547738693467337,
          6.57788944723618,
          6.608040201005025,
          6.638190954773869,
          6.668341708542713,
          6.698492462311558,
          6.7286432160804015,
          6.758793969849246,
          6.788944723618091,
          6.819095477386934,
          6.849246231155779,
          6.879396984924623,
          6.909547738693467,
          6.939698492462312,
          6.969849246231155,
          7
         ],
         "y": [
          -6.1,
          -5.855752779706215,
          -5.617439626099488,
          -5.384994757378214,
          -5.158352391740783,
          -4.937446747385573,
          -4.72221204251098,
          -4.512582495315394,
          -4.3084923239972,
          -4.109875746754784,
          -3.9166669817865367,
          -3.728800247290849,
          -3.546209761466102,
          -3.3688297425106897,
          -3.1965944086229996,
          -3.0294379780014196,
          -2.867294668844335,
          -2.710098699350141,
          -2.5577842877172143,
          -2.410285652143955,
          -2.2675370108287467,
          -2.129472581969978,
          -1.9960265837660303,
          -1.8671332344153029,
          -1.7427267521161809,
          -1.6227413550670406,
          -1.5071112614662923,
          -1.3957706895123068,
          -1.288653857403483,
          -1.1856949833381947,
          -1.0868282855148437,
          -0.9919879821318176,
          -0.9011082913874986,
          -0.8141234314802744,
          -0.7309676206085385,
          -0.6515750769706727,
          -0.5758800187650707,
          -0.5038166641901227,
          -0.4353192314442083,
          -0.37032193872572067,
          -0.30875900423305325,
          -0.2505646461645881,
          -0.1956730827187158,
          -0.14401853209381557,
          -0.09553521248829214,
          -0.050157342100516186,
          -0.007819139128892516,
          0.03154517822820253,
          0.0680013917723727,
          0.10161528330524447,
          0.1324526346284074,
          0.1605792275434908,
          0.18606084385210409,
          0.20896326535584536,
          0.22935227385634108,
          0.247293651155195,
          0.26285317905403077,
          0.2760966393544493,
          0.2870898138580628,
          0.295898484366478,
          0.30258843268132407,
          0.30722544060420204,
          0.30987528993671276,
          0.3106037624804969,
          0.3094766400371327,
          0.3065597044082608,
          0.3019187373954651,
          0.2956195208003862,
          0.28772783642461375,
          0.278309466069777,
          0.2674301915374713,
          0.2551557946293144,
          0.24155205714693012,
          0.2266847608919079,
          0.2106196876658714,
          0.19342261927042728,
          0.17515933750721616,
          0.15589562417781053,
          0.13569726108383975,
          0.11463003002689902,
          0.09275971280864041,
          0.07015209123063641,
          0.04687294709450498,
          0.022988062201864067,
          -0.0014367816456569925,
          -0.026335802646468665,
          -0.05164321899897004,
          -0.07729324890150338,
          -0.10322011055251892,
          -0.12935802215034756,
          -0.15564120189339975,
          -0.18200386798008594,
          -0.20838023860876548,
          -0.23470453197783173,
          -0.26091096628567245,
          -0.28693375973069807,
          -0.3127071305112679,
          -0.33816529682578106,
          -0.36324247687263095,
          -0.387872888850211,
          -0.4119907509568804,
          -0.4355302813910555,
          -0.4584256983510954,
          -0.48061122003543344,
          -0.5020210646424061,
          -0.5225894503704523,
          -0.5422505954179314,
          -0.560938717983231,
          -0.5785880362647674,
          -0.5951327684608827,
          -0.6105071327699989,
          -0.6246453473904694,
          -0.6374816305207218,
          -0.648950200359127,
          -0.6589852751040894,
          -0.6675210729539799,
          -0.6744918121071806,
          -0.6798317107620733,
          -0.6834749871170857,
          -0.6853558593705884,
          -0.6854085457209521,
          -0.6835672643665817,
          -0.6797662335058476,
          -0.6739396713371661,
          -0.666021796058908,
          -0.6559468258694551,
          -0.643648978967201,
          -0.6290624735505503,
          -0.6121215278178852,
          -0.5927603599675649,
          -0.5709131881979829,
          -0.546514230707578,
          -0.5194977056946982,
          -0.48979783135773686,
          -0.4573488258950988,
          -0.42208490750512057,
          -0.38394029438626376,
          -0.3428492047368536,
          -0.29874585675530624,
          -0.2515644686400151,
          -0.20123925858937355,
          -0.1477044448017068,
          -0.09089424547549925,
          -0.030742878809076047,
          0.032815436999146644,
          0.09984648375078678,
          0.17041604324746232,
          0.24458989729080258,
          0.3224338276823687,
          0.4040136162238241,
          0.48939504471677536,
          0.5786438949628178,
          0.6718259487635351,
          0.7690069879205907,
          0.8702527942355687,
          0.9756291495100868,
          1.0852018355457402,
          1.1990366341441927,
          1.3171993271069824,
          1.439755696235784,
          1.5667715233321815,
          1.6983125901977814,
          1.834444678634202,
          1.9752335704430606,
          2.1207450474259644,
          2.2710448913845083,
          2.4261988841203674,
          2.58627280743508,
          2.7513324431302637,
          2.9214435730075934,
          3.0966719788686077,
          3.2770834425149475,
          3.462743745748264,
          3.6537186703701194,
          3.8500739981821313,
          4.051875510985894,
          4.259188990583084,
          4.472080218775238,
          4.690614977364044,
          4.914859048151049,
          5.144878212937897,
          5.380738253526147,
          5.622504951717474,
          5.870244089313519,
          6.124021448115786,
          6.383902809925985,
          6.649953956545687,
          6.922240669776488,
          7.200828731420051,
          7.485783923277927,
          7.777172027151755,
          8.075058824843131,
          8.37951009815372,
          8.690591628885068,
          9.00836919883884,
          9.332908589816588,
          9.664275583619997,
          10.002535962050592,
          10.347755506910039,
          10.7
         ]
        },
        {
         "marker": {
          "size": 12
         },
         "mode": "markers",
         "name": "df = zero",
         "type": "scatter",
         "x": [
          2.3927,
          3.5309,
          5.3263
         ],
         "y": [
          0,
          0,
          0
         ]
        }
       ],
       "layout": {
        "font": {
         "size": 20
        },
        "template": {
         "data": {
          "bar": [
           {
            "error_x": {
             "color": "#2a3f5f"
            },
            "error_y": {
             "color": "#2a3f5f"
            },
            "marker": {
             "line": {
              "color": "#E5ECF6",
              "width": 0.5
             },
             "pattern": {
              "fillmode": "overlay",
              "size": 10,
              "solidity": 0.2
             }
            },
            "type": "bar"
           }
          ],
          "barpolar": [
           {
            "marker": {
             "line": {
              "color": "#E5ECF6",
              "width": 0.5
             },
             "pattern": {
              "fillmode": "overlay",
              "size": 10,
              "solidity": 0.2
             }
            },
            "type": "barpolar"
           }
          ],
          "carpet": [
           {
            "aaxis": {
             "endlinecolor": "#2a3f5f",
             "gridcolor": "white",
             "linecolor": "white",
             "minorgridcolor": "white",
             "startlinecolor": "#2a3f5f"
            },
            "baxis": {
             "endlinecolor": "#2a3f5f",
             "gridcolor": "white",
             "linecolor": "white",
             "minorgridcolor": "white",
             "startlinecolor": "#2a3f5f"
            },
            "type": "carpet"
           }
          ],
          "choropleth": [
           {
            "colorbar": {
             "outlinewidth": 0,
             "ticks": ""
            },
            "type": "choropleth"
           }
          ],
          "contour": [
           {
            "colorbar": {
             "outlinewidth": 0,
             "ticks": ""
            },
            "colorscale": [
             [
              0,
              "#0d0887"
             ],
             [
              0.1111111111111111,
              "#46039f"
             ],
             [
              0.2222222222222222,
              "#7201a8"
             ],
             [
              0.3333333333333333,
              "#9c179e"
             ],
             [
              0.4444444444444444,
              "#bd3786"
             ],
             [
              0.5555555555555556,
              "#d8576b"
             ],
             [
              0.6666666666666666,
              "#ed7953"
             ],
             [
              0.7777777777777778,
              "#fb9f3a"
             ],
             [
              0.8888888888888888,
              "#fdca26"
             ],
             [
              1,
              "#f0f921"
             ]
            ],
            "type": "contour"
           }
          ],
          "contourcarpet": [
           {
            "colorbar": {
             "outlinewidth": 0,
             "ticks": ""
            },
            "type": "contourcarpet"
           }
          ],
          "heatmap": [
           {
            "colorbar": {
             "outlinewidth": 0,
             "ticks": ""
            },
            "colorscale": [
             [
              0,
              "#0d0887"
             ],
             [
              0.1111111111111111,
              "#46039f"
             ],
             [
              0.2222222222222222,
              "#7201a8"
             ],
             [
              0.3333333333333333,
              "#9c179e"
             ],
             [
              0.4444444444444444,
              "#bd3786"
             ],
             [
              0.5555555555555556,
              "#d8576b"
             ],
             [
              0.6666666666666666,
              "#ed7953"
             ],
             [
              0.7777777777777778,
              "#fb9f3a"
             ],
             [
              0.8888888888888888,
              "#fdca26"
             ],
             [
              1,
              "#f0f921"
             ]
            ],
            "type": "heatmap"
           }
          ],
          "heatmapgl": [
           {
            "colorbar": {
             "outlinewidth": 0,
             "ticks": ""
            },
            "colorscale": [
             [
              0,
              "#0d0887"
             ],
             [
              0.1111111111111111,
              "#46039f"
             ],
             [
              0.2222222222222222,
              "#7201a8"
             ],
             [
              0.3333333333333333,
              "#9c179e"
             ],
             [
              0.4444444444444444,
              "#bd3786"
             ],
             [
              0.5555555555555556,
              "#d8576b"
             ],
             [
              0.6666666666666666,
              "#ed7953"
             ],
             [
              0.7777777777777778,
              "#fb9f3a"
             ],
             [
              0.8888888888888888,
              "#fdca26"
             ],
             [
              1,
              "#f0f921"
             ]
            ],
            "type": "heatmapgl"
           }
          ],
          "histogram": [
           {
            "marker": {
             "pattern": {
              "fillmode": "overlay",
              "size": 10,
              "solidity": 0.2
             }
            },
            "type": "histogram"
           }
          ],
          "histogram2d": [
           {
            "colorbar": {
             "outlinewidth": 0,
             "ticks": ""
            },
            "colorscale": [
             [
              0,
              "#0d0887"
             ],
             [
              0.1111111111111111,
              "#46039f"
             ],
             [
              0.2222222222222222,
              "#7201a8"
             ],
             [
              0.3333333333333333,
              "#9c179e"
             ],
             [
              0.4444444444444444,
              "#bd3786"
             ],
             [
              0.5555555555555556,
              "#d8576b"
             ],
             [
              0.6666666666666666,
              "#ed7953"
             ],
             [
              0.7777777777777778,
              "#fb9f3a"
             ],
             [
              0.8888888888888888,
              "#fdca26"
             ],
             [
              1,
              "#f0f921"
             ]
            ],
            "type": "histogram2d"
           }
          ],
          "histogram2dcontour": [
           {
            "colorbar": {
             "outlinewidth": 0,
             "ticks": ""
            },
            "colorscale": [
             [
              0,
              "#0d0887"
             ],
             [
              0.1111111111111111,
              "#46039f"
             ],
             [
              0.2222222222222222,
              "#7201a8"
             ],
             [
              0.3333333333333333,
              "#9c179e"
             ],
             [
              0.4444444444444444,
              "#bd3786"
             ],
             [
              0.5555555555555556,
              "#d8576b"
             ],
             [
              0.6666666666666666,
              "#ed7953"
             ],
             [
              0.7777777777777778,
              "#fb9f3a"
             ],
             [
              0.8888888888888888,
              "#fdca26"
             ],
             [
              1,
              "#f0f921"
             ]
            ],
            "type": "histogram2dcontour"
           }
          ],
          "mesh3d": [
           {
            "colorbar": {
             "outlinewidth": 0,
             "ticks": ""
            },
            "type": "mesh3d"
           }
          ],
          "parcoords": [
           {
            "line": {
             "colorbar": {
              "outlinewidth": 0,
              "ticks": ""
             }
            },
            "type": "parcoords"
           }
          ],
          "pie": [
           {
            "automargin": true,
            "type": "pie"
           }
          ],
          "scatter": [
           {
            "fillpattern": {
             "fillmode": "overlay",
             "size": 10,
             "solidity": 0.2
            },
            "type": "scatter"
           }
          ],
          "scatter3d": [
           {
            "line": {
             "colorbar": {
              "outlinewidth": 0,
              "ticks": ""
             }
            },
            "marker": {
             "colorbar": {
              "outlinewidth": 0,
              "ticks": ""
             }
            },
            "type": "scatter3d"
           }
          ],
          "scattercarpet": [
           {
            "marker": {
             "colorbar": {
              "outlinewidth": 0,
              "ticks": ""
             }
            },
            "type": "scattercarpet"
           }
          ],
          "scattergeo": [
           {
            "marker": {
             "colorbar": {
              "outlinewidth": 0,
              "ticks": ""
             }
            },
            "type": "scattergeo"
           }
          ],
          "scattergl": [
           {
            "marker": {
             "colorbar": {
              "outlinewidth": 0,
              "ticks": ""
             }
            },
            "type": "scattergl"
           }
          ],
          "scattermapbox": [
           {
            "marker": {
             "colorbar": {
              "outlinewidth": 0,
              "ticks": ""
             }
            },
            "type": "scattermapbox"
           }
          ],
          "scatterpolar": [
           {
            "marker": {
             "colorbar": {
              "outlinewidth": 0,
              "ticks": ""
             }
            },
            "type": "scatterpolar"
           }
          ],
          "scatterpolargl": [
           {
            "marker": {
             "colorbar": {
              "outlinewidth": 0,
              "ticks": ""
             }
            },
            "type": "scatterpolargl"
           }
          ],
          "scatterternary": [
           {
            "marker": {
             "colorbar": {
              "outlinewidth": 0,
              "ticks": ""
             }
            },
            "type": "scatterternary"
           }
          ],
          "surface": [
           {
            "colorbar": {
             "outlinewidth": 0,
             "ticks": ""
            },
            "colorscale": [
             [
              0,
              "#0d0887"
             ],
             [
              0.1111111111111111,
              "#46039f"
             ],
             [
              0.2222222222222222,
              "#7201a8"
             ],
             [
              0.3333333333333333,
              "#9c179e"
             ],
             [
              0.4444444444444444,
              "#bd3786"
             ],
             [
              0.5555555555555556,
              "#d8576b"
             ],
             [
              0.6666666666666666,
              "#ed7953"
             ],
             [
              0.7777777777777778,
              "#fb9f3a"
             ],
             [
              0.8888888888888888,
              "#fdca26"
             ],
             [
              1,
              "#f0f921"
             ]
            ],
            "type": "surface"
           }
          ],
          "table": [
           {
            "cells": {
             "fill": {
              "color": "#EBF0F8"
             },
             "line": {
              "color": "white"
             }
            },
            "header": {
             "fill": {
              "color": "#C8D4E3"
             },
             "line": {
              "color": "white"
             }
            },
            "type": "table"
           }
          ]
         },
         "layout": {
          "annotationdefaults": {
           "arrowcolor": "#2a3f5f",
           "arrowhead": 0,
           "arrowwidth": 1
          },
          "autotypenumbers": "strict",
          "coloraxis": {
           "colorbar": {
            "outlinewidth": 0,
            "ticks": ""
           }
          },
          "colorscale": {
           "diverging": [
            [
             0,
             "#8e0152"
            ],
            [
             0.1,
             "#c51b7d"
            ],
            [
             0.2,
             "#de77ae"
            ],
            [
             0.3,
             "#f1b6da"
            ],
            [
             0.4,
             "#fde0ef"
            ],
            [
             0.5,
             "#f7f7f7"
            ],
            [
             0.6,
             "#e6f5d0"
            ],
            [
             0.7,
             "#b8e186"
            ],
            [
             0.8,
             "#7fbc41"
            ],
            [
             0.9,
             "#4d9221"
            ],
            [
             1,
             "#276419"
            ]
           ],
           "sequential": [
            [
             0,
             "#0d0887"
            ],
            [
             0.1111111111111111,
             "#46039f"
            ],
            [
             0.2222222222222222,
             "#7201a8"
            ],
            [
             0.3333333333333333,
             "#9c179e"
            ],
            [
             0.4444444444444444,
             "#bd3786"
            ],
            [
             0.5555555555555556,
             "#d8576b"
            ],
            [
             0.6666666666666666,
             "#ed7953"
            ],
            [
             0.7777777777777778,
             "#fb9f3a"
            ],
            [
             0.8888888888888888,
             "#fdca26"
            ],
            [
             1,
             "#f0f921"
            ]
           ],
           "sequentialminus": [
            [
             0,
             "#0d0887"
            ],
            [
             0.1111111111111111,
             "#46039f"
            ],
            [
             0.2222222222222222,
             "#7201a8"
            ],
            [
             0.3333333333333333,
             "#9c179e"
            ],
            [
             0.4444444444444444,
             "#bd3786"
            ],
            [
             0.5555555555555556,
             "#d8576b"
            ],
            [
             0.6666666666666666,
             "#ed7953"
            ],
            [
             0.7777777777777778,
             "#fb9f3a"
            ],
            [
             0.8888888888888888,
             "#fdca26"
            ],
            [
             1,
             "#f0f921"
            ]
           ]
          },
          "colorway": [
           "#636efa",
           "#EF553B",
           "#00cc96",
           "#ab63fa",
           "#FFA15A",
           "#19d3f3",
           "#FF6692",
           "#B6E880",
           "#FF97FF",
           "#FECB52"
          ],
          "font": {
           "color": "#2a3f5f"
          },
          "geo": {
           "bgcolor": "white",
           "lakecolor": "white",
           "landcolor": "#E5ECF6",
           "showlakes": true,
           "showland": true,
           "subunitcolor": "white"
          },
          "hoverlabel": {
           "align": "left"
          },
          "hovermode": "closest",
          "mapbox": {
           "style": "light"
          },
          "paper_bgcolor": "white",
          "plot_bgcolor": "#E5ECF6",
          "polar": {
           "angularaxis": {
            "gridcolor": "white",
            "linecolor": "white",
            "ticks": ""
           },
           "bgcolor": "#E5ECF6",
           "radialaxis": {
            "gridcolor": "white",
            "linecolor": "white",
            "ticks": ""
           }
          },
          "scene": {
           "xaxis": {
            "backgroundcolor": "#E5ECF6",
            "gridcolor": "white",
            "gridwidth": 2,
            "linecolor": "white",
            "showbackground": true,
            "ticks": "",
            "zerolinecolor": "white"
           },
           "yaxis": {
            "backgroundcolor": "#E5ECF6",
            "gridcolor": "white",
            "gridwidth": 2,
            "linecolor": "white",
            "showbackground": true,
            "ticks": "",
            "zerolinecolor": "white"
           },
           "zaxis": {
            "backgroundcolor": "#E5ECF6",
            "gridcolor": "white",
            "gridwidth": 2,
            "linecolor": "white",
            "showbackground": true,
            "ticks": "",
            "zerolinecolor": "white"
           }
          },
          "shapedefaults": {
           "line": {
            "color": "#2a3f5f"
           }
          },
          "ternary": {
           "aaxis": {
            "gridcolor": "white",
            "linecolor": "white",
            "ticks": ""
           },
           "baxis": {
            "gridcolor": "white",
            "linecolor": "white",
            "ticks": ""
           },
           "bgcolor": "#E5ECF6",
           "caxis": {
            "gridcolor": "white",
            "linecolor": "white",
            "ticks": ""
           }
          },
          "title": {
           "x": 0.05
          },
          "xaxis": {
           "automargin": true,
           "gridcolor": "white",
           "linecolor": "white",
           "ticks": "",
           "title": {
            "standoff": 15
           },
           "zerolinecolor": "white",
           "zerolinewidth": 2
          },
          "yaxis": {
           "automargin": true,
           "gridcolor": "white",
           "linecolor": "white",
           "ticks": "",
           "title": {
            "standoff": 15
           },
           "zerolinecolor": "white",
           "zerolinewidth": 2
          }
         }
        },
        "yaxis": {
         "range": [
          -1,
          3
         ]
        }
       }
      }
     },
     "metadata": {},
     "output_type": "display_data"
    }
   ],
   "source": [
    "import plotly.graph_objects as go\n",
    "\n",
    "def derivative_arbitrary(x):\n",
    "    return (4*x**3 - 45*x**2 + 160*x - 180)/10\n",
    "\n",
    "\n",
    "fig = go.Figure()\n",
    "roots = np.array([2.3927, 3.5309, 5.3263])\n",
    "\n",
    "fig.add_trace(go.Scatter(x = xs, y = arbitrary(xs), \n",
    "                         mode = \"lines\", name = \"f\"))\n",
    "fig.add_trace(go.Scatter(x = xs, y = derivative_arbitrary(xs), \n",
    "                         mode = \"lines\", name = \"df\", line = {\"dash\": \"dash\"}))\n",
    "fig.add_trace(go.Scatter(x = np.array(roots), y = 0*roots, \n",
    "                         mode = \"markers\", name = \"df = zero\", marker_size = 12))\n",
    "fig.update_layout(font_size = 20, yaxis_range=[-1, 3])\n",
    "fig.show()"
   ]
  },
  {
   "cell_type": "code",
   "execution_count": 15,
   "id": "97201222",
   "metadata": {},
   "outputs": [],
   "source": [
    "import matplotlib.pyplot as plt\n",
    "\n",
    "def plot_arbitrary():\n",
    "    x = np.linspace(1, 7, 100)\n",
    "    plt.plot(x, arbitrary(x))\n",
    "    axes = plt.gca()\n",
    "    axes.set_ylim([-1, 3])\n",
    "    \n",
    "def plot_x_on_f(f, x):\n",
    "    y = f(x)    \n",
    "    default_args = dict(label=r'$ \\theta $', zorder=2,\n",
    "                        s=200, c=sns.xkcd_rgb['green'])\n",
    "    plt.scatter([x], [y], **default_args)\n",
    "    \n",
    "def plot_x_on_f_empty(f, x):\n",
    "    y = f(x)\n",
    "    default_args = dict(label=r'$ \\theta $', zorder=2,\n",
    "                        s=200, c = 'none', edgecolor=sns.xkcd_rgb['green'])\n",
    "    plt.scatter([x], [y], **default_args)    \n",
    "    \n",
    "def plot_tangent_on_f(f, x, eps=1e-6):\n",
    "    slope = ((f(x + eps) - f(x - eps))\n",
    "             / (2 * eps))\n",
    "    xs = np.arange(x - 1, x + 1, 0.05)\n",
    "    ys = f(x) + slope * (xs - x)\n",
    "    plt.plot(xs, ys, zorder=3, c=sns.xkcd_rgb['green'], linestyle='--')    "
   ]
  },
  {
   "cell_type": "code",
   "execution_count": 16,
   "id": "526ea2f9",
   "metadata": {},
   "outputs": [
    {
     "data": {
      "image/png": "[encoded data removed]",
      "text/plain": [
       "<Figure size 640x480 with 1 Axes>"
      ]
     },
     "metadata": {},
     "output_type": "display_data"
    }
   ],
   "source": [
    "plot_arbitrary()\n",
    "plot_x_on_f(arbitrary, 2)\n",
    "plot_tangent_on_f(arbitrary, 2)\n",
    "plt.xlabel('x')\n",
    "plt.ylabel('f(x)');"
   ]
  },
  {
   "cell_type": "code",
   "execution_count": 17,
   "id": "6297b9b4",
   "metadata": {},
   "outputs": [
    {
     "data": {
      "image/png": "[encoded data removed]",
      "text/plain": [
       "<Figure size 640x480 with 1 Axes>"
      ]
     },
     "metadata": {},
     "output_type": "display_data"
    }
   ],
   "source": [
    "plot_arbitrary()\n",
    "plot_x_on_f(arbitrary, 4.4)\n",
    "plot_tangent_on_f(arbitrary, 4.4)"
   ]
  },
  {
   "cell_type": "markdown",
   "id": "05a94e0b",
   "metadata": {},
   "source": [
    "## Manually Descending the Gradient"
   ]
  },
  {
   "cell_type": "markdown",
   "id": "06416353",
   "metadata": {},
   "source": [
    "Armed with this knowledge, let's try to see if we can use the derivative to optimize the function."
   ]
  },
  {
   "cell_type": "code",
   "execution_count": 18,
   "id": "6bf9f7d4",
   "metadata": {},
   "outputs": [
    {
     "name": "stdout",
     "output_type": "stream",
     "text": [
      "x: 4, f(x): 0.0, derivative f'(x): -0.4\n"
     ]
    }
   ],
   "source": [
    "guess = 4\n",
    "print(f\"x: {guess}, f(x): {arbitrary(guess)}, derivative f'(x): {derivative_arbitrary(guess)}\")"
   ]
  },
  {
   "cell_type": "code",
   "execution_count": 19,
   "id": "fea9f8cd",
   "metadata": {},
   "outputs": [
    {
     "name": "stdout",
     "output_type": "stream",
     "text": [
      "x: 4.4, f(x): -0.21504000000003315, derivative f'(x): -0.6464000000000055\n"
     ]
    }
   ],
   "source": [
    "guess = 4 + 0.4\n",
    "print(f\"x: {guess}, f(x): {arbitrary(guess)}, derivative f'(x): {derivative_arbitrary(guess)}\")"
   ]
  },
  {
   "cell_type": "code",
   "execution_count": 20,
   "id": "0b797d2f",
   "metadata": {},
   "outputs": [],
   "source": [
    "def plot_one_step(x):\n",
    "    new_x = x - derivative_arbitrary(x)\n",
    "    plot_arbitrary()\n",
    "    plot_x_on_f(arbitrary, new_x)\n",
    "    plot_x_on_f_empty(arbitrary, x)\n",
    "    print(f'old x: {x}')\n",
    "    print(f'new x: {new_x}')    "
   ]
  },
  {
   "cell_type": "code",
   "execution_count": 21,
   "id": "bbaa3063",
   "metadata": {},
   "outputs": [
    {
     "name": "stdout",
     "output_type": "stream",
     "text": [
      "old x: 4\n",
      "new x: 4.4\n"
     ]
    },
    {
     "data": {
      "image/png": "[encoded data removed]",
      "text/plain": [
       "<Figure size 640x480 with 1 Axes>"
      ]
     },
     "metadata": {},
     "output_type": "display_data"
    }
   ],
   "source": [
    "plot_one_step(4)"
   ]
  },
  {
   "cell_type": "code",
   "execution_count": 22,
   "id": "c4056340",
   "metadata": {},
   "outputs": [
    {
     "name": "stdout",
     "output_type": "stream",
     "text": [
      "old x: 4.4\n",
      "new x: 5.0464000000000055\n"
     ]
    },
    {
     "data": {
      "image/png": "[encoded data removed]",
      "text/plain": [
       "<Figure size 640x480 with 1 Axes>"
      ]
     },
     "metadata": {},
     "output_type": "display_data"
    }
   ],
   "source": [
    "plot_one_step(4.4)"
   ]
  },
  {
   "cell_type": "code",
   "execution_count": 23,
   "id": "d618890b",
   "metadata": {},
   "outputs": [
    {
     "name": "stdout",
     "output_type": "stream",
     "text": [
      "old x: 5.0464\n",
      "new x: 5.49673060106241\n"
     ]
    },
    {
     "data": {
      "image/png": "[encoded data removed]",
      "text/plain": [
       "<Figure size 640x480 with 1 Axes>"
      ]
     },
     "metadata": {},
     "output_type": "display_data"
    }
   ],
   "source": [
    "plot_one_step(5.0464)"
   ]
  },
  {
   "cell_type": "code",
   "execution_count": 24,
   "id": "d9bb1e13",
   "metadata": {},
   "outputs": [
    {
     "name": "stdout",
     "output_type": "stream",
     "text": [
      "old x: 5.4967\n",
      "new x: 5.080917145374805\n"
     ]
    },
    {
     "data": {
      "image/png": "[encoded data removed]",
      "text/plain": [
       "<Figure size 640x480 with 1 Axes>"
      ]
     },
     "metadata": {},
     "output_type": "display_data"
    }
   ],
   "source": [
    "plot_one_step(5.4967)"
   ]
  },
  {
   "cell_type": "code",
   "execution_count": 25,
   "id": "156d527b",
   "metadata": {},
   "outputs": [
    {
     "name": "stdout",
     "output_type": "stream",
     "text": [
      "old x: 5.080917145374805\n",
      "new x: 5.489966698640582\n"
     ]
    },
    {
     "data": {
      "image/png": "[encoded data removed]",
      "text/plain": [
       "<Figure size 640x480 with 1 Axes>"
      ]
     },
     "metadata": {},
     "output_type": "display_data"
    }
   ],
   "source": [
    "plot_one_step(5.080917145374805)"
   ]
  },
  {
   "cell_type": "code",
   "execution_count": 26,
   "id": "dabb43d3",
   "metadata": {},
   "outputs": [
    {
     "name": "stdout",
     "output_type": "stream",
     "text": [
      "old x: 5.489966698640582\n",
      "new x: 5.092848945470474\n"
     ]
    },
    {
     "data": {
      "image/png": "[encoded data removed]",
      "text/plain": [
       "<Figure size 640x480 with 1 Axes>"
      ]
     },
     "metadata": {},
     "output_type": "display_data"
    }
   ],
   "source": [
    "plot_one_step(5.489966698640582)"
   ]
  },
  {
   "cell_type": "code",
   "execution_count": 27,
   "id": "fb83192a",
   "metadata": {},
   "outputs": [],
   "source": [
    "def plot_one_step_better(x):\n",
    "    new_x = x - 0.3 * derivative_arbitrary(x)\n",
    "    plot_arbitrary()\n",
    "    plot_x_on_f(arbitrary, new_x)\n",
    "    plot_x_on_f_empty(arbitrary, x)\n",
    "    print(f'old x: {x}')\n",
    "    print(f'new x: {new_x}')    "
   ]
  },
  {
   "cell_type": "code",
   "execution_count": 28,
   "id": "8c99d208",
   "metadata": {},
   "outputs": [
    {
     "name": "stdout",
     "output_type": "stream",
     "text": [
      "old x: 4\n",
      "new x: 4.12\n"
     ]
    },
    {
     "data": {
      "image/png": "[encoded data removed]",
      "text/plain": [
       "<Figure size 640x480 with 1 Axes>"
      ]
     },
     "metadata": {},
     "output_type": "display_data"
    }
   ],
   "source": [
    "plot_one_step_better(4)"
   ]
  },
  {
   "cell_type": "code",
   "execution_count": 29,
   "id": "e1005c79",
   "metadata": {},
   "outputs": [
    {
     "name": "stdout",
     "output_type": "stream",
     "text": [
      "old x: 4.12\n",
      "new x: 4.267296639999997\n"
     ]
    },
    {
     "data": {
      "image/png": "[encoded data removed]",
      "text/plain": [
       "<Figure size 640x480 with 1 Axes>"
      ]
     },
     "metadata": {},
     "output_type": "display_data"
    }
   ],
   "source": [
    "plot_one_step_better(4.12)"
   ]
  },
  {
   "cell_type": "code",
   "execution_count": 30,
   "id": "3701b291",
   "metadata": {},
   "outputs": [
    {
     "name": "stdout",
     "output_type": "stream",
     "text": [
      "old x: 5.17180969114245\n",
      "new x: 5.256374838146257\n"
     ]
    },
    {
     "data": {
      "image/png": "[encoded data removed]",
      "text/plain": [
       "<Figure size 640x480 with 1 Axes>"
      ]
     },
     "metadata": {},
     "output_type": "display_data"
    }
   ],
   "source": [
    "plot_one_step_better(5.17180969114245)"
   ]
  },
  {
   "cell_type": "code",
   "execution_count": 31,
   "id": "1f8de6e3",
   "metadata": {},
   "outputs": [
    {
     "name": "stdout",
     "output_type": "stream",
     "text": [
      "old x: 5.323\n",
      "new x: 5.325108157959999\n"
     ]
    },
    {
     "data": {
      "image/png": "[encoded data removed]",
      "text/plain": [
       "<Figure size 640x480 with 1 Axes>"
      ]
     },
     "metadata": {},
     "output_type": "display_data"
    }
   ],
   "source": [
    "plot_one_step_better(5.323)"
   ]
  },
  {
   "cell_type": "markdown",
   "id": "9901a30f",
   "metadata": {},
   "source": [
    "## Gradient Descent as an Algorithmic Procedure in Code"
   ]
  },
  {
   "cell_type": "markdown",
   "id": "30293280",
   "metadata": {},
   "source": [
    "Written as a recurrence relation, the process we've described above is:\n",
    "\n",
    "$$\n",
    "x^{(t+1)} = x^{(t)} -  0.3 \\frac{d}{dx} f(x)\n",
    "$$\n",
    "\n",
    "This algorithm is also known as \"gradient descent\". \n",
    "\n",
    "Given a current $x$, gradient descent creates its next guess for $x$ based on the sign and magnitude of the derivative."
   ]
  },
  {
   "cell_type": "markdown",
   "id": "8176c158",
   "metadata": {},
   "source": [
    "Our choice of 0.3 above was totally arbitrary. Naturally, we can generalize by replacing it with a parameter, typically represented by $\\alpha$, and often called the \"learning rate\"."
   ]
  },
  {
   "cell_type": "markdown",
   "id": "00fcf67f",
   "metadata": {},
   "source": [
    "$$\n",
    "x^{(t+1)} = x^{(t)} -  \\alpha \\frac{d}{dx} f(x)\n",
    "$$"
   ]
  },
  {
   "cell_type": "markdown",
   "id": "c0fd5281",
   "metadata": {},
   "source": [
    "We can also write up this procedure in code as given below:"
   ]
  },
  {
   "cell_type": "code",
   "execution_count": 32,
   "id": "c8e16d36",
   "metadata": {},
   "outputs": [],
   "source": [
    "def gradient_descent(df, initial_guess, alpha, n):\n",
    "    \"\"\"Performs n steps of gradient descent on df using learning rate alpha starting\n",
    "       from initial_guess. Returns a numpy array of all guesses over time.\"\"\"\n",
    "    guesses = [initial_guess]\n",
    "    current_guess = initial_guess\n",
    "    while len(guesses) < n:\n",
    "        current_guess = current_guess - alpha * df(current_guess)\n",
    "        guesses.append(current_guess)\n",
    "        \n",
    "    return np.array(guesses)"
   ]
  },
  {
   "cell_type": "code",
   "execution_count": 33,
   "id": "786c1c51",
   "metadata": {
    "scrolled": true
   },
   "outputs": [
    {
     "data": {
      "text/plain": [
       "array([4.        , 4.12      , 4.26729664, 4.44272584, 4.64092624,\n",
       "       4.8461837 , 5.03211854, 5.17201478, 5.25648449, 5.29791149,\n",
       "       5.31542718, 5.3222606 , 5.32483298, 5.32578765, 5.32614004,\n",
       "       5.32626985, 5.32631764, 5.32633523, 5.3263417 , 5.32634408])"
      ]
     },
     "execution_count": 33,
     "metadata": {},
     "output_type": "execute_result"
    }
   ],
   "source": [
    "trajectory = gradient_descent(derivative_arbitrary, 4, 0.3, 20)\n",
    "trajectory"
   ]
  },
  {
   "cell_type": "code",
   "execution_count": 34,
   "id": "b7a2fe03",
   "metadata": {},
   "outputs": [
    {
     "data": {
      "text/plain": [
       "array([4.        , 4.4       , 5.0464    , 5.4967306 , 5.08086249,\n",
       "       5.48998039, 5.09282487, 5.48675539, 5.09847285, 5.48507269,\n",
       "       5.10140255, 5.48415922, 5.10298805, 5.48365325, 5.10386474,\n",
       "       5.48336998, 5.1043551 , 5.48321045, 5.10463112, 5.48312031])"
      ]
     },
     "execution_count": 34,
     "metadata": {},
     "output_type": "execute_result"
    }
   ],
   "source": [
    "trajectory = gradient_descent(derivative_arbitrary, 4, 1, 20)\n",
    "trajectory"
   ]
  },
  {
   "cell_type": "markdown",
   "id": "212b7d4b",
   "metadata": {},
   "source": [
    "Below, we see a visualization of the trajectory taken by this algorithm."
   ]
  },
  {
   "cell_type": "code",
   "execution_count": 35,
   "id": "193cbfa1",
   "metadata": {},
   "outputs": [
    {
     "data": {
      "image/png": "[encoded data removed]",
      "text/plain": [
       "<Figure size 640x480 with 1 Axes>"
      ]
     },
     "metadata": {},
     "output_type": "display_data"
    }
   ],
   "source": [
    "trajectory = gradient_descent(derivative_arbitrary, 1.6, 0.6, 20)\n",
    "plot_arbitrary()\n",
    "plt.plot(trajectory, arbitrary(trajectory));"
   ]
  },
  {
   "cell_type": "markdown",
   "id": "6f092708",
   "metadata": {},
   "source": [
    "Above, we've simply run our algorithm a fixed number of times. More sophisticated implementations will stop based on a variety of different stopping criteria, e.g. error getting too small, error getting too large, etc. We will not discuss these in our course."
   ]
  },
  {
   "cell_type": "markdown",
   "id": "62812a0c",
   "metadata": {},
   "source": []
  },
  {
   "cell_type": "markdown",
   "id": "1fce13fb",
   "metadata": {},
   "source": []
  }
 ],
 "metadata": {
  "kernelspec": {
   "display_name": "Python 3",
   "language": "python",
   "name": "python3"
  },
  "language_info": {
   "codemirror_mode": {
    "name": "ipython",
    "version": 3
   },
   "file_extension": ".py",
   "mimetype": "text/x-python",
   "name": "python",
   "nbconvert_exporter": "python",
   "pygments_lexer": "ipython3",
   "version": "3.11.7"
  }
 },
 "nbformat": 4,
 "nbformat_minor": 5
}
