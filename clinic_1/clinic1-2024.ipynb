{
 "cells": [
  {
   "cell_type": "markdown",
   "id": "f1685955",
   "metadata": {},
   "source": [
    "(Placeholder for your name)\n",
    "\n",
    "(Placeholder for your i-number)"
   ]
  },
  {
   "cell_type": "markdown",
   "id": "fa490812",
   "metadata": {
    "nbpresent": {
     "id": "50a40f10-f4b6-4dd3-b7aa-c63ed3ca3244"
    },
    "slideshow": {
     "slide_type": "slide"
    }
   },
   "source": [
    "# Data Analysis\n",
    "\n",
    "# Clinic1: Exploratory Data Analysis"
   ]
  },
  {
   "cell_type": "markdown",
   "id": "b37958a6",
   "metadata": {},
   "source": [
    "## DELIVERABLES (DEADLINE 21/February late night, wildcards possible)\n",
    "\n",
    "Instructions for the deliverable: \n",
    "\n",
    "* Make sure that you include a proper amount/mix of comments, results and code.\n",
    "\n",
    "* In the end, make sure that all cells are executed properly and everything you need to show is in your (execucted) notebook.\n",
    "\n",
    "* You are asked to deliver **only your executed notebook file, .ipnyb** and nothing else. Enjoy!\n",
    "\n",
    "* Honor code applies to these tasks. Only individual work should be submitted.\n",
    "\n",
    "* Data science is a collaborative activity. While you may talk with others about the clinic, we ask that you **write your solutions individually**. If you do discuss the assignments with others please **include their names** below.\n",
    "\n",
    "* It is mandatory to list and disclose any website (or other resource) you used (e.g. stackoverflow) as well as any genAI tools (e.g. chatGPT) used."
   ]
  },
  {
   "cell_type": "markdown",
   "id": "6419351a",
   "metadata": {
    "nbgrader": {
     "grade": false,
     "grade_id": "introduction",
     "locked": true,
     "schema_version": 2,
     "solution": false
    }
   },
   "source": [
    "**Collaborators**: *list collaborators here*"
   ]
  },
  {
   "cell_type": "markdown",
   "id": "16823ead",
   "metadata": {
    "nbgrader": {
     "grade": false,
     "grade_id": "introduction",
     "locked": true,
     "schema_version": 2,
     "solution": false
    }
   },
   "source": [
    "**Use of genAI tools (e.g. chatGPT), websites (e.g. stackoverflow)**: *list websites where you found code (or other info) as well as include information on how you used genAI tools*"
   ]
  },
  {
   "cell_type": "markdown",
   "id": "4f662b95",
   "metadata": {},
   "source": [
    "### Learning goals\n",
    "\n",
    "By completing and delivering the clinic tasks you will know how to :\n",
    "\n",
    "* Load files and check their integrity\n",
    "* Identifying the type of data collected, missing values, anomalies, etc.\n",
    "* Wrangle data for analysis\n",
    "* Parse columns in the dataframe to create new dataframe columns\n",
    "* Use EDA to learn more about your data\n",
    "* Create and interpret informative visualizations to explore the data set\n",
    "* Derive meaningful insights for the societal impact of datasets"
   ]
  },
  {
   "cell_type": "markdown",
   "id": "21b64fea",
   "metadata": {},
   "source": [
    "## 0: Introduction to the Problem\n",
    "\n",
    "The Product Safety Alerts page (https://ec.europa.eu/safety-gate-alerts/screen/search?resetSearch=true) of the European Commission (EC) serves as a vital resource for consumers, businesses, and authorities across the European Union (EU). This platform provides up-to-date information on products that pose risks to consumers' health and safety, thereby facilitating prompt action to mitigate potential hazards.\n",
    "\n",
    "Some key features and functions of the Product Safety Alerts page include:\n",
    "\n",
    "**Alert Notifications**: The page regularly publishes alerts regarding unsafe products circulating within the EU market. These alerts cover a wide range of products, including toys, electrical appliances, cosmetics, and household goods.\n",
    "\n",
    "**Identification of Risks**: Each alert details the specific risks associated with the identified products, such as potential choking hazards, chemical contamination, or electrical malfunctions.\n",
    "\n",
    "**Product Details**: The alerts include information about the product brand, model, and description, enabling consumers to identify and avoid purchasing or using the affected items.\n",
    "\n",
    "**Recommended Actions**: The EC provides guidance on recommended actions for consumers, retailers, and authorities, such as discontinuing product use, recalling items from the market, and implementing corrective measures.\n",
    "\n",
    "**Reporting Mechanisms**: The page offers convenient reporting mechanisms for consumers and businesses to notify authorities about unsafe products or incidents, facilitating swift response and resolution.\n",
    "\n",
    "**Archived Alerts**: Previous alerts remain accessible on the page, allowing users to review historical data and trends related to product safety issues within the EU market.\n",
    "\n",
    "Overall, the Product Safety Alerts page of the EC plays a crucial role in promoting consumer awareness, facilitating product recalls, and safeguarding public health and safety across the European Union. By providing transparent and timely information, this platform empowers stakeholders to take proactive measures to address product safety concerns effectively.\n",
    "\n",
    "Make sure to navigate the webpage to gather all information you need about the context of the problem and the dataset.\n",
    "\n",
    "In this clinic, you will perform tasks to clean, visualize, and explore historical data from alerts and come up with insights (as well as with improvements on the data schema). You will also investigate open-ended questions. These open-ended questions ask you to think critically about how the plots you have created provide insight into the data."
   ]
  },
  {
   "cell_type": "markdown",
   "id": "ad4f321d",
   "metadata": {},
   "source": [
    "### 0.1 A note on the basic EDA workflow\n",
    "\n",
    "Before we move to the actual clinic tasks, a reminder about the basic EDA workflow:\n",
    "\n",
    "1. **Build** a DataFrame from the data (ideally, put all data in this object)\n",
    "2. **Clean** the DataFrame. It should have the following properties:\n",
    "    - Each row describes a single object\n",
    "    - Each column describes a property of that object\n",
    "    - Columns are numeric whenever appropriate\n",
    "    - Columns contain atomic properties that cannot be further decomposed\n",
    "3. Explore **global properties**. Use histograms, scatter plots, and aggregation functions to summarize the data.\n",
    "4. Explore **group properties**. Use groupby and small multiples to compare subsets of the data.\n",
    "\n",
    "This process transforms your data into a format which is easier to work with, gives you a basic overview of the data's properties, and likely generates several questions for you to followup in subsequent analysis."
   ]
  },
  {
   "cell_type": "markdown",
   "id": "d0b613ac",
   "metadata": {},
   "source": [
    "### 0.2 Grading\n",
    "\n",
    "The clinic is broken down to several sub-questions so that they help you solve the tasks in an iterative way but also to facilitate grading. \n",
    "\n",
    "For responses that require numerical answers and some comment/discussion (free response), readers will evaluate how well you answered the question and/or fulfilled the requirements of the question.\n",
    "\n",
    "For plots, you should abide to the basic principles as we have discussed in class. Note that for ALL plotting questions from here on out (also for other clinics), we will expect appropriate titles, axis labels, legends, etc. The following question serves as a good guideline on what is \"enough\": If I directly downloaded the plot and viewed it, would I be able to tell what was being visualized without knowing the question?\n",
    "\n",
    "\n",
    "### Score breakdown per sub-question\n",
    "\n",
    "Question | Points\n",
    "--- | ---\n",
    "Question 1a | 3\n",
    "Question 1b | 3\n",
    "Question 1c | 3\n",
    "Question 2a | 3\n",
    "Question 2b | 3\n",
    "Question 3a | 4\n",
    "Question 3b | 4\n",
    "Question 4a | 4\n",
    "Question 4b | 4\n",
    "Question 5  | 4\n",
    "Total | 35\n",
    "\n",
    "Your final score out of 35 will be scaled down to 1 and be your final grade for this clinic."
   ]
  },
  {
   "cell_type": "markdown",
   "id": "1a8d8d1d",
   "metadata": {
    "nbgrader": {
     "grade": false,
     "grade_id": "q1",
     "locked": true,
     "schema_version": 2,
     "solution": false
    }
   },
   "source": [
    "---\n",
    "## 1: Data Preparation\n",
    "\n",
    "The data we are exploring contains 35529 entries which covers (almost) all alerts logged in the safety gate portal since 01/01/2010. For some (rare) categories of products we do have data that go before 2010.\n",
    "\n",
    "Easter Egg: How many entries does Safety Gate portal has in total? \n",
    "\n",
    "The variables in this data frame are defined as:\n",
    "\n",
    "Variable       | Description\n",
    "-------------- | ------------------------------------------------------------------\n",
    "Type of Alert | Selection of : serious risk, other risk levels, other types of alerts\n",
    "Type\t|\tWhether it concerns consumer or professional (e.g. b2b)\n",
    "Alert number\t|\tUnique identifier about every alert (it has the structure dddd/yy or Add/ddddd/yy where 'd' means a digit and 'yy' refers to the year that the alert was logged, i.e. 10 means 2010, 22 means 2022) \n",
    "Alert submitted by\t|\tCountry that submitted the alert (includes the EU countries + EFTA countries e.g. Iceland)\n",
    "Country of origin\t|\tCountry of origin for the product\n",
    "Counterfeit\t|\tIs the product counterfeit? Selectin of: yes, no, unknown\n",
    "Risk type\t|\tWhat is the possible risk?\n",
    "Risk legal provision\t|\tWhat legal provisions does the product violate?\n",
    "Product\t|\tDecsription of product\n",
    "Name\t|\tProduct name\n",
    "Description\t|\tDetailed description of the product functioning\n",
    "Brand\t|\tBrand Name\n",
    "Category\t|\tBroad category of the product (should include 33 big categories plus category others which can have sub-categories, e.g. Other-Ladder, Other-Clothing Accessories)\n",
    "Type / number of model\t|\tSpecific serial or number or type \n",
    "OECD Portal category\t|\tDoes the product correspond to OECD category?\n",
    "Risk\t|\tDetailed description of the risk \n",
    "Compulsory measures\t|\tMeasures taken that are compulsory\n",
    "Voluntary measures\t|\tMeasures taken that are voluntary\n",
    "Products were found and measures were taken also in\t|\tIn which other countries the product was found. Countries can be listed with \",\"\n",
    "Company recall page\t|\tIf the product was recalled, has this been published?\n",
    "URL of Case\t|\tURL of the Safety Gate\n",
    "Barcode\t|\tThe barcode of the product (if applicable)\n",
    "Batch number\t|\tBatch number of the product (if applicable)\n",
    "Packaging description\t|\tHow the items is packaged (e.g. wrapped in plastic etc.) (if applicable)"
   ]
  },
  {
   "cell_type": "markdown",
   "id": "4aeac822",
   "metadata": {
    "nbgrader": {
     "grade": false,
     "grade_id": "load-data",
     "locked": true,
     "schema_version": 2,
     "solution": false
    }
   },
   "source": [
    "The following code loads the data into a Pandas ``DataFrame``."
   ]
  },
  {
   "cell_type": "code",
   "execution_count": null,
   "id": "76eca2fa",
   "metadata": {},
   "outputs": [],
   "source": [
    "import pandas as pd\n",
    "import matplotlib.pyplot as plt\n",
    "import seaborn as sns\n",
    "\n",
    "#change accordingly if needed\n",
    "file_path = 'all_alerts.xlsx'\n",
    "\n",
    "# Use pd.read_excel() to read the Excel file into a pandas DataFrame.\n",
    "df = pd.read_excel(file_path)"
   ]
  },
  {
   "cell_type": "code",
   "execution_count": null,
   "id": "8e2a82f9",
   "metadata": {
    "scrolled": true
   },
   "outputs": [],
   "source": [
    "df.head(10)"
   ]
  },
  {
   "cell_type": "markdown",
   "id": "29b1aa7a",
   "metadata": {
    "nbgrader": {
     "grade": false,
     "grade_id": "cell-a0f8e3c0cc106c97",
     "locked": true,
     "schema_version": 2,
     "solution": false
    }
   },
   "source": [
    "Below, we show the shape of the file. You should see that the size of the DataFrame matches the number of lines in the file, minus the header row."
   ]
  },
  {
   "cell_type": "code",
   "execution_count": null,
   "id": "8ec1f2fa",
   "metadata": {
    "nbgrader": {
     "grade": false,
     "grade_id": "cell-ffa02efc2941b30c",
     "locked": true,
     "schema_version": 2,
     "solution": false
    }
   },
   "outputs": [],
   "source": [
    "df.shape"
   ]
  },
  {
   "cell_type": "markdown",
   "id": "fb9d6ce6",
   "metadata": {},
   "source": [
    "## Question 1a (First observations)\n",
    "\n",
    "Develop a feeling for the dataset. Check how many variables we have, what type of variables they are (quantitative/categorical).\n",
    "\n",
    "Inspect the following variables: ``Type of alert``, ``Alert submitted by``, ``Risk type``, ``Counterfeit``, ``Company recall page`` and check their distributions. Report your findings both with a plot but also with numbers/verbal evidence (e.g. \"99% of column \"X\" contain the value \"Jerry\"\", accompanied with an appropriate plot).\n",
    "\n",
    "Do the same procedure for 3 more variables of your choice. Pick variables that are interesting in your opinion."
   ]
  },
  {
   "cell_type": "code",
   "execution_count": null,
   "id": "9eaee1ac",
   "metadata": {},
   "outputs": [],
   "source": [
    "###code for 1a goes here"
   ]
  },
  {
   "cell_type": "markdown",
   "id": "3e1ba1d0",
   "metadata": {},
   "source": [
    "*** fancy answer goes here ***"
   ]
  },
  {
   "cell_type": "markdown",
   "id": "0a227165",
   "metadata": {},
   "source": [
    "## Question 1b (Getting the year)\n",
    "\n",
    "The granularity of the dataset is on the individual alerts level. For each alert, we can extract the year that was submitted by inspecting the ``Alert number`` field. There are different formats there, but the last two digits after the last slash (``\"/\"``) always give you the year that alert was submitted.\n",
    "\n",
    "e.g. \n",
    "\n",
    "``0574/09`` means that the alert was submitted in 2009\n",
    "\n",
    "``A12/1716/13`` means that the alert was submitted in 2013.\n",
    "\n",
    "\n",
    "Using the information above, make a relevant function to extract the year, apply it on the ``Alert number`` column and store it on a new column in the original dataframe called ``Year``. We will use this later.\n",
    "\n",
    "Before proceeding, double check that the calculation is correct for all rows. Report any irregularities.\n",
    "\n",
    "Note that while the majority of the alerts is after 2010, there might be some categories (the most rare ones) that data span before 2010."
   ]
  },
  {
   "cell_type": "code",
   "execution_count": null,
   "id": "294ccbca",
   "metadata": {},
   "outputs": [],
   "source": [
    "###code for 1b goes here"
   ]
  },
  {
   "cell_type": "markdown",
   "id": "6a69f16a",
   "metadata": {},
   "source": [
    "*** fancy answer goes here ***"
   ]
  },
  {
   "cell_type": "markdown",
   "id": "7c6db575",
   "metadata": {},
   "source": [
    "## Question 1c (Identifying issues with the data)\n",
    "\n",
    "Inspect the variables (based on the codebook) and identify potential issues with one (or more) of them. You don't need to do this for all variables in the dataset, but pick a handful of interesting ones (e.g. feel free to ignore most text fields (e.g. legal provisions, compulsory measures, voluntary measures) or irrelevant ones for our analysis (e.g. batch number). Think about missing values, mistakes, outliers, errors etc. Provide possible (and plausible) explanations for the missing data. Correct these and justify your answers accordingly."
   ]
  },
  {
   "cell_type": "code",
   "execution_count": null,
   "id": "0baeeb92",
   "metadata": {},
   "outputs": [],
   "source": [
    "###code for 1c goes here"
   ]
  },
  {
   "cell_type": "markdown",
   "id": "dc54cfeb",
   "metadata": {},
   "source": [
    "*** fancy answer goes here ***"
   ]
  },
  {
   "cell_type": "markdown",
   "id": "ae7f27a6",
   "metadata": {
    "nbgrader": {
     "grade": false,
     "grade_id": "q2",
     "locked": true,
     "schema_version": 2,
     "solution": false
    }
   },
   "source": [
    "---\n",
    "## 2: Exploring the Distribution of Alerts \n",
    "\n",
    "The granularity of this dataset is on the individual alerts level. In the following, we are going to investigate different aggregation levels (e.g. notifying country, type of risk etc.). The following questions require some heavy plotting. Below we are summarizing some functions (should be updated on the latest versions). \n",
    "\n",
    "### Matplotlib and Seaborn Table of Common Functions\n",
    "\n",
    "`x` and `y` are sequences of values (i.e. arrays, lists, or Series).\n",
    "\n",
    "| Function | Description |\n",
    "| -------- | ----------- |\n",
    "| `plt.plot(x, y)` | Creates a line plot of `x` against `y` |\n",
    "| `plt.title(name)` | Adds a title `name` to the current plot |\n",
    "| `plt.xlabel(name)` | Adds a label `name` to the x-axis |\n",
    "| `plt.ylabel(name)` | Adds a label `name` to the y-axis |\n",
    "| `plt.scatter(x, y)` | Creates a scatter plot of `x` against `y` |\n",
    "| `plt.hist(x, bins=None)` | Creates a histogram of `x`; `bins` can be an integer or a sequence |\n",
    "| `plt.bar(x, height)` | Creates a bar plot of categories `x` and corresponding heights `height` |\n",
    "| `sns.histplot(data, x, y, hue, kde)` | Creates a distribution plot; `data` is a DataFrame; `x`, `y` are column names in `data` that specify positions on the x and y axes; `hue` is a column name in `data` that adds subcategories to the plot based on `hue`; `kde` is a boolean that determines whether to overlay a KDE curve |\n",
    "|`sns.lineplot(data, x, y, hue)` | Creates a line plot |\n",
    "|`sns.scatterplot(data, x, y, hue, size)` | Creates a scatter plot; `size` is a vector that contains the size of point for each subcategory based on `hue` |\n",
    "|`sns.kdeplot(x, y)` |  Creates a kernel density estimate plot; `x`, `y` are series of data that indicate positions on the `x` and `y` axis |\n",
    "|`sns.jointplot(x, y, data, kind)` | Creates a joint plot of 2 variables with KDE plot in the middle and a distribution plot for each variable on the sides; `kind` determines the visualization type for the distribution plot, can be `scatter`, `kde` or `hist` |\n",
    "\n",
    "**Note**: This list of functions and parameters is **not** exhaustive. You may need to reference and explore more documentation to answer the following questions, but we will help you through that process. "
   ]
  },
  {
   "cell_type": "markdown",
   "id": "6af99cee",
   "metadata": {},
   "source": [
    "## Question 2a\n",
    "\n",
    "We will first plot the evolution of the total number of alerts over the years. For this reason we are going to use the ``Year`` column you added earlier (Question 1b) to the dataframe.\n",
    "\n",
    "**Hint**: You can use `groupby` and `agg`. For the `agg` method, please check the [documentation](https://pandas.pydata.org/docs/reference/groupby.html) for examples on applying different aggregations per column. If you use the capability to do different aggregations by column, you can do this task with a single call to `groupby` and `agg`. Take a look at the `'first'` or `'last'` aggregation functions.\n",
    "\n",
    "Your plot should be a lineplot. Include a legend, xlabel, ylabel, and title. Read the [seaborn plotting tutorial](https://seaborn.pydata.org/tutorial/distributions.html) if you're not sure how to add these."
   ]
  },
  {
   "cell_type": "code",
   "execution_count": null,
   "id": "e1c6a71b",
   "metadata": {},
   "outputs": [],
   "source": [
    "#code for 2a goes here\n"
   ]
  },
  {
   "cell_type": "markdown",
   "id": "2a1480b1",
   "metadata": {},
   "source": [
    "*** fancy answer goes here ***"
   ]
  },
  {
   "cell_type": "markdown",
   "id": "fd959d82",
   "metadata": {},
   "source": [
    "## Question 2b\n",
    "\n",
    "Now we are going to investigate two interesting plots:\n",
    "\n",
    "The first one, should plot the top-5 product categories (``Category``) per year.\n",
    "\n",
    "The second one, should plot the top-5 risk types (``Risk type``) per year.\n",
    "\n",
    "Advice:\n",
    "- Note that year is a quantitative variable, however both ``Category`` and ``Risk type`` are categorical, therefore pay attention to the type of plot(s) you are going to use here.\n",
    "- If the plot becomes too crowded, feel free to plot only the recent x years (where x is left to your critical decision making).\n",
    "- Make sure to use relative numbers (i.e. percentages) for the Y axis of the plots (i.e. 2025 could have 25% of alerts from 'Cars', 17% from 'Perfumes', 15% from Electronics etc.).\n",
    "\n",
    "Comment on the plot(s):\n",
    "\n",
    "What are the most prevalent risks and products over the years?\n",
    "\n",
    "Do you notice any significant change over the years (either in terms of ordering or in terms of e.g. new entries)?\n",
    "\n",
    "Other interesting findings?"
   ]
  },
  {
   "cell_type": "code",
   "execution_count": null,
   "id": "7c784688",
   "metadata": {},
   "outputs": [],
   "source": [
    "#code for 2b goes here\n"
   ]
  },
  {
   "cell_type": "markdown",
   "id": "774232a9",
   "metadata": {},
   "source": [
    "*** fancy answer goes here ***"
   ]
  },
  {
   "cell_type": "markdown",
   "id": "b76f3d89",
   "metadata": {},
   "source": [
    "---\n",
    "## 3: Exploring the Distribution of Alerts per country\n",
    "\n",
    "The previous analysis includes all alerts across the EU. We would also like to conduct some analysis on the country level.\n",
    "\n",
    "## Question 3a\n",
    "\n",
    "We will focus on two fields, the ``Alert submitted by`` (that is the notifying country and should be within the EU+ region, i.e. the EU countries plus Iceland, Switzerland etc.)) and the ``Country of origin`` (that is the country of origin of the product, could be anywhere in the world).\n",
    "\n",
    "You are asked to construct two plots:\n",
    "(a) one that shows which countries are submitting most alerts (ordered). Use relative frequencies (i.e. %) instead of the actual number of alerts\n",
    "(b) one that shows the top-25 countries that unsafe products have as origin. Again, use relative frequencies. \n",
    "\n",
    "Comment on your findings."
   ]
  },
  {
   "cell_type": "code",
   "execution_count": null,
   "id": "d13998e3",
   "metadata": {},
   "outputs": [],
   "source": [
    "#code for 3a goes here\n"
   ]
  },
  {
   "cell_type": "markdown",
   "id": "cb044f87",
   "metadata": {},
   "source": [
    "*** fancy answer goes here ***"
   ]
  },
  {
   "cell_type": "markdown",
   "id": "ca81b4a8",
   "metadata": {},
   "source": [
    "## Question 3b\n",
    "\n",
    "We will now investigate the field ``Products were found and measures were taken also in``. This field refers to other countries that took measures as well after the reporting alerts. This field might contain multiple country names separated by ``,``, therefore in order to see which are the top-countries that have used the Safety Gate Alert system to identify unsafe products in their juristiction, we would need a new dataframe. Feel free to use another way.\n",
    "\n",
    "Your new dataframe, should be indexed by the country name (based on the countries that have submitted alerts) and then feature 2 columns: the first one containing the total number of alerts that the country has submitted to Safety Gate and the second one containing the number of times this country took additional measures because of some alert.\n",
    "\n",
    "Is there any relation between the number of alerts that a country is submitting and the number of cases that they have investigated because of the alerts? Comment on your findings."
   ]
  },
  {
   "cell_type": "code",
   "execution_count": null,
   "id": "991479fd",
   "metadata": {},
   "outputs": [],
   "source": [
    "#code for 3b goes here\n"
   ]
  },
  {
   "cell_type": "markdown",
   "id": "ae303717",
   "metadata": {},
   "source": [
    "*** fancy answer goes here ***"
   ]
  },
  {
   "cell_type": "markdown",
   "id": "2ad6eaf9",
   "metadata": {},
   "source": [
    "### Question 4a. Compute Something Interesting\n",
    "\n",
    "Play with the data and try to compute something interesting about the data. Please try to use at least one of groupby, pivot, or merge (or all of the above).  \n",
    "\n",
    "Please show your work in the cell below and describe in words what you found in the same cell. This question will be graded leniently but good solutions may be used to create future clinics.\n",
    "\n",
    "#### Grading ####\n",
    "\n",
    "Since the question is more open ended, we will have a more relaxed rubric, classifying your answers into the following three categories:\n",
    "\n",
    "- **Great** (4 points): Uses a combination of pandas operations (such as groupby, pivot, merge) to answer a relevant question about the data. The text description provides a reasonable interpretation of the result.\n",
    "- **Passing** (1-3 points): Computation is flawed or very simple. The text description is incomplete but makes some sense.\n",
    "- **Unsatisfactory** (0 points): No computation is performed, or a computation with completely wrong results.\n",
    "\n",
    "\n",
    "***Put your code in one cell below and your explanation in a markdown cell below***"
   ]
  },
  {
   "cell_type": "code",
   "execution_count": null,
   "id": "e876f29e",
   "metadata": {},
   "outputs": [],
   "source": [
    "#your code for 4a"
   ]
  },
  {
   "cell_type": "markdown",
   "id": "27488ae4",
   "metadata": {},
   "source": [
    "*** explanation goes here ***\n"
   ]
  },
  {
   "cell_type": "markdown",
   "id": "bf834a72",
   "metadata": {},
   "source": [
    "### Question 4b. Create some more cool visualizations!\n",
    "\n",
    "Play with the data, and try to produce some visualizations to answer one question that you find interesting regarding the data. You might want to use `merge`/`groupby`/`pivot` to process the data before creating visualizations.\n",
    "\n",
    "Please show your work in the cells below (feel free to use extra cells if you want), and describe in words what you found. This question will be graded leniently, but good solutions may be used to create future clinic problems. \n",
    "\n",
    "\n",
    "#### Grading ####\n",
    "\n",
    "Since the question is more open ended, we will have a more relaxed rubric, classifying your answers into the following three categories:\n",
    "\n",
    "- **Great** (4 points): The chart is well designed, and the data computation is correct. The text written articulates a reasonable metric and correctly describes the relevant insight and answer to the question you are interested in.\n",
    "- **Passing** (1-3 points): A chart is produced but with some flaws such as bad encoding. The text written is incomplete but makes some sense.\n",
    "- **Unsatisfactory** (0 points): No chart is created, or a chart with completely wrong results.\n",
    "\n",
    "You should have the following in your answers:\n",
    "* a few visualizations; Please limit your visualizations to 5 plots.\n",
    "* a few sentences (not too long please!)\n",
    "\n",
    "***Put your code in one cell below and your explanation in a markdown cell below***"
   ]
  },
  {
   "cell_type": "code",
   "execution_count": null,
   "id": "1fa6731c",
   "metadata": {},
   "outputs": [],
   "source": [
    "#your code for 4b"
   ]
  },
  {
   "cell_type": "markdown",
   "id": "c69e340d",
   "metadata": {},
   "source": [
    "*** explanation goes here ***\n",
    "\n"
   ]
  },
  {
   "cell_type": "markdown",
   "id": "a63c6630",
   "metadata": {},
   "source": [
    "---\n",
    "## 5: Recommendations for the EC & Concluding Remarks\n",
    "\n",
    "### Question 5a\n",
    "\n",
    "Considering the insights derived from your analysis, what recommendations would you propose to the European Commission regarding enhancements to the Safety Gate portal/database? Each recommendation should be underpinned by the findings derived from the examination of plots, statistics and observations. Take into account aspects such as missing data, variable distributions (e.g., evaluating the utility of variables with limited values), and potential enhancements in data representation or transformation.\n",
    "\n",
    "### Question 5b\n",
    "\n",
    "In a concise summary of your analysis outcomes, address the implications for relevant stakeholders. How does this analysis impact: (a) consumers, (b) companies and (c) regulatory authorities, such as national consumer protection agencies or the European Commission itself? Additionally, consider potential misuse of the dataset (and any subsequent analyses) by individuals or entities. If you identify such risks, propose ways to mitigate them."
   ]
  },
  {
   "cell_type": "code",
   "execution_count": null,
   "id": "3453442b",
   "metadata": {},
   "outputs": [],
   "source": []
  }
 ],
 "metadata": {
  "kernelspec": {
   "display_name": "Python 3",
   "language": "python",
   "name": "python3"
  },
  "language_info": {
   "codemirror_mode": {
    "name": "ipython",
    "version": 3
   },
   "file_extension": ".py",
   "mimetype": "text/x-python",
   "name": "python",
   "nbconvert_exporter": "python",
   "pygments_lexer": "ipython3",
   "version": "3.8.3"
  }
 },
 "nbformat": 4,
 "nbformat_minor": 5
}
