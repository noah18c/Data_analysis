{
 "cells": [
  {
   "cell_type": "markdown",
   "metadata": {
    "nbpresent": {
     "id": "50a40f10-f4b6-4dd3-b7aa-c63ed3ca3244"
    },
    "slideshow": {
     "slide_type": "slide"
    }
   },
   "source": [
    "# Data Analysis\n",
    "\n",
    "# Python Intro, Part 3: Tuples, Sets, Dictionaries, Classes/Objects\n",
    "\n",
    "In this notebook we will, after a quick recap, introduce more data structures: tuples, sets, dictionaries, and series. Sets and dictionaries are built-in Python data structures, but we will mostly work with series and dataframes which are part of the [pandas library](http://pandas.pydata.org/) tailored to data science applications. We will also briefly introduce objects and object oriented programming. "
   ]
  },
  {
   "cell_type": "markdown",
   "metadata": {},
   "source": [
    "## If-Statements Recap\n",
    "\n",
    "* By using if-elif-else statements we can implement conditional flow in a program. \n",
    "* If an elif take a parameter that is tested for truthiness. The parameter can be a boolean (`True` or `False`), or any other data type. \n",
    "    * For numerical data types, 0 and None evaluates to false, everything else to true.\n",
    "    * For lists, strings, dictionaries, an empty container evaluates to false.\n",
    "\n",
    "See the [documentation](https://docs.python.org/3/library/stdtypes.html#truth-value-testing) to understand what is considered true and false."
   ]
  },
  {
   "cell_type": "code",
   "execution_count": null,
   "metadata": {
    "nbpresent": {
     "id": "4df31c1d-fa43-4d1b-8d2f-7d5eb7771540"
    }
   },
   "outputs": [],
   "source": [
    "def factors(x):\n",
    "    # notice the use of the negation and the use of 0 as false\n",
    "    if not x % 2:\n",
    "        print(\"2 is a factor of \" + str(x))  \n",
    "    elif not x % 3:     # only evaluated when if was false\n",
    "        print(\"3 is a factor of \" + str(x))\n",
    "    else: # only evaluated when both if and elif were false\n",
    "        print(\"Neither 2 nor 3 are factors of \" + str(x))\n",
    "\n",
    "factors(4)\n",
    "factors(9)\n",
    "factors(13)"
   ]
  },
  {
   "cell_type": "markdown",
   "metadata": {
    "nbpresent": {
     "id": "30fae315-d72a-442a-a7b5-b0a37b744dca"
    }
   },
   "source": [
    "\n",
    "## Lists Recap\n",
    "\n",
    "A list is a collection of items.\n",
    "\n",
    "Lists are created with square brackets `[]` and can be accessed via an index:"
   ]
  },
  {
   "cell_type": "code",
   "execution_count": null,
   "metadata": {
    "nbpresent": {
     "id": "2cccc38c-08c9-47ec-8476-8198b5aef967"
    }
   },
   "outputs": [],
   "source": [
    "beatles = [\"Paul\", \"John\", \"George\", \"Ringo\"]\n",
    "# printing the whole array\n",
    "print(beatles)\n",
    "# printing the first element of that array, at index 0\n",
    "print(beatles[0])\n",
    "# fourth element, at index 3\n",
    "print(beatles[3])\n",
    "# access the one-but-last element\n",
    "print(beatles[-2])"
   ]
  },
  {
   "cell_type": "markdown",
   "metadata": {
    "nbpresent": {
     "id": "b095b5f4-64f4-4c92-b5ad-3430139e5829"
    }
   },
   "source": [
    "We can also create **slices of an array with the slice operator `:`**\n",
    "\n",
    "```python\n",
    "a[start:end] # items start through end-1\n",
    "a[start:]    # items start through the rest of the array\n",
    "a[:end]      # items from the beginning through end-1\n",
    "a[:]         # a copy of the whole array\n",
    "```\n",
    "There is also the step value, which can be used with any of the above:\n",
    "\n",
    "```python\n",
    "a[start:end:step] # start through not past end, by step\n",
    "```"
   ]
  },
  {
   "cell_type": "code",
   "execution_count": null,
   "metadata": {
    "nbpresent": {
     "id": "6f27c412-dc29-4506-afa2-81e52922d8f2"
    }
   },
   "outputs": [],
   "source": [
    "# Get the slice from 0 (included) to 2 (excluded)\n",
    "beatles[:2] # this can also be written as [0:2]"
   ]
  },
  {
   "cell_type": "markdown",
   "metadata": {},
   "source": [
    "The slice operation returns a new array, the original array is untouched: "
   ]
  },
  {
   "cell_type": "code",
   "execution_count": null,
   "metadata": {
    "nbpresent": {
     "id": "a5368caf-1a8b-4f2e-9dd6-d9e57dc85b41"
    }
   },
   "outputs": [],
   "source": [
    "beatles"
   ]
  },
  {
   "cell_type": "markdown",
   "metadata": {
    "nbpresent": {
     "id": "7de0a434-d83b-4557-aa74-d81ee4b7ecbb"
    }
   },
   "source": [
    "**We can change the elements that are contained in a list**: "
   ]
  },
  {
   "cell_type": "code",
   "execution_count": null,
   "metadata": {
    "nbpresent": {
     "id": "7d7aab61-0e11-4084-a70a-537a017c15fa"
    }
   },
   "outputs": [],
   "source": [
    "beatles[1] = \"JohnYoko\"\n",
    "beatles"
   ]
  },
  {
   "cell_type": "markdown",
   "metadata": {
    "nbpresent": {
     "id": "31e45925-5bf1-42de-87ea-280dbb365665"
    }
   },
   "source": [
    "Lists can also be **extended in-place with the `append()` function**:"
   ]
  },
  {
   "cell_type": "code",
   "execution_count": null,
   "metadata": {
    "nbpresent": {
     "id": "e2a6752b-e74d-48b4-b682-4ea811cef8a4"
    }
   },
   "outputs": [],
   "source": [
    "beatles.append(\"George Martin\")\n",
    "beatles"
   ]
  },
  {
   "cell_type": "markdown",
   "metadata": {
    "nbpresent": {
     "id": "cb8a4e24-90ef-4b0f-86de-b81bb5309d52"
    }
   },
   "source": [
    "Lists can be **concatenated**: "
   ]
  },
  {
   "cell_type": "code",
   "execution_count": null,
   "metadata": {
    "nbpresent": {
     "id": "a4109ac9-938f-4db7-b7bb-bb899ad672ed"
    }
   },
   "outputs": [],
   "source": [
    "zeppelin = [\"Jimmy\", \"Robert\", \"John\", \"John\"]\n",
    "beatles += zeppelin\n",
    "beatles"
   ]
  },
  {
   "cell_type": "markdown",
   "metadata": {
    "nbpresent": {
     "id": "3927d6f8-3df3-4773-b08d-2b77acfffcd8"
    }
   },
   "source": [
    "We can **check the length** of a list:"
   ]
  },
  {
   "cell_type": "code",
   "execution_count": null,
   "metadata": {
    "nbpresent": {
     "id": "bc27d3eb-1a47-465d-b1f4-930a833608de"
    }
   },
   "outputs": [],
   "source": [
    "len(zeppelin)"
   ]
  },
  {
   "cell_type": "markdown",
   "metadata": {
    "nbpresent": {
     "id": "128555b4-e524-4d04-a9a8-2ceee3daffaf"
    }
   },
   "source": [
    "Lists can also be **nested**: "
   ]
  },
  {
   "cell_type": "code",
   "execution_count": null,
   "metadata": {
    "nbpresent": {
     "id": "ab1b9e85-6252-4ee4-aa90-10cb955ab083"
    }
   },
   "outputs": [],
   "source": [
    "# let's reset the beatles first\n",
    "beatles = [\"Paul\", \"John\", \"George\", \"Ringo\"]\n",
    "bands = [beatles, zeppelin]\n",
    "bands"
   ]
  },
  {
   "cell_type": "markdown",
   "metadata": {
    "nbpresent": {
     "id": "0c500e4e-a855-4aa2-9cca-95a56f781908"
    }
   },
   "source": [
    "### While Loop Recap\n",
    "\n",
    "While loops use the `while` keyword, a condition, and the loop body:"
   ]
  },
  {
   "cell_type": "code",
   "execution_count": null,
   "metadata": {
    "nbpresent": {
     "id": "b33fcef8-e667-4577-8c01-61a2b4f6ace3"
    }
   },
   "outputs": [],
   "source": [
    "a, b = 1, 1\n",
    "while b < 1000:\n",
    "    print(b, end=\", \") \n",
    "    temp = b\n",
    "    b += a\n",
    "    a = temp\n",
    "    # a better way of writing this is using simultaneous assignment: \n",
    "    # a, b = b, a + b"
   ]
  },
  {
   "cell_type": "markdown",
   "metadata": {
    "nbpresent": {
     "id": "bba871db-05b8-4220-ae06-b398011ae901"
    }
   },
   "source": [
    "This continues, until the terminating condition is reached. \n",
    "\n",
    "We can also **use the `break` statement to terminate a loop**: "
   ]
  },
  {
   "cell_type": "code",
   "execution_count": null,
   "metadata": {
    "nbpresent": {
     "id": "a9a27eaf-b9eb-40e6-ae90-8b5691544af7"
    }
   },
   "outputs": [],
   "source": [
    "a, b = 1, 1\n",
    "while True:\n",
    "    print(b, end=\", \") \n",
    "    a, b = b, a + b\n",
    "    if b > 1000:\n",
    "        break"
   ]
  },
  {
   "cell_type": "markdown",
   "metadata": {
    "nbpresent": {
     "id": "f5f9657e-8005-4ab0-ab73-56a84ec52eec"
    }
   },
   "source": [
    "### For Loop Recap\n",
    "\n",
    "\n",
    "For loops are mainly used to iterate over items of a sequence. "
   ]
  },
  {
   "cell_type": "code",
   "execution_count": null,
   "metadata": {
    "nbpresent": {
     "id": "753d2989-7259-4a0d-82cf-648387a730e6"
    }
   },
   "outputs": [],
   "source": [
    "for member in zeppelin: \n",
    "    print(member)"
   ]
  },
  {
   "cell_type": "markdown",
   "metadata": {
    "nbpresent": {
     "id": "a7feecca-549b-42ad-bd24-6a90674cbbc5"
    }
   },
   "source": [
    "When you want to iterate over a sequence of numbers, use the [`range()`](https://docs.python.org/3/library/stdtypes.html#range) function. Range generates a sequence of numbers:"
   ]
  },
  {
   "cell_type": "code",
   "execution_count": null,
   "metadata": {
    "nbpresent": {
     "id": "91ec5e27-b2c5-4cf4-959b-5162a3a2e0e9"
    }
   },
   "outputs": [],
   "source": [
    "for i in range(10): \n",
    "    print (i)"
   ]
  },
  {
   "cell_type": "markdown",
   "metadata": {},
   "source": [
    "We can use the `range(start, stop, step)` attributes to create custom indices:"
   ]
  },
  {
   "cell_type": "code",
   "execution_count": null,
   "metadata": {},
   "outputs": [],
   "source": [
    "for i in range (9, -1, -1):\n",
    "    print (i)"
   ]
  },
  {
   "cell_type": "markdown",
   "metadata": {},
   "source": [
    "### List Comprehension Recap\n",
    "\n",
    "[List comprehension](https://docs.python.org/3.5/tutorial/datastructures.html#list-comprehensions) is a compact way to modify or create lists in python. \n",
    "\n",
    "Here is the syntax: \n",
    "\n",
    "```python\n",
    "[new_element for original_element in original_list] \n",
    "```\n",
    " * `new_element` can be any expression, including just a number, or an operation. You can also refer to the `original_element` in this expression. \n",
    " * `original_element` is just a member of the original list. Sometimes we don't need this original element, then we just write `_` by convention. \n",
    " * `original_list` is a list that I use as a basis for the list comprehension. This can be an existing list with data, or it can be a range expression. \n",
    " \n",
    "Here are some examples. Notice that you would just use a plain range function in practice for some of these examples.  "
   ]
  },
  {
   "cell_type": "code",
   "execution_count": null,
   "metadata": {},
   "outputs": [],
   "source": [
    "my_list = list(range(10))\n",
    "my_list"
   ]
  },
  {
   "cell_type": "markdown",
   "metadata": {},
   "source": [
    "Initialize an list with 0s. We don't use the `original_element`, hence `_`."
   ]
  },
  {
   "cell_type": "code",
   "execution_count": null,
   "metadata": {},
   "outputs": [],
   "source": [
    "[0 for _ in my_list]"
   ]
  },
  {
   "cell_type": "markdown",
   "metadata": {},
   "source": [
    "We can do the range in the list comprehension directly: "
   ]
  },
  {
   "cell_type": "code",
   "execution_count": null,
   "metadata": {},
   "outputs": [],
   "source": [
    "[0 for _ in range(10)]"
   ]
  },
  {
   "cell_type": "markdown",
   "metadata": {},
   "source": [
    "Here we use the `original_element`. This effectively copies the list. "
   ]
  },
  {
   "cell_type": "code",
   "execution_count": null,
   "metadata": {},
   "outputs": [],
   "source": [
    "[original_element for original_element in my_list]"
   ]
  },
  {
   "cell_type": "markdown",
   "metadata": {},
   "source": [
    "Here we use an operation on the original_element in the list. "
   ]
  },
  {
   "cell_type": "code",
   "execution_count": null,
   "metadata": {},
   "outputs": [],
   "source": [
    "[original_element*2 for original_element in my_list]"
   ]
  },
  {
   "cell_type": "markdown",
   "metadata": {},
   "source": [
    "Here I'm combining a slicing operation on `my_list` that inverts the order of `my_list` with a list comprehension. "
   ]
  },
  {
   "cell_type": "code",
   "execution_count": null,
   "metadata": {},
   "outputs": [],
   "source": [
    "[original_element*2 for original_element in my_list[::-1]]"
   ]
  },
  {
   "cell_type": "markdown",
   "metadata": {},
   "source": [
    "We've seen before that we can use functions in the list comprehension: "
   ]
  },
  {
   "cell_type": "code",
   "execution_count": null,
   "metadata": {},
   "outputs": [],
   "source": [
    "[len(my_list) for _ in my_list]"
   ]
  },
  {
   "cell_type": "markdown",
   "metadata": {},
   "source": [
    "Or, with a more interesting example:"
   ]
  },
  {
   "cell_type": "code",
   "execution_count": null,
   "metadata": {},
   "outputs": [],
   "source": [
    "import random\n",
    "rands = [random.random() * 10 for _ in range(10)]\n",
    "rands"
   ]
  },
  {
   "cell_type": "markdown",
   "metadata": {},
   "source": [
    "## 1. Tuples\n",
    "\n",
    "[Tuples](https://docs.python.org/3/tutorial/datastructures.html#tuples-and-sequences) are a list-like data structure that are, in contrast to lists, **immutable**. \n",
    "\n",
    "The purpose of tuples is to store objects of different types. Remember that lists should only contain **homogeneous data** and numpy lists even enforce that; Tuples are designed for the **heterogeneous case**. \n",
    "\n",
    "Also, Tuples have practical implications for performance and `HashTables`, which we will discuss later. \n",
    "\n",
    "Here is how we can initalize a tuple: "
   ]
  },
  {
   "cell_type": "code",
   "execution_count": null,
   "metadata": {},
   "outputs": [],
   "source": [
    "person = \"Alex\", 1981, \"Computer Science\"\n",
    "person"
   ]
  },
  {
   "cell_type": "markdown",
   "metadata": {},
   "source": [
    "Initialization with brackets is prefered, since it's more explicit:"
   ]
  },
  {
   "cell_type": "code",
   "execution_count": null,
   "metadata": {},
   "outputs": [],
   "source": [
    "person = (\"Alex\", 1981, \"Austria\")\n",
    "person"
   ]
  },
  {
   "cell_type": "markdown",
   "metadata": {},
   "source": [
    "We can access them just like arrays: "
   ]
  },
  {
   "cell_type": "code",
   "execution_count": null,
   "metadata": {},
   "outputs": [],
   "source": [
    "person[1]"
   ]
  },
  {
   "cell_type": "markdown",
   "metadata": {},
   "source": [
    "We cannot, however change values. This throws a **TypeError**."
   ]
  },
  {
   "cell_type": "code",
   "execution_count": null,
   "metadata": {},
   "outputs": [],
   "source": [
    "# throws TypeError\n",
    "person[1] = 1985"
   ]
  },
  {
   "cell_type": "markdown",
   "metadata": {},
   "source": [
    "Arbitrary objects can be part of a tuple:"
   ]
  },
  {
   "cell_type": "code",
   "execution_count": null,
   "metadata": {},
   "outputs": [],
   "source": [
    "train_schedule = (\"Train 1\", [9,11])\n",
    "# this works because we're modifying the mutable array within the immuatable tuple.\n",
    "train_schedule[1][0] = 15\n",
    "train_schedule"
   ]
  },
  {
   "cell_type": "markdown",
   "metadata": {},
   "source": [
    "Of course, that includes tuples:"
   ]
  },
  {
   "cell_type": "code",
   "execution_count": null,
   "metadata": {},
   "outputs": [],
   "source": [
    "train_schedule = (\"Train 1\", (9,11))\n",
    "# this doesn't work\n",
    "# train_schedule[1][0] = 15\n",
    "train_schedule"
   ]
  },
  {
   "cell_type": "markdown",
   "metadata": {},
   "source": [
    "This allows us to create functions with **multiple return values**\n",
    "\n",
    "Consider the following code:"
   ]
  },
  {
   "cell_type": "code",
   "execution_count": null,
   "metadata": {},
   "outputs": [],
   "source": [
    "def multiply(a, b, c):\n",
    "    return (a*b), (a*c), (b*c), (a*b*c)"
   ]
  },
  {
   "cell_type": "markdown",
   "metadata": {},
   "source": [
    "Here, it looks like we return multiple values - something that's not possible in most programming languages! But it's very convenient. In practice, we \"only\" return a tuple. \n",
    "\n",
    "Let's try it out:"
   ]
  },
  {
   "cell_type": "code",
   "execution_count": null,
   "metadata": {},
   "outputs": [],
   "source": [
    "multiply(3, 7, 11)"
   ]
  },
  {
   "cell_type": "markdown",
   "metadata": {},
   "source": [
    "The round brackets in the returned values indicate what's going on: what is returned, is in fact, a tuple!\n",
    "\n",
    "We can use this return value to assign multiple variables at the same time:"
   ]
  },
  {
   "cell_type": "code",
   "execution_count": null,
   "metadata": {},
   "outputs": [],
   "source": [
    "ab, ac, bc, abc = multiply(3, 7, 11)\n",
    "print(ab, ac, bc, abc)"
   ]
  },
  {
   "cell_type": "markdown",
   "metadata": {},
   "source": [
    "To do this, no function is necessary. We can just do the following:"
   ]
  },
  {
   "cell_type": "code",
   "execution_count": null,
   "metadata": {},
   "outputs": [],
   "source": [
    "what, i_s, going, on = \"this\", \"is\", \"really\", \"nice\" # use () to be more explicit\n",
    "print(what, i_s, going, on)"
   ]
  },
  {
   "cell_type": "markdown",
   "metadata": {},
   "source": [
    "## 2. Sets"
   ]
  },
  {
   "cell_type": "markdown",
   "metadata": {},
   "source": [
    "A [set](https://docs.python.org/3/tutorial/datastructures.html#sets) is a mutable collection, similar to a list, however, it is\n",
    " * **not ordered**, and\n",
    " * **cannot contain the same element twice**\n",
    "\n",
    "Here is an example:"
   ]
  },
  {
   "cell_type": "code",
   "execution_count": null,
   "metadata": {},
   "outputs": [],
   "source": [
    "# Initialize a set with {}\n",
    "beatles = {\"John\", \"Paul\", \"Ringo\", \"George\"}\n",
    "beatles"
   ]
  },
  {
   "cell_type": "markdown",
   "metadata": {},
   "source": [
    "Notice that on my machine, the output is in a different order from the input: \n",
    "`{'George', 'John', 'Paul', 'Ringo'}`\n",
    "\n",
    "We can also initalize a set with an array or a tuple:"
   ]
  },
  {
   "cell_type": "code",
   "execution_count": null,
   "metadata": {},
   "outputs": [],
   "source": [
    "usernames = set([\"Jimmy\", \"Robert\", \"John\", \"John\"])\n",
    "usernames"
   ]
  },
  {
   "cell_type": "markdown",
   "metadata": {},
   "source": [
    "We've initialized the set `usernames` with an array of names. We have chose a set, because we don't want to have duplicate user names. \n",
    "\n",
    "However, **in the second example, the array included a duplicate – John was specified twice**. We can see, however, that **John is contained in the set only once**.\n",
    "\n",
    "Sets are great for various tasks. For example, they can be used to remove duplicate entries from lists. Most importantly, they let you very efficiently check whether an element already exists. \n",
    "\n",
    "A set works based on a mathematical function that produces a \"hash code\". This hash code is then used as an index to an array. For example, \"Jimmy\" could hash to the value 13, and accordingly, Jimmy would be put at the 13th index of an array. When we want to test whether \"Jimmy\" is already in a set, we simply compute the hash, which will again produce 13, and then look up whether something is stored at index 13. \n",
    "\n",
    "We can check whether a set contains a value using the `in` keyword:"
   ]
  },
  {
   "cell_type": "code",
   "execution_count": null,
   "metadata": {},
   "outputs": [],
   "source": [
    "\"Jimmy\" in usernames"
   ]
  },
  {
   "cell_type": "code",
   "execution_count": null,
   "metadata": {},
   "outputs": [],
   "source": [
    "\"Ringo\" in usernames"
   ]
  },
  {
   "cell_type": "markdown",
   "metadata": {},
   "source": [
    "Note that this also works in lists, but if your set or list is large, this is considerably slower. "
   ]
  },
  {
   "cell_type": "code",
   "execution_count": null,
   "metadata": {},
   "outputs": [],
   "source": [
    "username_list = [\"Jimmy\", \"Robert\", \"John\", \"John\"]\n",
    "\"John\" in username_list"
   ]
  },
  {
   "cell_type": "markdown",
   "metadata": {},
   "source": [
    "We can add values using the add function on a set:"
   ]
  },
  {
   "cell_type": "code",
   "execution_count": null,
   "metadata": {},
   "outputs": [],
   "source": [
    "usernames.add(\"JohnB\")\n",
    "usernames"
   ]
  },
  {
   "cell_type": "markdown",
   "metadata": {},
   "source": [
    "And remove elements with the remove function: "
   ]
  },
  {
   "cell_type": "code",
   "execution_count": null,
   "metadata": {},
   "outputs": [],
   "source": [
    "usernames.remove(\"John\")\n",
    "usernames"
   ]
  },
  {
   "cell_type": "markdown",
   "metadata": {},
   "source": [
    "If the set doesn't contain a key we want to remove, it will throw a `KeyError`."
   ]
  },
  {
   "cell_type": "code",
   "execution_count": null,
   "metadata": {},
   "outputs": [],
   "source": [
    "usernames.remove(\"Joseph\")"
   ]
  },
  {
   "cell_type": "markdown",
   "metadata": {},
   "source": [
    "To prevent that, it is advisable to first check whether a set actually contains a value, if you're not 100% sure: "
   ]
  },
  {
   "cell_type": "code",
   "execution_count": null,
   "metadata": {},
   "outputs": [],
   "source": [
    "if (\"Joseph\" in usernames):\n",
    "    usernames.remove(\"Joseph\")"
   ]
  },
  {
   "cell_type": "markdown",
   "metadata": {},
   "source": [
    "We can iterate over the values of a set. Note, however, that no guarantee about the order of the set is made. "
   ]
  },
  {
   "cell_type": "code",
   "execution_count": null,
   "metadata": {},
   "outputs": [],
   "source": [
    "for name in usernames:\n",
    "    print (name)"
   ]
  },
  {
   "cell_type": "markdown",
   "metadata": {},
   "source": [
    "Make sure to check out the [documentation](https://docs.python.org/3.5/library/stdtypes.html#set) to see what else a set can do. "
   ]
  },
  {
   "cell_type": "markdown",
   "metadata": {},
   "source": [
    "## Exercise 2: Sets\n",
    "\n",
    "Write a function that finds the overlap of two sets and prints them. Initialize two sets, e.g., with values `{13, 25, 37, 45, 13}` and `{14, 25, 38, 8, 45}` and call this function with them."
   ]
  },
  {
   "cell_type": "code",
   "execution_count": null,
   "metadata": {},
   "outputs": [],
   "source": [
    "# your code"
   ]
  },
  {
   "cell_type": "markdown",
   "metadata": {},
   "source": [
    "## 3. Dictionaries"
   ]
  },
  {
   "cell_type": "markdown",
   "metadata": {
    "collapsed": true
   },
   "source": [
    "[Dictionaries](https://docs.python.org/3/tutorial/datastructures.html#dictionaries) are related to sets, but are more powerful: in addition to the key used to identify an element in a set, dictionaries also store a value associated with a key. Other terms commonly used for dictionaries are *associative arrays*, *(hash) maps*, and *hash tables*. \n",
    "\n",
    "Here is a simple example:"
   ]
  },
  {
   "cell_type": "code",
   "execution_count": null,
   "metadata": {},
   "outputs": [],
   "source": [
    "musicians = {\"John\":\"Zeppelin\", \"Jimmy\":\"Zeppelin\", \"Paul\":\"Beatles\", \"Ringo\":\"Beatles\"}\n",
    "musicians"
   ]
  },
  {
   "cell_type": "markdown",
   "metadata": {},
   "source": [
    "As we can see, a dictionary can be created with curly brackets and a list of key-value pairs, separated by a `:`. Here, the names are the keys, the bands are the values. \n",
    "\n",
    "There are other ways of creating a dictionary. Here, we pass a list of tuples to the dictionary, but we could also pass a list of lists."
   ]
  },
  {
   "cell_type": "code",
   "execution_count": null,
   "metadata": {},
   "outputs": [],
   "source": [
    "more_musicians = dict([(\"Thom\", \"Radiohead\"), (\"Dave\", \"Foo Fighters\")])\n",
    "more_musicians"
   ]
  },
  {
   "cell_type": "markdown",
   "metadata": {},
   "source": [
    "Of course, a dictionary can be of any data type. Here is an example with int as keys, floats as values:"
   ]
  },
  {
   "cell_type": "code",
   "execution_count": null,
   "metadata": {},
   "outputs": [],
   "source": [
    "numbers = {3:1.45, 4:1.32, 19:9.97, 6:9.99}\n",
    "numbers"
   ]
  },
  {
   "cell_type": "markdown",
   "metadata": {},
   "source": [
    "Note that it's generally not a good idea to use floats as keys, as they are stored only as approximations.\n",
    "\n",
    "Dictionary elements are accessed just as elements in a list, with square brackets, but instead of the index, we pass in the key: "
   ]
  },
  {
   "cell_type": "code",
   "execution_count": null,
   "metadata": {},
   "outputs": [],
   "source": [
    "numbers[3]"
   ]
  },
  {
   "cell_type": "code",
   "execution_count": null,
   "metadata": {},
   "outputs": [],
   "source": [
    "musicians[\"John\"]"
   ]
  },
  {
   "cell_type": "markdown",
   "metadata": {},
   "source": [
    "We can add elements to a dict:"
   ]
  },
  {
   "cell_type": "code",
   "execution_count": null,
   "metadata": {},
   "outputs": [],
   "source": [
    "musicians[\"Thom\"] = \"Radiohead\"\n",
    "musicians"
   ]
  },
  {
   "cell_type": "markdown",
   "metadata": {},
   "source": [
    "And remove them using the `del` keyword:"
   ]
  },
  {
   "cell_type": "code",
   "execution_count": null,
   "metadata": {},
   "outputs": [],
   "source": [
    "del musicians[\"Thom\"]\n",
    "musicians"
   ]
  },
  {
   "cell_type": "markdown",
   "metadata": {},
   "source": [
    "Again, we have to worry about key errors. If we want to remove Thom again, we'd get a `KeyError`."
   ]
  },
  {
   "cell_type": "code",
   "execution_count": null,
   "metadata": {},
   "outputs": [],
   "source": [
    "del musicians[\"Thom\"]"
   ]
  },
  {
   "cell_type": "markdown",
   "metadata": {},
   "source": [
    "We can access a list of keys and values separately: "
   ]
  },
  {
   "cell_type": "code",
   "execution_count": null,
   "metadata": {},
   "outputs": [],
   "source": [
    "musicians.keys()"
   ]
  },
  {
   "cell_type": "markdown",
   "metadata": {},
   "source": [
    "Notice that the result is not a list or a set, but a [view object](https://docs.python.org/3/library/stdtypes.html#dict-views). A view object always is updated when the dictionary is changed, and we can use it to iterate over a dictionary. "
   ]
  },
  {
   "cell_type": "code",
   "execution_count": null,
   "metadata": {},
   "outputs": [],
   "source": [
    "for musician in musicians.keys():\n",
    "    print(musician)"
   ]
  },
  {
   "cell_type": "markdown",
   "metadata": {},
   "source": [
    "This also works with `values()` and `items()`:"
   ]
  },
  {
   "cell_type": "code",
   "execution_count": null,
   "metadata": {},
   "outputs": [],
   "source": [
    "musicians.values()"
   ]
  },
  {
   "cell_type": "code",
   "execution_count": null,
   "metadata": {},
   "outputs": [],
   "source": [
    "musicians.items()"
   ]
  },
  {
   "cell_type": "markdown",
   "metadata": {},
   "source": [
    "The latter is especially handy for iterating over the key-value pairs in a dictionary:"
   ]
  },
  {
   "cell_type": "code",
   "execution_count": null,
   "metadata": {},
   "outputs": [],
   "source": [
    "# notice that we iterate over the tuples and have the elements of the tuple assigned to k and v, respectively.\n",
    "for k, v in musicians.items():\n",
    "    print (k + \", Band: \" + v)"
   ]
  },
  {
   "cell_type": "markdown",
   "metadata": {},
   "source": [
    "Another way to write the previous expression would be like this: "
   ]
  },
  {
   "cell_type": "code",
   "execution_count": null,
   "metadata": {},
   "outputs": [],
   "source": [
    "for k in musicians.keys():\n",
    "    print(k + \", Band: \" +  musicians[k])"
   ]
  },
  {
   "cell_type": "markdown",
   "metadata": {},
   "source": [
    "Make sure to check out [the dictionary documentation](https://docs.python.org/3/library/stdtypes.html#typesmapping) for more info. "
   ]
  },
  {
   "cell_type": "markdown",
   "metadata": {},
   "source": [
    "### Exercise 3: Dictionaries\n",
    "\n",
    " * Create a dictionary with two-letter codes of two of US states and the full names, e.g., UT: Utah, NY: New York\n",
    " * After initially creating the dictionary, add two more states to the dictionary.\n",
    " * Create a second dictionary that maps the state codes to an array of cities in that state, e.g., UT: [Salt Lake City, Ogden, Provo, St. George]. \n",
    " * Write a function that takes a state code and prints the full name of the state and lists the cities in that state."
   ]
  },
  {
   "cell_type": "code",
   "execution_count": null,
   "metadata": {},
   "outputs": [],
   "source": [
    "# Your code"
   ]
  },
  {
   "cell_type": "markdown",
   "metadata": {},
   "source": [
    "## 4. Classes and Objects\n",
    "*Note that this is not a detailed introduction into OOP and we glance over a lot of subtleties and use terminology loosely*\n",
    "\n",
    "We won't be actively doing much object-oriented programming in this class, but we will frequently use objects as they are returned by a library. \n",
    "\n",
    "**Objects** are a data-structure that you can customize completely. They also provide interfaces to manipulate that data. \n",
    "\n",
    "[**Object oriented programming**](https://en.wikipedia.org/wiki/Object-oriented_programming) is one of the most commonly used programming paradigms. It's based on bundling data together with functionality, i.e., it's a combination of a data structure and functions – called **methods** – that operate on the data of an object. \n",
    "\n",
    "**Classes** are templates or data types for **objects**. An object of a class is also called an **instance** of that class. \n",
    "\n",
    "Let's define a class:\n"
   ]
  },
  {
   "cell_type": "code",
   "execution_count": null,
   "metadata": {},
   "outputs": [],
   "source": [
    "class Person: \n",
    "    # a class variable, shared by all instances\n",
    "    name = \"blank\"\n",
    "    \n",
    "    # a method setting the value of a member\n",
    "    def set_name(self, name):\n",
    "        # write the parameter self to the member variable name\n",
    "        # both, \"self\" and \"name\" are arbitrary terms\n",
    "        self.name = name\n",
    "    \n",
    "    # a method that does something, without a variable\n",
    "    def print_name(self):\n",
    "        print(\"Name:\", self.name)"
   ]
  },
  {
   "cell_type": "markdown",
   "metadata": {},
   "source": [
    "Notice the use of the `class` keyword to define the class. \n",
    "\n",
    "Methods are defined just like functions, but they have the `self` variable. The name of that variable is actually not relevant, but it's customary to call it `self`. This is a reference to the specific instance. You don't specify that variable when you call the method, it's provided for you automatically based on the object you're calling. "
   ]
  },
  {
   "cell_type": "markdown",
   "metadata": {},
   "source": [
    "Here, we instantiate that class and set a parameter via a method; then use the `print_name()` method: "
   ]
  },
  {
   "cell_type": "code",
   "execution_count": null,
   "metadata": {},
   "outputs": [],
   "source": [
    "ringo = Person()\n",
    "# method without parameter\n",
    "ringo.print_name()\n",
    "# call a method with a parameter\n",
    "ringo.set_name(\"Ringo\")\n",
    "ringo.print_name()\n",
    "# accessing a class member\n",
    "ringo.name"
   ]
  },
  {
   "cell_type": "markdown",
   "metadata": {},
   "source": [
    "Here, we create a different person: "
   ]
  },
  {
   "cell_type": "code",
   "execution_count": null,
   "metadata": {},
   "outputs": [],
   "source": [
    "paul = Person()\n",
    "paul.set_name(\"Paul\")\n",
    "paul.print_name()\n",
    "ringo.print_name()"
   ]
  },
  {
   "cell_type": "markdown",
   "metadata": {},
   "source": [
    "If we ask for the data type of our ringo variable, we'll see that it's an instance of our class:"
   ]
  },
  {
   "cell_type": "code",
   "execution_count": null,
   "metadata": {},
   "outputs": [],
   "source": [
    "type(ringo)"
   ]
  },
  {
   "cell_type": "markdown",
   "metadata": {},
   "source": [
    "We can also use a shorthand to initialize objects with the required variables. We use the `__init__` method (the name matters here) to do that. "
   ]
  },
  {
   "cell_type": "code",
   "execution_count": null,
   "metadata": {},
   "outputs": [],
   "source": [
    "class Musician: \n",
    "    # instantiation operation\n",
    "    def __init__(self, name, instrument):\n",
    "        # an instance variable, specific to that instance\n",
    "        self.name = name\n",
    "        self.instrument = instrument\n",
    "    \n",
    "    def print_musician(self):\n",
    "        print(self.name, \"plays\", self.instrument)"
   ]
  },
  {
   "cell_type": "markdown",
   "metadata": {},
   "source": [
    "With this definition, we create an object and at the same time specify its parameters. "
   ]
  },
  {
   "cell_type": "code",
   "execution_count": null,
   "metadata": {},
   "outputs": [],
   "source": [
    "ringo = Musician(\"Ringo\", \"Drums\")\n",
    "ringo.print_musician()\n",
    "ringo.instrument"
   ]
  },
  {
   "cell_type": "markdown",
   "metadata": {},
   "source": [
    "If we have that signature, we also do have to use it. This will fail: "
   ]
  },
  {
   "cell_type": "code",
   "execution_count": null,
   "metadata": {},
   "outputs": [],
   "source": [
    "# will throw a Type Error because we didn't use the proper signature\n",
    "paul = Musician()"
   ]
  },
  {
   "cell_type": "markdown",
   "metadata": {},
   "source": [
    "A workaround is to use default values: "
   ]
  },
  {
   "cell_type": "code",
   "execution_count": null,
   "metadata": {},
   "outputs": [],
   "source": [
    "class Musician: \n",
    "    def __init__(self, name=\"default\", instrument=\"default\"):\n",
    "        # an instance varaible, specific to that instance\n",
    "        self.name = name\n",
    "        self.instrument = instrument\n",
    "    \n",
    "    def print_musician(self):\n",
    "        print(self.name, \"plays\", self.instrument)"
   ]
  },
  {
   "cell_type": "code",
   "execution_count": null,
   "metadata": {},
   "outputs": [],
   "source": [
    "paul = Musician()\n",
    "paul.print_musician()"
   ]
  },
  {
   "cell_type": "markdown",
   "metadata": {},
   "source": [
    "There is more to OO than what we covered here. For example, inheritence is a common paradigm that's also supported in Python. But what we've learned is enough to use objects that are provided by the libraries we'll be using. You can learn more from the [official documentation](https://docs.python.org/3/tutorial/classes.html). "
   ]
  },
  {
   "cell_type": "markdown",
   "metadata": {},
   "source": [
    "## 5. Working with Modules"
   ]
  },
  {
   "cell_type": "markdown",
   "metadata": {},
   "source": [
    "While we briefly touched on modules (remember the `import math` statement), we haven't really talked about what a module is. Modules are used, ugh, to modularize code. You can write a module by simply creating a `.py` file. We won't be writing many modules ourselves, but we will use them extensively.\n",
    "\n",
    "To import a module simply write\n",
    "\n",
    "```python\n",
    "import module_name\n",
    "```\n",
    "\n",
    "You can then use functions defined in the module with the `.` notation. Here's an example:"
   ]
  },
  {
   "cell_type": "code",
   "execution_count": null,
   "metadata": {},
   "outputs": [],
   "source": [
    "import math\n",
    "math.sqrt(9)"
   ]
  },
  {
   "cell_type": "markdown",
   "metadata": {},
   "source": [
    "We can also use the `from` notation to import specific functions from a package and add them directly to the namespace:"
   ]
  },
  {
   "cell_type": "code",
   "execution_count": null,
   "metadata": {},
   "outputs": [],
   "source": [
    "from math import log10\n",
    "# notice that this is NOT accessed via math.log10()\n",
    "log10(3)"
   ]
  },
  {
   "cell_type": "markdown",
   "metadata": {},
   "source": [
    "You can also bulk-import all functions of a module into your local namespace, however, this is **strongly discouraged**, as it can lead to name-clashes and makes your code unreadable eventually."
   ]
  },
  {
   "cell_type": "code",
   "execution_count": null,
   "metadata": {},
   "outputs": [],
   "source": [
    "from math import * \n",
    "log2(3)"
   ]
  },
  {
   "cell_type": "markdown",
   "metadata": {},
   "source": [
    "Finally, we can redefine the name of a module. This is useful to define a shorthand for long library names."
   ]
  },
  {
   "cell_type": "code",
   "execution_count": null,
   "metadata": {},
   "outputs": [],
   "source": [
    "import math as m \n",
    "m.sqrt(13)"
   ]
  }
 ],
 "metadata": {
  "anaconda-cloud": {},
  "kernelspec": {
   "display_name": "Python 3",
   "language": "python",
   "name": "python3"
  },
  "language_info": {
   "codemirror_mode": {
    "name": "ipython",
    "version": 3
   },
   "file_extension": ".py",
   "mimetype": "text/x-python",
   "name": "python",
   "nbconvert_exporter": "python",
   "pygments_lexer": "ipython3",
   "version": "3.8.3"
  },
  "nbpresent": {
   "slides": {
    "19a6495f-8346-4b23-a98a-c7115941e8f0": {
     "id": "19a6495f-8346-4b23-a98a-c7115941e8f0",
     "prev": null,
     "regions": {
      "d6523b36-7204-4001-8a6c-37c431b18d26": {
       "attrs": {
        "height": 1,
        "width": 1,
        "x": 0,
        "y": 0
       },
       "id": "d6523b36-7204-4001-8a6c-37c431b18d26"
      }
     }
    }
   },
   "themes": {}
  }
 },
 "nbformat": 4,
 "nbformat_minor": 1
}
