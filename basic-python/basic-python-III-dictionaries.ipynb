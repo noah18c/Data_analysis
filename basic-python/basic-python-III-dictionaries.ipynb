{
 "cells": [
  {
   "cell_type": "markdown",
   "metadata": {
    "nbpresent": {
     "id": "50a40f10-f4b6-4dd3-b7aa-c63ed3ca3244"
    },
    "slideshow": {
     "slide_type": "slide"
    }
   },
   "source": [
    "# Data Analysis\n",
    "\n",
    "# Python Intro, Part 3: Tuples, Sets, Dictionaries, Classes/Objects\n",
    "\n",
    "In this notebook we will, after a quick recap, introduce more data structures: tuples, sets, dictionaries, and series. Sets and dictionaries are built-in Python data structures, but we will mostly work with series and dataframes which are part of the [pandas library](http://pandas.pydata.org/) tailored to data science applications. We will also briefly introduce objects and object oriented programming. "
   ]
  },
  {
   "cell_type": "markdown",
   "metadata": {},
   "source": [
    "## If-Statements Recap\n",
    "\n",
    "* By using if-elif-else statements we can implement conditional flow in a program. \n",
    "* If an elif take a parameter that is tested for truthiness. The parameter can be a boolean (`True` or `False`), or any other data type. \n",
    "    * For numerical data types, 0 and None evaluates to false, everything else to true.\n",
    "    * For lists, strings, dictionaries, an empty container evaluates to false.\n",
    "\n",
    "See the [documentation](https://docs.python.org/3/library/stdtypes.html#truth-value-testing) to understand what is considered true and false."
   ]
  },
  {
   "cell_type": "code",
   "execution_count": 1,
   "metadata": {
    "nbpresent": {
     "id": "4df31c1d-fa43-4d1b-8d2f-7d5eb7771540"
    }
   },
   "outputs": [
    {
     "name": "stdout",
     "output_type": "stream",
     "text": [
      "2 is a factor of 4\n",
      "3 is a factor of 9\n",
      "Neither 2 nor 3 are factors of 13\n"
     ]
    }
   ],
   "source": [
    "def factors(x):\n",
    "    # notice the use of the negation and the use of 0 as false\n",
    "    if not x % 2:\n",
    "        print(\"2 is a factor of \" + str(x))  \n",
    "    elif not x % 3:     # only evaluated when if was false\n",
    "        print(\"3 is a factor of \" + str(x))\n",
    "    else: # only evaluated when both if and elif were false\n",
    "        print(\"Neither 2 nor 3 are factors of \" + str(x))\n",
    "\n",
    "factors(4)\n",
    "factors(9)\n",
    "factors(13)"
   ]
  },
  {
   "cell_type": "markdown",
   "metadata": {
    "nbpresent": {
     "id": "30fae315-d72a-442a-a7b5-b0a37b744dca"
    }
   },
   "source": [
    "\n",
    "## Lists Recap\n",
    "\n",
    "A list is a collection of items.\n",
    "\n",
    "Lists are created with square brackets `[]` and can be accessed via an index:"
   ]
  },
  {
   "cell_type": "code",
   "execution_count": 2,
   "metadata": {
    "nbpresent": {
     "id": "2cccc38c-08c9-47ec-8476-8198b5aef967"
    }
   },
   "outputs": [
    {
     "name": "stdout",
     "output_type": "stream",
     "text": [
      "['Paul', 'John', 'George', 'Ringo']\n",
      "Paul\n",
      "Ringo\n",
      "George\n"
     ]
    }
   ],
   "source": [
    "beatles = [\"Paul\", \"John\", \"George\", \"Ringo\"]\n",
    "# printing the whole array\n",
    "print(beatles)\n",
    "# printing the first element of that array, at index 0\n",
    "print(beatles[0])\n",
    "# fourth element, at index 3\n",
    "print(beatles[3])\n",
    "# access the one-but-last element\n",
    "print(beatles[-2])"
   ]
  },
  {
   "cell_type": "markdown",
   "metadata": {
    "nbpresent": {
     "id": "b095b5f4-64f4-4c92-b5ad-3430139e5829"
    }
   },
   "source": [
    "We can also create **slices of an array with the slice operator `:`**\n",
    "\n",
    "```python\n",
    "a[start:end] # items start through end-1\n",
    "a[start:]    # items start through the rest of the array\n",
    "a[:end]      # items from the beginning through end-1\n",
    "a[:]         # a copy of the whole array\n",
    "```\n",
    "There is also the step value, which can be used with any of the above:\n",
    "\n",
    "```python\n",
    "a[start:end:step] # start through not past end, by step\n",
    "```"
   ]
  },
  {
   "cell_type": "code",
   "execution_count": 3,
   "metadata": {
    "nbpresent": {
     "id": "6f27c412-dc29-4506-afa2-81e52922d8f2"
    }
   },
   "outputs": [
    {
     "data": {
      "text/plain": [
       "['Paul', 'John']"
      ]
     },
     "execution_count": 3,
     "metadata": {},
     "output_type": "execute_result"
    }
   ],
   "source": [
    "# Get the slice from 0 (included) to 2 (excluded)\n",
    "beatles[:2] # this can also be written as [0:2]"
   ]
  },
  {
   "cell_type": "markdown",
   "metadata": {},
   "source": [
    "The slice operation returns a new array, the original array is untouched: "
   ]
  },
  {
   "cell_type": "code",
   "execution_count": 4,
   "metadata": {
    "nbpresent": {
     "id": "a5368caf-1a8b-4f2e-9dd6-d9e57dc85b41"
    }
   },
   "outputs": [
    {
     "data": {
      "text/plain": [
       "['Paul', 'John', 'George', 'Ringo']"
      ]
     },
     "execution_count": 4,
     "metadata": {},
     "output_type": "execute_result"
    }
   ],
   "source": [
    "beatles"
   ]
  },
  {
   "cell_type": "markdown",
   "metadata": {
    "nbpresent": {
     "id": "7de0a434-d83b-4557-aa74-d81ee4b7ecbb"
    }
   },
   "source": [
    "**We can change the elements that are contained in a list**: "
   ]
  },
  {
   "cell_type": "code",
   "execution_count": 5,
   "metadata": {
    "nbpresent": {
     "id": "7d7aab61-0e11-4084-a70a-537a017c15fa"
    }
   },
   "outputs": [
    {
     "data": {
      "text/plain": [
       "['Paul', 'JohnYoko', 'George', 'Ringo']"
      ]
     },
     "execution_count": 5,
     "metadata": {},
     "output_type": "execute_result"
    }
   ],
   "source": [
    "beatles[1] = \"JohnYoko\"\n",
    "beatles"
   ]
  },
  {
   "cell_type": "markdown",
   "metadata": {
    "nbpresent": {
     "id": "31e45925-5bf1-42de-87ea-280dbb365665"
    }
   },
   "source": [
    "Lists can also be **extended in-place with the `append()` function**:"
   ]
  },
  {
   "cell_type": "code",
   "execution_count": 6,
   "metadata": {
    "nbpresent": {
     "id": "e2a6752b-e74d-48b4-b682-4ea811cef8a4"
    }
   },
   "outputs": [
    {
     "data": {
      "text/plain": [
       "['Paul', 'JohnYoko', 'George', 'Ringo', 'George Martin']"
      ]
     },
     "execution_count": 6,
     "metadata": {},
     "output_type": "execute_result"
    }
   ],
   "source": [
    "beatles.append(\"George Martin\")\n",
    "beatles"
   ]
  },
  {
   "cell_type": "markdown",
   "metadata": {
    "nbpresent": {
     "id": "cb8a4e24-90ef-4b0f-86de-b81bb5309d52"
    }
   },
   "source": [
    "Lists can be **concatenated**: "
   ]
  },
  {
   "cell_type": "code",
   "execution_count": 7,
   "metadata": {
    "nbpresent": {
     "id": "a4109ac9-938f-4db7-b7bb-bb899ad672ed"
    }
   },
   "outputs": [
    {
     "data": {
      "text/plain": [
       "['Paul',\n",
       " 'JohnYoko',\n",
       " 'George',\n",
       " 'Ringo',\n",
       " 'George Martin',\n",
       " 'Jimmy',\n",
       " 'Robert',\n",
       " 'John',\n",
       " 'John']"
      ]
     },
     "execution_count": 7,
     "metadata": {},
     "output_type": "execute_result"
    }
   ],
   "source": [
    "zeppelin = [\"Jimmy\", \"Robert\", \"John\", \"John\"]\n",
    "beatles += zeppelin\n",
    "beatles"
   ]
  },
  {
   "cell_type": "markdown",
   "metadata": {
    "nbpresent": {
     "id": "3927d6f8-3df3-4773-b08d-2b77acfffcd8"
    }
   },
   "source": [
    "We can **check the length** of a list:"
   ]
  },
  {
   "cell_type": "code",
   "execution_count": 8,
   "metadata": {
    "nbpresent": {
     "id": "bc27d3eb-1a47-465d-b1f4-930a833608de"
    }
   },
   "outputs": [
    {
     "data": {
      "text/plain": [
       "4"
      ]
     },
     "execution_count": 8,
     "metadata": {},
     "output_type": "execute_result"
    }
   ],
   "source": [
    "len(zeppelin)"
   ]
  },
  {
   "cell_type": "markdown",
   "metadata": {
    "nbpresent": {
     "id": "128555b4-e524-4d04-a9a8-2ceee3daffaf"
    }
   },
   "source": [
    "Lists can also be **nested**: "
   ]
  },
  {
   "cell_type": "code",
   "execution_count": 9,
   "metadata": {
    "nbpresent": {
     "id": "ab1b9e85-6252-4ee4-aa90-10cb955ab083"
    }
   },
   "outputs": [
    {
     "data": {
      "text/plain": [
       "[['Paul', 'John', 'George', 'Ringo'], ['Jimmy', 'Robert', 'John', 'John']]"
      ]
     },
     "execution_count": 9,
     "metadata": {},
     "output_type": "execute_result"
    }
   ],
   "source": [
    "# let's reset the beatles first\n",
    "beatles = [\"Paul\", \"John\", \"George\", \"Ringo\"]\n",
    "bands = [beatles, zeppelin]\n",
    "bands"
   ]
  },
  {
   "cell_type": "markdown",
   "metadata": {
    "nbpresent": {
     "id": "0c500e4e-a855-4aa2-9cca-95a56f781908"
    }
   },
   "source": [
    "### While Loop Recap\n",
    "\n",
    "While loops use the `while` keyword, a condition, and the loop body:"
   ]
  },
  {
   "cell_type": "code",
   "execution_count": 10,
   "metadata": {
    "nbpresent": {
     "id": "b33fcef8-e667-4577-8c01-61a2b4f6ace3"
    }
   },
   "outputs": [
    {
     "name": "stdout",
     "output_type": "stream",
     "text": [
      "1, 2, 3, 5, 8, 13, 21, 34, 55, 89, 144, 233, 377, 610, 987, "
     ]
    }
   ],
   "source": [
    "a, b = 1, 1\n",
    "while b < 1000:\n",
    "    print(b, end=\", \") \n",
    "    temp = b\n",
    "    b += a\n",
    "    a = temp\n",
    "    # a better way of writing this is using simultaneous assignment: \n",
    "    # a, b = b, a + b"
   ]
  },
  {
   "cell_type": "markdown",
   "metadata": {
    "nbpresent": {
     "id": "bba871db-05b8-4220-ae06-b398011ae901"
    }
   },
   "source": [
    "This continues, until the terminating condition is reached. \n",
    "\n",
    "We can also **use the `break` statement to terminate a loop**: "
   ]
  },
  {
   "cell_type": "code",
   "execution_count": 11,
   "metadata": {
    "nbpresent": {
     "id": "a9a27eaf-b9eb-40e6-ae90-8b5691544af7"
    }
   },
   "outputs": [
    {
     "name": "stdout",
     "output_type": "stream",
     "text": [
      "1, 2, 3, 5, 8, 13, 21, 34, 55, 89, 144, 233, 377, 610, 987, "
     ]
    }
   ],
   "source": [
    "a, b = 1, 1\n",
    "while True:\n",
    "    print(b, end=\", \") \n",
    "    a, b = b, a + b\n",
    "    if b > 1000:\n",
    "        break"
   ]
  },
  {
   "cell_type": "markdown",
   "metadata": {
    "nbpresent": {
     "id": "f5f9657e-8005-4ab0-ab73-56a84ec52eec"
    }
   },
   "source": [
    "### For Loop Recap\n",
    "\n",
    "\n",
    "For loops are mainly used to iterate over items of a sequence. "
   ]
  },
  {
   "cell_type": "code",
   "execution_count": 12,
   "metadata": {
    "nbpresent": {
     "id": "753d2989-7259-4a0d-82cf-648387a730e6"
    }
   },
   "outputs": [
    {
     "name": "stdout",
     "output_type": "stream",
     "text": [
      "Jimmy\n",
      "Robert\n",
      "John\n",
      "John\n"
     ]
    }
   ],
   "source": [
    "for member in zeppelin: \n",
    "    print(member)"
   ]
  },
  {
   "cell_type": "markdown",
   "metadata": {
    "nbpresent": {
     "id": "a7feecca-549b-42ad-bd24-6a90674cbbc5"
    }
   },
   "source": [
    "When you want to iterate over a sequence of numbers, use the [`range()`](https://docs.python.org/3/library/stdtypes.html#range) function. Range generates a sequence of numbers:"
   ]
  },
  {
   "cell_type": "code",
   "execution_count": 13,
   "metadata": {
    "nbpresent": {
     "id": "91ec5e27-b2c5-4cf4-959b-5162a3a2e0e9"
    }
   },
   "outputs": [
    {
     "name": "stdout",
     "output_type": "stream",
     "text": [
      "0\n",
      "1\n",
      "2\n",
      "3\n",
      "4\n",
      "5\n",
      "6\n",
      "7\n",
      "8\n",
      "9\n"
     ]
    }
   ],
   "source": [
    "for i in range(10): \n",
    "    print (i)"
   ]
  },
  {
   "cell_type": "markdown",
   "metadata": {},
   "source": [
    "We can use the `range(start, stop, step)` attributes to create custom indices:"
   ]
  },
  {
   "cell_type": "code",
   "execution_count": 14,
   "metadata": {},
   "outputs": [
    {
     "name": "stdout",
     "output_type": "stream",
     "text": [
      "9\n",
      "8\n",
      "7\n",
      "6\n",
      "5\n",
      "4\n",
      "3\n",
      "2\n",
      "1\n",
      "0\n"
     ]
    }
   ],
   "source": [
    "for i in range (9, -1, -1):\n",
    "    print (i)"
   ]
  },
  {
   "cell_type": "markdown",
   "metadata": {},
   "source": [
    "### List Comprehension Recap\n",
    "\n",
    "[List comprehension](https://docs.python.org/3.5/tutorial/datastructures.html#list-comprehensions) is a compact way to modify or create lists in python. \n",
    "\n",
    "Here is the syntax: \n",
    "\n",
    "```python\n",
    "[new_element for original_element in original_list] \n",
    "```\n",
    " * `new_element` can be any expression, including just a number, or an operation. You can also refer to the `original_element` in this expression. \n",
    " * `original_element` is just a member of the original list. Sometimes we don't need this original element, then we just write `_` by convention. \n",
    " * `original_list` is a list that I use as a basis for the list comprehension. This can be an existing list with data, or it can be a range expression. \n",
    " \n",
    "Here are some examples. Notice that you would just use a plain range function in practice for some of these examples.  "
   ]
  },
  {
   "cell_type": "code",
   "execution_count": 15,
   "metadata": {},
   "outputs": [
    {
     "data": {
      "text/plain": [
       "[0, 1, 2, 3, 4, 5, 6, 7, 8, 9]"
      ]
     },
     "execution_count": 15,
     "metadata": {},
     "output_type": "execute_result"
    }
   ],
   "source": [
    "my_list = list(range(10))\n",
    "my_list"
   ]
  },
  {
   "cell_type": "markdown",
   "metadata": {},
   "source": [
    "Initialize an list with 0s. We don't use the `original_element`, hence `_`."
   ]
  },
  {
   "cell_type": "code",
   "execution_count": 31,
   "metadata": {},
   "outputs": [
    {
     "data": {
      "text/plain": [
       "[0, 1, 2, 3, 4, 5, 6, 7, 8, 9]"
      ]
     },
     "execution_count": 31,
     "metadata": {},
     "output_type": "execute_result"
    }
   ],
   "source": [
    "[i for i in my_list]"
   ]
  },
  {
   "cell_type": "markdown",
   "metadata": {},
   "source": [
    "We can do the range in the list comprehension directly: "
   ]
  },
  {
   "cell_type": "code",
   "execution_count": null,
   "metadata": {},
   "outputs": [],
   "source": [
    "[0 for _ in range(10)]"
   ]
  },
  {
   "cell_type": "markdown",
   "metadata": {},
   "source": [
    "Here we use the `original_element`. This effectively copies the list. "
   ]
  },
  {
   "cell_type": "code",
   "execution_count": 32,
   "metadata": {},
   "outputs": [
    {
     "data": {
      "text/plain": [
       "[0, 1, 2, 3, 4, 5, 6, 7, 8, 9]"
      ]
     },
     "execution_count": 32,
     "metadata": {},
     "output_type": "execute_result"
    }
   ],
   "source": [
    "[original_element for original_element in my_list]"
   ]
  },
  {
   "cell_type": "markdown",
   "metadata": {},
   "source": [
    "Here we use an operation on the original_element in the list. "
   ]
  },
  {
   "cell_type": "code",
   "execution_count": 33,
   "metadata": {},
   "outputs": [
    {
     "data": {
      "text/plain": [
       "[0, 2, 4, 6, 8, 10, 12, 14, 16, 18]"
      ]
     },
     "execution_count": 33,
     "metadata": {},
     "output_type": "execute_result"
    }
   ],
   "source": [
    "[original_element*2 for original_element in my_list]"
   ]
  },
  {
   "cell_type": "markdown",
   "metadata": {},
   "source": [
    "Here I'm combining a slicing operation on `my_list` that inverts the order of `my_list` with a list comprehension. "
   ]
  },
  {
   "cell_type": "code",
   "execution_count": 42,
   "metadata": {},
   "outputs": [
    {
     "data": {
      "text/plain": [
       "[9, 6, 3, 0]"
      ]
     },
     "execution_count": 42,
     "metadata": {},
     "output_type": "execute_result"
    }
   ],
   "source": [
    "[original_element for original_element in my_list[::-3]]"
   ]
  },
  {
   "cell_type": "markdown",
   "metadata": {},
   "source": [
    "We've seen before that we can use functions in the list comprehension: "
   ]
  },
  {
   "cell_type": "code",
   "execution_count": 43,
   "metadata": {},
   "outputs": [
    {
     "data": {
      "text/plain": [
       "[10, 10, 10, 10, 10, 10, 10, 10, 10, 10]"
      ]
     },
     "execution_count": 43,
     "metadata": {},
     "output_type": "execute_result"
    }
   ],
   "source": [
    "[len(my_list) for _ in my_list]"
   ]
  },
  {
   "cell_type": "markdown",
   "metadata": {},
   "source": [
    "Or, with a more interesting example:"
   ]
  },
  {
   "cell_type": "code",
   "execution_count": 45,
   "metadata": {},
   "outputs": [
    {
     "data": {
      "text/plain": [
       "[1.569576821933596,\n",
       " 3.421971978284668,\n",
       " 1.476413837807723,\n",
       " 7.365450693690995,\n",
       " 8.741910357104981,\n",
       " 0.586639725892979,\n",
       " 3.136299694078226,\n",
       " 7.253021724278199,\n",
       " 0.7175287662153573,\n",
       " 3.310460927523411,\n",
       " 6.508289062476695,\n",
       " 8.832717875144937,\n",
       " 6.225891174543719,\n",
       " 6.877725687611087,\n",
       " 2.9895256313414587,\n",
       " 4.4100830221085605,\n",
       " 7.013510736649855,\n",
       " 0.5318925189940005,\n",
       " 1.051328910386683,\n",
       " 2.6830584536865776,\n",
       " 1.479966424443352,\n",
       " 2.6798363519524147,\n",
       " 2.465644884673208,\n",
       " 9.29125782565336,\n",
       " 2.4484928740866687,\n",
       " 6.370666493623805,\n",
       " 0.49971362205768477,\n",
       " 5.939432839945747,\n",
       " 2.2382683052315864,\n",
       " 7.425898736886198,\n",
       " 3.5174038559819043,\n",
       " 5.68009898542821,\n",
       " 9.828332457630584,\n",
       " 7.569139999112039,\n",
       " 3.7075154439518556,\n",
       " 7.250320351160937,\n",
       " 7.911460916597414,\n",
       " 7.765131108750115,\n",
       " 1.558024624535873,\n",
       " 0.6172436643299162,\n",
       " 0.06972312635117106,\n",
       " 8.129543953084168,\n",
       " 3.8924317279421627,\n",
       " 5.301553752864493,\n",
       " 5.28104855749648,\n",
       " 4.7687082815496655,\n",
       " 8.97840962604207,\n",
       " 5.72827723648361,\n",
       " 2.429101907456496,\n",
       " 6.4078804213658245,\n",
       " 6.981599018669582,\n",
       " 8.305515946349617,\n",
       " 5.3523495835727255,\n",
       " 0.6171019139932232,\n",
       " 5.9841768933938795,\n",
       " 8.912894491088315,\n",
       " 9.020252770149057,\n",
       " 0.6382761329421327,\n",
       " 9.335399558758677,\n",
       " 0.7043646775466994,\n",
       " 2.1074797660192934,\n",
       " 1.5552340262213293,\n",
       " 4.461887181827279,\n",
       " 9.8506281008761,\n",
       " 8.659428917033308,\n",
       " 4.770934064234597,\n",
       " 2.1853039949516195,\n",
       " 6.156065363258966,\n",
       " 7.936796915170766,\n",
       " 8.178000356643656,\n",
       " 9.361729729084661,\n",
       " 8.896090603507878,\n",
       " 3.1193311511880317,\n",
       " 8.022618451872965,\n",
       " 3.266146713238859,\n",
       " 9.545184414958419,\n",
       " 8.807839721159356,\n",
       " 6.618681364439787,\n",
       " 3.152877155550926,\n",
       " 0.369923244733098,\n",
       " 5.662165439251905,\n",
       " 3.1043794186224147,\n",
       " 8.174766644268722,\n",
       " 1.3074940517033995,\n",
       " 5.428621035565428,\n",
       " 3.5539388318032406,\n",
       " 2.3997939429221837,\n",
       " 6.89065676796643,\n",
       " 2.4622926184645086,\n",
       " 3.8142634143424847,\n",
       " 1.8116532408780417,\n",
       " 3.6619337393824214,\n",
       " 2.589264592534899,\n",
       " 8.919727066918611,\n",
       " 0.6003386569228375,\n",
       " 6.517510272238674,\n",
       " 3.4549090627200396,\n",
       " 7.940706638353357,\n",
       " 1.8352210917946687,\n",
       " 1.6364783515610748]"
      ]
     },
     "execution_count": 45,
     "metadata": {},
     "output_type": "execute_result"
    }
   ],
   "source": [
    "import random\n",
    "rands = [random.random() * 10 for _ in range(100)]\n",
    "rands"
   ]
  },
  {
   "cell_type": "markdown",
   "metadata": {},
   "source": [
    "## 1. Tuples\n",
    "\n",
    "[Tuples](https://docs.python.org/3/tutorial/datastructures.html#tuples-and-sequences) are a list-like data structure that are, in contrast to lists, **immutable**. \n",
    "\n",
    "The purpose of tuples is to store objects of different types. Remember that lists should only contain **homogeneous data** and numpy lists even enforce that; Tuples are designed for the **heterogeneous case**. \n",
    "\n",
    "Also, Tuples have practical implications for performance and `HashTables`, which we will discuss later. \n",
    "\n",
    "Here is how we can initalize a tuple: "
   ]
  },
  {
   "cell_type": "code",
   "execution_count": 46,
   "metadata": {},
   "outputs": [
    {
     "data": {
      "text/plain": [
       "('Alex', 1981, 'Computer Science')"
      ]
     },
     "execution_count": 46,
     "metadata": {},
     "output_type": "execute_result"
    }
   ],
   "source": [
    "person = \"Alex\", 1981, \"Computer Science\"\n",
    "person"
   ]
  },
  {
   "cell_type": "markdown",
   "metadata": {},
   "source": [
    "Initialization with brackets is prefered, since it's more explicit:"
   ]
  },
  {
   "cell_type": "code",
   "execution_count": 47,
   "metadata": {},
   "outputs": [
    {
     "data": {
      "text/plain": [
       "('Alex', 1981, 'Austria')"
      ]
     },
     "execution_count": 47,
     "metadata": {},
     "output_type": "execute_result"
    }
   ],
   "source": [
    "person = (\"Alex\", 1981, \"Austria\")\n",
    "person"
   ]
  },
  {
   "cell_type": "markdown",
   "metadata": {},
   "source": [
    "We can access them just like arrays: "
   ]
  },
  {
   "cell_type": "code",
   "execution_count": 48,
   "metadata": {},
   "outputs": [
    {
     "data": {
      "text/plain": [
       "1981"
      ]
     },
     "execution_count": 48,
     "metadata": {},
     "output_type": "execute_result"
    }
   ],
   "source": [
    "person[1]"
   ]
  },
  {
   "cell_type": "markdown",
   "metadata": {},
   "source": [
    "We cannot, however change values. This throws a **TypeError**."
   ]
  },
  {
   "cell_type": "code",
   "execution_count": 49,
   "metadata": {},
   "outputs": [
    {
     "ename": "TypeError",
     "evalue": "'tuple' object does not support item assignment",
     "output_type": "error",
     "traceback": [
      "\u001b[1;31m---------------------------------------------------------------------------\u001b[0m",
      "\u001b[1;31mTypeError\u001b[0m                                 Traceback (most recent call last)",
      "Cell \u001b[1;32mIn[49], line 2\u001b[0m\n\u001b[0;32m      1\u001b[0m \u001b[38;5;66;03m# throws TypeError\u001b[39;00m\n\u001b[1;32m----> 2\u001b[0m person[\u001b[38;5;241m1\u001b[39m] \u001b[38;5;241m=\u001b[39m \u001b[38;5;241m1985\u001b[39m\n",
      "\u001b[1;31mTypeError\u001b[0m: 'tuple' object does not support item assignment"
     ]
    }
   ],
   "source": [
    "# throws TypeError\n",
    "person[1] = 1985"
   ]
  },
  {
   "cell_type": "markdown",
   "metadata": {},
   "source": [
    "Arbitrary objects can be part of a tuple:"
   ]
  },
  {
   "cell_type": "code",
   "execution_count": 50,
   "metadata": {},
   "outputs": [
    {
     "data": {
      "text/plain": [
       "('Train 1', [15, 11])"
      ]
     },
     "execution_count": 50,
     "metadata": {},
     "output_type": "execute_result"
    }
   ],
   "source": [
    "train_schedule = (\"Train 1\", [9,11])\n",
    "# this works because we're modifying the mutable array within the immuatable tuple.\n",
    "train_schedule[1][0] = 15\n",
    "train_schedule"
   ]
  },
  {
   "cell_type": "markdown",
   "metadata": {},
   "source": [
    "Of course, that includes tuples:"
   ]
  },
  {
   "cell_type": "code",
   "execution_count": 51,
   "metadata": {},
   "outputs": [
    {
     "data": {
      "text/plain": [
       "('Train 1', (9, 11))"
      ]
     },
     "execution_count": 51,
     "metadata": {},
     "output_type": "execute_result"
    }
   ],
   "source": [
    "train_schedule = (\"Train 1\", (9,11))\n",
    "# this doesn't work\n",
    "# train_schedule[1][0] = 15\n",
    "train_schedule"
   ]
  },
  {
   "cell_type": "markdown",
   "metadata": {},
   "source": [
    "This allows us to create functions with **multiple return values**\n",
    "\n",
    "Consider the following code:"
   ]
  },
  {
   "cell_type": "code",
   "execution_count": 52,
   "metadata": {},
   "outputs": [],
   "source": [
    "def multiply(a, b, c):\n",
    "    return (a*b), (a*c), (b*c), (a*b*c)"
   ]
  },
  {
   "cell_type": "markdown",
   "metadata": {},
   "source": [
    "Here, it looks like we return multiple values - something that's not possible in most programming languages! But it's very convenient. In practice, we \"only\" return a tuple. \n",
    "\n",
    "Let's try it out:"
   ]
  },
  {
   "cell_type": "code",
   "execution_count": 53,
   "metadata": {},
   "outputs": [
    {
     "data": {
      "text/plain": [
       "(21, 33, 77, 231)"
      ]
     },
     "execution_count": 53,
     "metadata": {},
     "output_type": "execute_result"
    }
   ],
   "source": [
    "multiply(3, 7, 11)"
   ]
  },
  {
   "cell_type": "markdown",
   "metadata": {},
   "source": [
    "The round brackets in the returned values indicate what's going on: what is returned, is in fact, a tuple!\n",
    "\n",
    "We can use this return value to assign multiple variables at the same time:"
   ]
  },
  {
   "cell_type": "code",
   "execution_count": 54,
   "metadata": {},
   "outputs": [
    {
     "name": "stdout",
     "output_type": "stream",
     "text": [
      "21 33 77 231\n"
     ]
    }
   ],
   "source": [
    "ab, ac, bc, abc = multiply(3, 7, 11)\n",
    "print(ab, ac, bc, abc)"
   ]
  },
  {
   "cell_type": "markdown",
   "metadata": {},
   "source": [
    "To do this, no function is necessary. We can just do the following:"
   ]
  },
  {
   "cell_type": "code",
   "execution_count": 55,
   "metadata": {},
   "outputs": [
    {
     "name": "stdout",
     "output_type": "stream",
     "text": [
      "this is really nice\n"
     ]
    }
   ],
   "source": [
    "what, i_s, going, on = \"this\", \"is\", \"really\", \"nice\" # use () to be more explicit\n",
    "print(what, i_s, going, on)"
   ]
  },
  {
   "cell_type": "markdown",
   "metadata": {},
   "source": [
    "## 2. Sets"
   ]
  },
  {
   "cell_type": "markdown",
   "metadata": {},
   "source": [
    "A [set](https://docs.python.org/3/tutorial/datastructures.html#sets) is a mutable collection, similar to a list, however, it is\n",
    " * **not ordered**, and\n",
    " * **cannot contain the same element twice**\n",
    "\n",
    "Here is an example:"
   ]
  },
  {
   "cell_type": "code",
   "execution_count": 79,
   "metadata": {},
   "outputs": [
    {
     "data": {
      "text/plain": [
       "{'George', 'John', 'Paul', 'Ringo'}"
      ]
     },
     "execution_count": 79,
     "metadata": {},
     "output_type": "execute_result"
    }
   ],
   "source": [
    "# Initialize a set with {}\n",
    "beatles = {\"John\", \"Paul\", \"Ringo\", \"George\"}\n",
    "beatles"
   ]
  },
  {
   "cell_type": "markdown",
   "metadata": {},
   "source": [
    "Notice that on my machine, the output is in a different order from the input: \n",
    "`{'George', 'John', 'Paul', 'Ringo'}`\n",
    "\n",
    "We can also initalize a set with an array or a tuple:"
   ]
  },
  {
   "cell_type": "code",
   "execution_count": 57,
   "metadata": {},
   "outputs": [
    {
     "data": {
      "text/plain": [
       "{'Jimmy', 'John', 'Robert'}"
      ]
     },
     "execution_count": 57,
     "metadata": {},
     "output_type": "execute_result"
    }
   ],
   "source": [
    "usernames = set([\"Jimmy\", \"Robert\", \"John\", \"John\"])\n",
    "usernames"
   ]
  },
  {
   "cell_type": "markdown",
   "metadata": {},
   "source": [
    "We've initialized the set `usernames` with an array of names. We have chose a set, because we don't want to have duplicate user names. \n",
    "\n",
    "However, **in the second example, the array included a duplicate – John was specified twice**. We can see, however, that **John is contained in the set only once**.\n",
    "\n",
    "Sets are great for various tasks. For example, they can be used to remove duplicate entries from lists. Most importantly, they let you very efficiently check whether an element already exists. \n",
    "\n",
    "A set works based on a mathematical function that produces a \"hash code\". This hash code is then used as an index to an array. For example, \"Jimmy\" could hash to the value 13, and accordingly, Jimmy would be put at the 13th index of an array. When we want to test whether \"Jimmy\" is already in a set, we simply compute the hash, which will again produce 13, and then look up whether something is stored at index 13. \n",
    "\n",
    "We can check whether a set contains a value using the `in` keyword:"
   ]
  },
  {
   "cell_type": "code",
   "execution_count": 58,
   "metadata": {},
   "outputs": [
    {
     "data": {
      "text/plain": [
       "True"
      ]
     },
     "execution_count": 58,
     "metadata": {},
     "output_type": "execute_result"
    }
   ],
   "source": [
    "\"Jimmy\" in usernames"
   ]
  },
  {
   "cell_type": "code",
   "execution_count": 59,
   "metadata": {},
   "outputs": [
    {
     "data": {
      "text/plain": [
       "False"
      ]
     },
     "execution_count": 59,
     "metadata": {},
     "output_type": "execute_result"
    }
   ],
   "source": [
    "\"Ringo\" in usernames"
   ]
  },
  {
   "cell_type": "markdown",
   "metadata": {},
   "source": [
    "Note that this also works in lists, but if your set or list is large, this is considerably slower. "
   ]
  },
  {
   "cell_type": "code",
   "execution_count": 60,
   "metadata": {},
   "outputs": [
    {
     "data": {
      "text/plain": [
       "True"
      ]
     },
     "execution_count": 60,
     "metadata": {},
     "output_type": "execute_result"
    }
   ],
   "source": [
    "username_list = [\"Jimmy\", \"Robert\", \"John\", \"John\"]\n",
    "\"John\" in username_list"
   ]
  },
  {
   "cell_type": "markdown",
   "metadata": {},
   "source": [
    "We can add values using the add function on a set:"
   ]
  },
  {
   "cell_type": "code",
   "execution_count": 61,
   "metadata": {},
   "outputs": [
    {
     "data": {
      "text/plain": [
       "{'Jimmy', 'John', 'JohnB', 'Robert'}"
      ]
     },
     "execution_count": 61,
     "metadata": {},
     "output_type": "execute_result"
    }
   ],
   "source": [
    "usernames.add(\"JohnB\")\n",
    "usernames"
   ]
  },
  {
   "cell_type": "markdown",
   "metadata": {},
   "source": [
    "And remove elements with the remove function: "
   ]
  },
  {
   "cell_type": "code",
   "execution_count": 62,
   "metadata": {},
   "outputs": [
    {
     "data": {
      "text/plain": [
       "{'Jimmy', 'JohnB', 'Robert'}"
      ]
     },
     "execution_count": 62,
     "metadata": {},
     "output_type": "execute_result"
    }
   ],
   "source": [
    "usernames.remove(\"John\")\n",
    "usernames"
   ]
  },
  {
   "cell_type": "markdown",
   "metadata": {},
   "source": [
    "If the set doesn't contain a key we want to remove, it will throw a `KeyError`."
   ]
  },
  {
   "cell_type": "code",
   "execution_count": 63,
   "metadata": {},
   "outputs": [
    {
     "ename": "KeyError",
     "evalue": "'Joseph'",
     "output_type": "error",
     "traceback": [
      "\u001b[1;31m---------------------------------------------------------------------------\u001b[0m",
      "\u001b[1;31mKeyError\u001b[0m                                  Traceback (most recent call last)",
      "Cell \u001b[1;32mIn[63], line 1\u001b[0m\n\u001b[1;32m----> 1\u001b[0m usernames\u001b[38;5;241m.\u001b[39mremove(\u001b[38;5;124m\"\u001b[39m\u001b[38;5;124mJoseph\u001b[39m\u001b[38;5;124m\"\u001b[39m)\n",
      "\u001b[1;31mKeyError\u001b[0m: 'Joseph'"
     ]
    }
   ],
   "source": [
    "usernames.remove(\"Joseph\")"
   ]
  },
  {
   "cell_type": "markdown",
   "metadata": {},
   "source": [
    "To prevent that, it is advisable to first check whether a set actually contains a value, if you're not 100% sure: "
   ]
  },
  {
   "cell_type": "code",
   "execution_count": 64,
   "metadata": {},
   "outputs": [],
   "source": [
    "if (\"Joseph\" in usernames):\n",
    "    usernames.remove(\"Joseph\")"
   ]
  },
  {
   "cell_type": "markdown",
   "metadata": {},
   "source": [
    "We can iterate over the values of a set. Note, however, that no guarantee about the order of the set is made. "
   ]
  },
  {
   "cell_type": "code",
   "execution_count": 65,
   "metadata": {},
   "outputs": [
    {
     "name": "stdout",
     "output_type": "stream",
     "text": [
      "JohnB\n",
      "Jimmy\n",
      "Robert\n"
     ]
    }
   ],
   "source": [
    "for name in usernames:\n",
    "    print (name)"
   ]
  },
  {
   "cell_type": "markdown",
   "metadata": {},
   "source": [
    "Make sure to check out the [documentation](https://docs.python.org/3.5/library/stdtypes.html#set) to see what else a set can do. "
   ]
  },
  {
   "cell_type": "markdown",
   "metadata": {},
   "source": [
    "## Exercise 2: Sets\n",
    "\n",
    "Write a function that finds the overlap of two sets and prints them. Initialize two sets, e.g., with values `{13, 25, 37, 45, 13}` and `{14, 25, 38, 8, 45}` and call this function with them."
   ]
  },
  {
   "cell_type": "code",
   "execution_count": 93,
   "metadata": {},
   "outputs": [
    {
     "name": "stdout",
     "output_type": "stream",
     "text": [
      "{25, 45}\n"
     ]
    }
   ],
   "source": [
    "# your code\n",
    "def set_overlap(a: tuple, b: tuple):\n",
    "    intersecting_set = set()\n",
    "    for i in a:\n",
    "        if (i in b):\n",
    "            intersecting_set.add(i)\n",
    "    return intersecting_set\n",
    "\n",
    "x = {13,25,37,45,13}\n",
    "y = {14,25,38,8,45}\n",
    "print(set_overlap(x,y))"
   ]
  },
  {
   "cell_type": "code",
   "execution_count": 100,
   "metadata": {},
   "outputs": [
    {
     "name": "stdout",
     "output_type": "stream",
     "text": [
      "{25, 45}\n"
     ]
    }
   ],
   "source": [
    "def set_overlap2(a: tuple, b: tuple):\n",
    "    return set(i for i in a if i in b)\n",
    "\n",
    "\n",
    "\n",
    "x = {13,25,37,45,13}\n",
    "y = {14,25,38,8,45}\n",
    "print(set_overlap2(x,y))"
   ]
  },
  {
   "cell_type": "markdown",
   "metadata": {},
   "source": [
    "## 3. Dictionaries"
   ]
  },
  {
   "cell_type": "markdown",
   "metadata": {
    "collapsed": true
   },
   "source": [
    "[Dictionaries](https://docs.python.org/3/tutorial/datastructures.html#dictionaries) are related to sets, but are more powerful: in addition to the key used to identify an element in a set, dictionaries also store a value associated with a key. Other terms commonly used for dictionaries are *associative arrays*, *(hash) maps*, and *hash tables*. \n",
    "\n",
    "Here is a simple example:"
   ]
  },
  {
   "cell_type": "code",
   "execution_count": 96,
   "metadata": {},
   "outputs": [
    {
     "data": {
      "text/plain": [
       "{'John': 'Zeppelin',\n",
       " 'Jimmy': 'Zeppelin',\n",
       " 'Paul': 'Beatles',\n",
       " 'Ringo': 'Beatles'}"
      ]
     },
     "execution_count": 96,
     "metadata": {},
     "output_type": "execute_result"
    }
   ],
   "source": [
    "musicians = {\"John\":\"Zeppelin\", \"Jimmy\":\"Zeppelin\", \"Paul\":\"Beatles\", \"Ringo\":\"Beatles\"}\n",
    "musicians"
   ]
  },
  {
   "cell_type": "markdown",
   "metadata": {},
   "source": [
    "As we can see, a dictionary can be created with curly brackets and a list of key-value pairs, separated by a `:`. Here, the names are the keys, the bands are the values. \n",
    "\n",
    "There are other ways of creating a dictionary. Here, we pass a list of tuples to the dictionary, but we could also pass a list of lists."
   ]
  },
  {
   "cell_type": "code",
   "execution_count": 101,
   "metadata": {},
   "outputs": [
    {
     "data": {
      "text/plain": [
       "{'Thom': 'Radiohead', 'Dave': 'Foo Fighters'}"
      ]
     },
     "execution_count": 101,
     "metadata": {},
     "output_type": "execute_result"
    }
   ],
   "source": [
    "more_musicians = dict([(\"Thom\", \"Radiohead\"), (\"Dave\", \"Foo Fighters\")])\n",
    "more_musicians"
   ]
  },
  {
   "cell_type": "markdown",
   "metadata": {},
   "source": [
    "Of course, a dictionary can be of any data type. Here is an example with int as keys, floats as values:"
   ]
  },
  {
   "cell_type": "code",
   "execution_count": 103,
   "metadata": {},
   "outputs": [
    {
     "data": {
      "text/plain": [
       "{3: 1.45, 4: 1.32, 19: 9.97, 6: 9.99}"
      ]
     },
     "execution_count": 103,
     "metadata": {},
     "output_type": "execute_result"
    }
   ],
   "source": [
    "numbers = {3:1.45, 4:1.32, 19:9.97, 6:9.99}\n",
    "numbers"
   ]
  },
  {
   "cell_type": "markdown",
   "metadata": {},
   "source": [
    "Note that it's generally not a good idea to use floats as keys, as they are stored only as approximations.\n",
    "\n",
    "Dictionary elements are accessed just as elements in a list, with square brackets, but instead of the index, we pass in the key: "
   ]
  },
  {
   "cell_type": "code",
   "execution_count": 104,
   "metadata": {},
   "outputs": [
    {
     "data": {
      "text/plain": [
       "1.45"
      ]
     },
     "execution_count": 104,
     "metadata": {},
     "output_type": "execute_result"
    }
   ],
   "source": [
    "numbers[3]"
   ]
  },
  {
   "cell_type": "code",
   "execution_count": 105,
   "metadata": {},
   "outputs": [
    {
     "data": {
      "text/plain": [
       "'Zeppelin'"
      ]
     },
     "execution_count": 105,
     "metadata": {},
     "output_type": "execute_result"
    }
   ],
   "source": [
    "musicians[\"John\"]"
   ]
  },
  {
   "cell_type": "markdown",
   "metadata": {},
   "source": [
    "We can add elements to a dict:"
   ]
  },
  {
   "cell_type": "code",
   "execution_count": 106,
   "metadata": {},
   "outputs": [
    {
     "data": {
      "text/plain": [
       "{'John': 'Zeppelin',\n",
       " 'Jimmy': 'Zeppelin',\n",
       " 'Paul': 'Beatles',\n",
       " 'Ringo': 'Beatles',\n",
       " 'Thom': 'Radiohead'}"
      ]
     },
     "execution_count": 106,
     "metadata": {},
     "output_type": "execute_result"
    }
   ],
   "source": [
    "musicians[\"Thom\"] = \"Radiohead\"\n",
    "musicians"
   ]
  },
  {
   "cell_type": "markdown",
   "metadata": {},
   "source": [
    "And remove them using the `del` keyword:"
   ]
  },
  {
   "cell_type": "code",
   "execution_count": 107,
   "metadata": {},
   "outputs": [
    {
     "data": {
      "text/plain": [
       "{'John': 'Zeppelin',\n",
       " 'Jimmy': 'Zeppelin',\n",
       " 'Paul': 'Beatles',\n",
       " 'Ringo': 'Beatles'}"
      ]
     },
     "execution_count": 107,
     "metadata": {},
     "output_type": "execute_result"
    }
   ],
   "source": [
    "del musicians[\"Thom\"]\n",
    "musicians"
   ]
  },
  {
   "cell_type": "markdown",
   "metadata": {},
   "source": [
    "Again, we have to worry about key errors. If we want to remove Thom again, we'd get a `KeyError`."
   ]
  },
  {
   "cell_type": "code",
   "execution_count": 108,
   "metadata": {},
   "outputs": [
    {
     "ename": "KeyError",
     "evalue": "'Thom'",
     "output_type": "error",
     "traceback": [
      "\u001b[1;31m---------------------------------------------------------------------------\u001b[0m",
      "\u001b[1;31mKeyError\u001b[0m                                  Traceback (most recent call last)",
      "Cell \u001b[1;32mIn[108], line 1\u001b[0m\n\u001b[1;32m----> 1\u001b[0m \u001b[38;5;28;01mdel\u001b[39;00m musicians[\u001b[38;5;124m\"\u001b[39m\u001b[38;5;124mThom\u001b[39m\u001b[38;5;124m\"\u001b[39m]\n",
      "\u001b[1;31mKeyError\u001b[0m: 'Thom'"
     ]
    }
   ],
   "source": [
    "del musicians[\"Thom\"]"
   ]
  },
  {
   "cell_type": "markdown",
   "metadata": {},
   "source": [
    "We can access a list of keys and values separately: "
   ]
  },
  {
   "cell_type": "code",
   "execution_count": 109,
   "metadata": {},
   "outputs": [
    {
     "data": {
      "text/plain": [
       "dict_keys(['John', 'Jimmy', 'Paul', 'Ringo'])"
      ]
     },
     "execution_count": 109,
     "metadata": {},
     "output_type": "execute_result"
    }
   ],
   "source": [
    "musicians.keys()"
   ]
  },
  {
   "cell_type": "markdown",
   "metadata": {},
   "source": [
    "Notice that the result is not a list or a set, but a [view object](https://docs.python.org/3/library/stdtypes.html#dict-views). A view object always is updated when the dictionary is changed, and we can use it to iterate over a dictionary. "
   ]
  },
  {
   "cell_type": "code",
   "execution_count": 110,
   "metadata": {},
   "outputs": [
    {
     "name": "stdout",
     "output_type": "stream",
     "text": [
      "John\n",
      "Jimmy\n",
      "Paul\n",
      "Ringo\n"
     ]
    }
   ],
   "source": [
    "for musician in musicians.keys():\n",
    "    print(musician)"
   ]
  },
  {
   "cell_type": "markdown",
   "metadata": {},
   "source": [
    "This also works with `values()` and `items()`:"
   ]
  },
  {
   "cell_type": "code",
   "execution_count": 111,
   "metadata": {},
   "outputs": [
    {
     "data": {
      "text/plain": [
       "dict_values(['Zeppelin', 'Zeppelin', 'Beatles', 'Beatles'])"
      ]
     },
     "execution_count": 111,
     "metadata": {},
     "output_type": "execute_result"
    }
   ],
   "source": [
    "musicians.values()"
   ]
  },
  {
   "cell_type": "code",
   "execution_count": 112,
   "metadata": {},
   "outputs": [
    {
     "data": {
      "text/plain": [
       "dict_items([('John', 'Zeppelin'), ('Jimmy', 'Zeppelin'), ('Paul', 'Beatles'), ('Ringo', 'Beatles')])"
      ]
     },
     "execution_count": 112,
     "metadata": {},
     "output_type": "execute_result"
    }
   ],
   "source": [
    "musicians.items()"
   ]
  },
  {
   "cell_type": "markdown",
   "metadata": {},
   "source": [
    "The latter is especially handy for iterating over the key-value pairs in a dictionary:"
   ]
  },
  {
   "cell_type": "code",
   "execution_count": 113,
   "metadata": {},
   "outputs": [
    {
     "name": "stdout",
     "output_type": "stream",
     "text": [
      "John, Band: Zeppelin\n",
      "Jimmy, Band: Zeppelin\n",
      "Paul, Band: Beatles\n",
      "Ringo, Band: Beatles\n"
     ]
    }
   ],
   "source": [
    "# notice that we iterate over the tuples and have the elements of the tuple assigned to k and v, respectively.\n",
    "for k, v in musicians.items():\n",
    "    print (k + \", Band: \" + v)"
   ]
  },
  {
   "cell_type": "markdown",
   "metadata": {},
   "source": [
    "Another way to write the previous expression would be like this: "
   ]
  },
  {
   "cell_type": "code",
   "execution_count": 114,
   "metadata": {},
   "outputs": [
    {
     "name": "stdout",
     "output_type": "stream",
     "text": [
      "John, Band: Zeppelin\n",
      "Jimmy, Band: Zeppelin\n",
      "Paul, Band: Beatles\n",
      "Ringo, Band: Beatles\n"
     ]
    }
   ],
   "source": [
    "for k in musicians.keys():\n",
    "    print(k + \", Band: \" +  musicians[k])"
   ]
  },
  {
   "cell_type": "markdown",
   "metadata": {},
   "source": [
    "Make sure to check out [the dictionary documentation](https://docs.python.org/3/library/stdtypes.html#typesmapping) for more info. "
   ]
  },
  {
   "cell_type": "markdown",
   "metadata": {},
   "source": [
    "### Exercise 3: Dictionaries\n",
    "\n",
    " * Create a dictionary with two-letter codes of two of US states and the full names, e.g., UT: Utah, NY: New York\n",
    " * After initially creating the dictionary, add two more states to the dictionary.\n",
    " * Create a second dictionary that maps the state codes to an array of cities in that state, e.g., UT: [Salt Lake City, Ogden, Provo, St. George]. \n",
    " * Write a function that takes a state code and prints the full name of the state and lists the cities in that state."
   ]
  },
  {
   "cell_type": "code",
   "execution_count": 118,
   "metadata": {},
   "outputs": [
    {
     "name": "stdout",
     "output_type": "stream",
     "text": [
      "Brabant: ('Eindhoven', 'Den Bosch', 'Kaatsheuvel')\n"
     ]
    }
   ],
   "source": [
    "nl_provincies = {\"LI\": \"Limburg\", \"NH\": \"Noord Holland\"}\n",
    "nl_provincies[\"BR\"] = \"Brabant\"\n",
    "nl_provincies[\"ZH\"] = \"Zuid Holland\"\n",
    "\n",
    "nl_steden = {\"LI\": (\"Maastricht\", \"Hulsberg\", \"Valkenburg\"), \"BR\": (\"Eindhoven\", \"Den Bosch\", \"Kaatsheuvel\"), \"NH\": (\"Amsterdam\", \"Haarlem\", \"Alkmaar\"), \"ZH\": (\"Rotterdam\", \"Den Haag\", \"Delft\", \"Gouda\")}\n",
    "\n",
    "def stad_mapper(state_code: str):\n",
    "    print(nl_provincies[state_code], nl_steden[state_code], sep = \": \")\n",
    "\n",
    "stad_mapper(\"BR\")"
   ]
  },
  {
   "cell_type": "markdown",
   "metadata": {},
   "source": [
    "## 4. Classes and Objects\n",
    "*Note that this is not a detailed introduction into OOP and we glance over a lot of subtleties and use terminology loosely*\n",
    "\n",
    "We won't be actively doing much object-oriented programming in this class, but we will frequently use objects as they are returned by a library. \n",
    "\n",
    "**Objects** are a data-structure that you can customize completely. They also provide interfaces to manipulate that data. \n",
    "\n",
    "[**Object oriented programming**](https://en.wikipedia.org/wiki/Object-oriented_programming) is one of the most commonly used programming paradigms. It's based on bundling data together with functionality, i.e., it's a combination of a data structure and functions – called **methods** – that operate on the data of an object. \n",
    "\n",
    "**Classes** are templates or data types for **objects**. An object of a class is also called an **instance** of that class. \n",
    "\n",
    "Let's define a class:\n"
   ]
  },
  {
   "cell_type": "code",
   "execution_count": 120,
   "metadata": {},
   "outputs": [],
   "source": [
    "class Person: \n",
    "    # a class variable, shared by all instances\n",
    "    name = \"blank\"\n",
    "    \n",
    "    # a method setting the value of a member\n",
    "    def set_name(self, name):\n",
    "        # write the parameter self to the member variable name\n",
    "        # both, \"self\" and \"name\" are arbitrary terms\n",
    "        self.name = name\n",
    "    \n",
    "    # a method that does something, without a variable\n",
    "    def print_name(self):\n",
    "        print(\"Name:\", self.name)"
   ]
  },
  {
   "cell_type": "markdown",
   "metadata": {},
   "source": [
    "Notice the use of the `class` keyword to define the class. \n",
    "\n",
    "Methods are defined just like functions, but they have the `self` variable. The name of that variable is actually not relevant, but it's customary to call it `self`. This is a reference to the specific instance. You don't specify that variable when you call the method, it's provided for you automatically based on the object you're calling. "
   ]
  },
  {
   "cell_type": "markdown",
   "metadata": {},
   "source": [
    "Here, we instantiate that class and set a parameter via a method; then use the `print_name()` method: "
   ]
  },
  {
   "cell_type": "code",
   "execution_count": 121,
   "metadata": {},
   "outputs": [
    {
     "name": "stdout",
     "output_type": "stream",
     "text": [
      "Name: blank\n",
      "Name: Ringo\n"
     ]
    },
    {
     "data": {
      "text/plain": [
       "'Ringo'"
      ]
     },
     "execution_count": 121,
     "metadata": {},
     "output_type": "execute_result"
    }
   ],
   "source": [
    "ringo = Person()\n",
    "# method without parameter\n",
    "ringo.print_name()\n",
    "# call a method with a parameter\n",
    "ringo.set_name(\"Ringo\")\n",
    "ringo.print_name()\n",
    "# accessing a class member\n",
    "ringo.name"
   ]
  },
  {
   "cell_type": "markdown",
   "metadata": {},
   "source": [
    "Here, we create a different person: "
   ]
  },
  {
   "cell_type": "code",
   "execution_count": 122,
   "metadata": {},
   "outputs": [
    {
     "name": "stdout",
     "output_type": "stream",
     "text": [
      "Name: Paul\n",
      "Name: Ringo\n"
     ]
    }
   ],
   "source": [
    "paul = Person()\n",
    "paul.set_name(\"Paul\")\n",
    "paul.print_name()\n",
    "ringo.print_name()"
   ]
  },
  {
   "cell_type": "markdown",
   "metadata": {},
   "source": [
    "If we ask for the data type of our ringo variable, we'll see that it's an instance of our class:"
   ]
  },
  {
   "cell_type": "code",
   "execution_count": 123,
   "metadata": {},
   "outputs": [
    {
     "data": {
      "text/plain": [
       "__main__.Person"
      ]
     },
     "execution_count": 123,
     "metadata": {},
     "output_type": "execute_result"
    }
   ],
   "source": [
    "type(ringo)"
   ]
  },
  {
   "cell_type": "markdown",
   "metadata": {},
   "source": [
    "We can also use a shorthand to initialize objects with the required variables. We use the `__init__` method (the name matters here) to do that. "
   ]
  },
  {
   "cell_type": "code",
   "execution_count": 126,
   "metadata": {},
   "outputs": [],
   "source": [
    "class Musician: \n",
    "    # instantiation operation\n",
    "    def __init__(self, name, instrument):\n",
    "        # an instance variable, specific to that instance\n",
    "        self.name = name\n",
    "        self.instrument = instrument\n",
    "    \n",
    "    def print_musician(self):\n",
    "        print(self.name, \"plays\", self.instrument)"
   ]
  },
  {
   "cell_type": "markdown",
   "metadata": {},
   "source": [
    "With this definition, we create an object and at the same time specify its parameters. "
   ]
  },
  {
   "cell_type": "code",
   "execution_count": 127,
   "metadata": {},
   "outputs": [
    {
     "name": "stdout",
     "output_type": "stream",
     "text": [
      "Ringo plays Drums\n"
     ]
    },
    {
     "data": {
      "text/plain": [
       "'Drums'"
      ]
     },
     "execution_count": 127,
     "metadata": {},
     "output_type": "execute_result"
    }
   ],
   "source": [
    "ringo = Musician(\"Ringo\", \"Drums\")\n",
    "ringo.print_musician()\n",
    "ringo.instrument"
   ]
  },
  {
   "cell_type": "markdown",
   "metadata": {},
   "source": [
    "If we have that signature, we also do have to use it. This will fail: "
   ]
  },
  {
   "cell_type": "code",
   "execution_count": 128,
   "metadata": {},
   "outputs": [
    {
     "ename": "TypeError",
     "evalue": "Musician.__init__() missing 2 required positional arguments: 'name' and 'instrument'",
     "output_type": "error",
     "traceback": [
      "\u001b[1;31m---------------------------------------------------------------------------\u001b[0m",
      "\u001b[1;31mTypeError\u001b[0m                                 Traceback (most recent call last)",
      "Cell \u001b[1;32mIn[128], line 2\u001b[0m\n\u001b[0;32m      1\u001b[0m \u001b[38;5;66;03m# will throw a Type Error because we didn't use the proper signature\u001b[39;00m\n\u001b[1;32m----> 2\u001b[0m paul \u001b[38;5;241m=\u001b[39m Musician()\n",
      "\u001b[1;31mTypeError\u001b[0m: Musician.__init__() missing 2 required positional arguments: 'name' and 'instrument'"
     ]
    }
   ],
   "source": [
    "# will throw a Type Error because we didn't use the proper signature\n",
    "paul = Musician()"
   ]
  },
  {
   "cell_type": "markdown",
   "metadata": {},
   "source": [
    "A workaround is to use default values: "
   ]
  },
  {
   "cell_type": "code",
   "execution_count": 129,
   "metadata": {},
   "outputs": [],
   "source": [
    "class Musician: \n",
    "    def __init__(self, name=\"default\", instrument=\"default\"):\n",
    "        # an instance varaible, specific to that instance\n",
    "        self.name = name\n",
    "        self.instrument = instrument\n",
    "    \n",
    "    def print_musician(self):\n",
    "        print(self.name, \"plays\", self.instrument)"
   ]
  },
  {
   "cell_type": "code",
   "execution_count": 130,
   "metadata": {},
   "outputs": [
    {
     "name": "stdout",
     "output_type": "stream",
     "text": [
      "default plays default\n"
     ]
    }
   ],
   "source": [
    "paul = Musician()\n",
    "paul.print_musician()"
   ]
  },
  {
   "cell_type": "markdown",
   "metadata": {},
   "source": [
    "There is more to OO than what we covered here. For example, inheritence is a common paradigm that's also supported in Python. But what we've learned is enough to use objects that are provided by the libraries we'll be using. You can learn more from the [official documentation](https://docs.python.org/3/tutorial/classes.html). "
   ]
  },
  {
   "cell_type": "markdown",
   "metadata": {},
   "source": [
    "## 5. Working with Modules"
   ]
  },
  {
   "cell_type": "markdown",
   "metadata": {},
   "source": [
    "While we briefly touched on modules (remember the `import math` statement), we haven't really talked about what a module is. Modules are used, ugh, to modularize code. You can write a module by simply creating a `.py` file. We won't be writing many modules ourselves, but we will use them extensively.\n",
    "\n",
    "To import a module simply write\n",
    "\n",
    "```python\n",
    "import module_name\n",
    "```\n",
    "\n",
    "You can then use functions defined in the module with the `.` notation. Here's an example:"
   ]
  },
  {
   "cell_type": "code",
   "execution_count": 131,
   "metadata": {},
   "outputs": [
    {
     "data": {
      "text/plain": [
       "3.0"
      ]
     },
     "execution_count": 131,
     "metadata": {},
     "output_type": "execute_result"
    }
   ],
   "source": [
    "import math\n",
    "math.sqrt(9)"
   ]
  },
  {
   "cell_type": "markdown",
   "metadata": {},
   "source": [
    "We can also use the `from` notation to import specific functions from a package and add them directly to the namespace:"
   ]
  },
  {
   "cell_type": "code",
   "execution_count": 132,
   "metadata": {},
   "outputs": [
    {
     "data": {
      "text/plain": [
       "0.47712125471966244"
      ]
     },
     "execution_count": 132,
     "metadata": {},
     "output_type": "execute_result"
    }
   ],
   "source": [
    "from math import log10\n",
    "# notice that this is NOT accessed via math.log10()\n",
    "log10(3)"
   ]
  },
  {
   "cell_type": "markdown",
   "metadata": {},
   "source": [
    "You can also bulk-import all functions of a module into your local namespace, however, this is **strongly discouraged**, as it can lead to name-clashes and makes your code unreadable eventually."
   ]
  },
  {
   "cell_type": "code",
   "execution_count": 133,
   "metadata": {},
   "outputs": [
    {
     "data": {
      "text/plain": [
       "1.584962500721156"
      ]
     },
     "execution_count": 133,
     "metadata": {},
     "output_type": "execute_result"
    }
   ],
   "source": [
    "from math import * \n",
    "log2(3)"
   ]
  },
  {
   "cell_type": "markdown",
   "metadata": {},
   "source": [
    "Finally, we can redefine the name of a module. This is useful to define a shorthand for long library names."
   ]
  },
  {
   "cell_type": "code",
   "execution_count": 134,
   "metadata": {},
   "outputs": [
    {
     "data": {
      "text/plain": [
       "3.605551275463989"
      ]
     },
     "execution_count": 134,
     "metadata": {},
     "output_type": "execute_result"
    }
   ],
   "source": [
    "import math as m \n",
    "m.sqrt(13)"
   ]
  },
  {
   "cell_type": "code",
   "execution_count": null,
   "metadata": {},
   "outputs": [],
   "source": []
  }
 ],
 "metadata": {
  "anaconda-cloud": {},
  "kernelspec": {
   "display_name": "Python 3",
   "language": "python",
   "name": "python3"
  },
  "language_info": {
   "codemirror_mode": {
    "name": "ipython",
    "version": 3
   },
   "file_extension": ".py",
   "mimetype": "text/x-python",
   "name": "python",
   "nbconvert_exporter": "python",
   "pygments_lexer": "ipython3",
   "version": "3.11.5"
  },
  "nbpresent": {
   "slides": {
    "19a6495f-8346-4b23-a98a-c7115941e8f0": {
     "id": "19a6495f-8346-4b23-a98a-c7115941e8f0",
     "prev": null,
     "regions": {
      "d6523b36-7204-4001-8a6c-37c431b18d26": {
       "attrs": {
        "height": 1,
        "width": 1,
        "x": 0,
        "y": 0
       },
       "id": "d6523b36-7204-4001-8a6c-37c431b18d26"
      }
     }
    }
   },
   "themes": {}
  }
 },
 "nbformat": 4,
 "nbformat_minor": 1
}
